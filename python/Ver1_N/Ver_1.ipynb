{
 "cells": [
  {
   "cell_type": "code",
   "execution_count": 1,
   "metadata": {},
   "outputs": [],
   "source": [
    "import numpy as np\n",
    "import numpy as np\n",
    "import pandas as pd\n",
    "#import WindFarmGenetic_v1 # wind farm layout optimization using genetic algorithms classes\n",
    "from datetime import datetime\n",
    "import os\n",
    "from sklearn.svm import SVR\n",
    "import pickle\n"
   ]
  },
  {
   "cell_type": "code",
   "execution_count": 2,
   "metadata": {},
   "outputs": [
    {
     "data": {
      "text/plain": [
       "'/home/naveen/arena/hackathon/shell/hackathon/python/Ver1_N'"
      ]
     },
     "execution_count": 2,
     "metadata": {},
     "output_type": "execute_result"
    }
   ],
   "source": [
    "import os\n",
    "os.getcwd()"
   ]
  },
  {
   "cell_type": "code",
   "execution_count": 3,
   "metadata": {},
   "outputs": [],
   "source": [
    "##\n",
    "wt_N=50  #number of turbines\n",
    "NA_loc=[]  #index of obstructed locations\n",
    "population_size=10  #population size/number of layouts for genetic algorithms\n",
    "n_mc_samples=100 #population/layout for SVM training\n",
    "iteration_times=100  #number of iterations\n",
    "\n",
    "# wind farm size, cells\n",
    "cols_cells = 80  # number of cells each row\n",
    "rows_cells = 80  # number of cells each column\n",
    "cell_width = 50 # unit (TBD)--> have to be computed.\n",
    "constraint_dist = 400 #unit distance between two turbines\n",
    "constraint_perim = 50\n",
    "\n",
    "radius=np.ceil(constraint_dist/cell_width)\n",
    "\n",
    "#genetic algorithmic parameters.\n",
    "elite_rate = 0.2 \n",
    "cross_rate = 0.6\n",
    "mutate_rate = 0.1\n",
    "\n",
    "random_rate = 0.5\n",
    "num_runs=10 #number of independent runs with random initialization.\n"
   ]
  },
  {
   "cell_type": "code",
   "execution_count": 4,
   "metadata": {},
   "outputs": [],
   "source": [
    "perim_cells=np.ceil(constraint_perim/cell_width) #TBU generalize it for multiple boundary cells.\n",
    "NA_loc=[] \n",
    "NA_loc.extend([i for i in range(cols_cells)]) #upper row\n",
    "NA_loc.extend([i*(cols_cells) for i in range(rows_cells)]) #left boundary\n",
    "NA_loc.extend([i*(cols_cells)+cols_cells-1 for i in range(rows_cells)])#right Boundary\n",
    "NA_loc.extend([(cols_cells)*(rows_cells-1)+i for i in range(rows_cells)])#right Boundary\n"
   ]
  },
  {
   "cell_type": "code",
   "execution_count": 5,
   "metadata": {},
   "outputs": [],
   "source": [
    "data_folder = \"naveen_data\" #temporary code related files. (MOdify it as per your specification)\n",
    "svr_model_filename = 'svr_1s1d_N_13.svr' #svr training file.\n",
    "if not os.path.exists(data_folder):\n",
    "    os.makedirs(data_folder)\n",
    "\n",
    "wds_data_folder = \"{}/wds\".format(data_folder)\n",
    "if not os.path.exists(wds_data_folder):\n",
    "    os.makedirs(wds_data_folder)\n",
    "    \n",
    "# initial populations saved folder\n",
    "init_pops_data_folder = \"{}/init_data\".format(data_folder)\n",
    "if not os.path.exists(init_pops_data_folder):\n",
    "    os.makedirs(init_pops_data_folder)\n",
    "\n",
    "#result folder\n",
    "results_data_folder = data_folder+\"/results\"\n",
    "if not os.path.exists(results_data_folder):\n",
    "    os.makedirs(results_data_folder)\n",
    "    \n",
    "#result folder for sugga genetic algorithm\n",
    "sg_result_folder = \"{}/sg\".format(results_data_folder)\n",
    "if not os.path.exists(sg_result_folder):\n",
    "    os.makedirs(sg_result_folder)"
   ]
  },
  {
   "cell_type": "code",
   "execution_count": 6,
   "metadata": {},
   "outputs": [],
   "source": [
    "import WindFarmGenetic_v1 as WindFarmGenetic\n",
    "wfg = WindFarmGenetic.WindFarmGenetic(rows=rows_cells, cols=cols_cells, N=wt_N, NA_loc=NA_loc, pop_size=population_size,\n",
    "                                      iteration=iteration_times,cell_width=cell_width, elite_rate=elite_rate,\n",
    "                                             cross_rate=cross_rate, random_rate=random_rate, mutate_rate=mutate_rate,constraint_dist=constraint_dist)"
   ]
  },
  {
   "cell_type": "code",
   "execution_count": 7,
   "metadata": {},
   "outputs": [
    {
     "name": "stderr",
     "output_type": "stream",
     "text": [
      "Generation layout: 100%|██████████| 10/10 [00:03<00:00,  2.85it/s]\n",
      "Generation layout: 100%|██████████| 10/10 [00:03<00:00,  2.84it/s]\n",
      "Generation layout: 100%|██████████| 10/10 [00:03<00:00,  2.87it/s]\n",
      "Generation layout: 100%|██████████| 10/10 [00:03<00:00,  2.77it/s]\n",
      "Generation layout: 100%|██████████| 10/10 [00:03<00:00,  2.83it/s]\n",
      "Generation layout: 100%|██████████| 10/10 [00:03<00:00,  2.96it/s]\n",
      "Generation layout: 100%|██████████| 10/10 [00:03<00:00,  2.97it/s]\n",
      "Generation layout: 100%|██████████| 10/10 [00:03<00:00,  2.90it/s]\n",
      "Generation layout: 100%|██████████| 10/10 [00:03<00:00,  2.86it/s]\n",
      "Generation layout: 100%|██████████| 10/10 [00:03<00:00,  2.78it/s]\n"
     ]
    }
   ],
   "source": [
    "for i in range(num_runs):\n",
    "    wfg.gen_init_pop_NA()\n",
    "    wfg.save_init_pop_NA(\"{}/init_{}.dat\".format(init_pops_data_folder, i),\n",
    "                         \"{}/init_{}_NA.dat\".format(init_pops_data_folder, i))"
   ]
  },
  {
   "cell_type": "code",
   "execution_count": 8,
   "metadata": {},
   "outputs": [
    {
     "name": "stderr",
     "output_type": "stream",
     "text": [
      "Generation layout: 100%|██████████| 100/100 [00:35<00:00,  2.81it/s]\n"
     ]
    }
   ],
   "source": [
    "##Generate initial layouts: single layout--> 1d array of size row*col, layouts are set of num_training_sample_SVM different(random) layouts.  \n",
    "train_mc_layouts, train_mc_layouts_NA = WindFarmGenetic.LayoutGridMCGenerator.gen_mc_grid_with_NA_loc_circle(rows_cells,\n",
    "                                                                                                      cols_cells,\n",
    "                                                                                                      n_mc_samples,\n",
    "                                                                                                      wt_N, NA_loc,radius,\n",
    "                                                                                                      \"{}/mc_layout.dat\".format(wds_data_folder),\n",
    "                                                                                                      \"{}/mc_layout_NA.dat\".format(wds_data_folder))\n",
    "\n",
    "layouts = np.genfromtxt(\"{}/mc_layout.dat\".format(wds_data_folder), delimiter=\"  \", dtype=np.int32)"
   ]
  },
  {
   "cell_type": "code",
   "execution_count": 9,
   "metadata": {},
   "outputs": [
    {
     "name": "stderr",
     "output_type": "stream",
     "text": [
      "layouts: 100%|██████████| 100/100 [00:23<00:00,  4.30it/s]\n"
     ]
    }
   ],
   "source": [
    "\n",
    "wfg.mc_gen_xy_NA_hackathon(rows=rows_cells, cols=cols_cells, layouts=layouts, n=n_mc_samples, N=wt_N,  xfname=\"{}/x.dat\".format(wds_data_folder),\n",
    "                 yfname=\"{}/y.dat\".format(wds_data_folder))"
   ]
  },
  {
   "cell_type": "code",
   "execution_count": 10,
   "metadata": {},
   "outputs": [],
   "source": [
    "x_original = pd.read_csv(\"{}/x.dat\".format(wds_data_folder), header=None, nrows=rows_cells * cols_cells,\n",
    "                         delim_whitespace=True, dtype=np.float32)\n",
    "x_original = x_original.values"
   ]
  },
  {
   "cell_type": "code",
   "execution_count": 11,
   "metadata": {},
   "outputs": [],
   "source": [
    "y_original = pd.read_csv(\"{}/y.dat\".format(wds_data_folder), header=None, nrows=rows_cells * cols_cells,\n",
    "                         delim_whitespace=True, dtype=np.float32)\n",
    "y_original = y_original.values.flatten()"
   ]
  },
  {
   "cell_type": "code",
   "execution_count": 12,
   "metadata": {},
   "outputs": [
    {
     "name": "stdout",
     "output_type": "stream",
     "text": [
      "(6400, 2)\n",
      "(6400,)\n"
     ]
    }
   ],
   "source": [
    "print(x_original.shape)\n",
    "print(y_original.shape)"
   ]
  },
  {
   "cell_type": "code",
   "execution_count": null,
   "metadata": {},
   "outputs": [],
   "source": [
    "# create a SVR object and specify the kernal and other parameters\n",
    "svr_model = SVR(kernel='rbf', C=2000.0, gamma=0.3, epsilon=.1)\n",
    "# build the SVR power distribution model\n",
    "svr_model.fit(x_original, y_original)\n",
    "\n",
    "# save the SVR model to a file\n",
    "pickle.dump(svr_model, open(\"{}/{}\".format(wds_data_folder, svr_model_filename), 'wb'))"
   ]
  },
  {
   "cell_type": "code",
   "execution_count": null,
   "metadata": {},
   "outputs": [],
   "source": [
    "del x_original\n",
    "del y_original"
   ]
  },
  {
   "cell_type": "code",
   "execution_count": 7,
   "metadata": {},
   "outputs": [],
   "source": [
    "svr_model=pickle.load(open(\"{}/{}\".format(wds_data_folder, svr_model_filename), 'rb'))"
   ]
  },
  {
   "cell_type": "code",
   "execution_count": 8,
   "metadata": {},
   "outputs": [
    {
     "name": "stdout",
     "output_type": "stream",
     "text": [
      "run number: 0 ...\n"
     ]
    },
    {
     "name": "stderr",
     "output_type": "stream",
     "text": [
      "layouts:   0%|          | 0/10 [00:00<?, ?it/s]"
     ]
    },
    {
     "name": "stdout",
     "output_type": "stream",
     "text": [
      "Support vector regression guided genetic algorithm starts....\n",
      "generation 0...\n"
     ]
    },
    {
     "name": "stderr",
     "output_type": "stream",
     "text": [
      "layouts: 100%|██████████| 10/10 [00:02<00:00,  4.64it/s]\n"
     ]
    },
    {
     "name": "stdout",
     "output_type": "stream",
     "text": [
      "[511.57404 513.1111  513.5966  513.7728  510.86108 513.0939  511.29047\n",
      " 513.6769  511.7074  510.65308]\n",
      "3\n",
      "corss_point:1\n",
      "size: m_ov-->47 m_nov-->3 f_ov-->46 f_nov-->4\n",
      "cross_point: f_nov-->1 m_nov-->2\n",
      "cross_point: f_nov-->[2638] m_nov-->[5967 2243]\n",
      "50\n",
      "size: m_ov-->47 m_nov-->3 f_ov-->46 f_nov-->4\n",
      "cross_point: m_nov-->1 f_nov-->3\n",
      "cross_point: m_nov-->[3707] f_nov-->[2415 4123 2186]\n",
      "50\n",
      "2\n",
      "corss_point:1\n",
      "size: m_ov-->47 m_nov-->3 f_ov-->48 f_nov-->2\n",
      "cross_point: f_nov-->1 m_nov-->2\n",
      "cross_point: f_nov-->[350] m_nov-->[2682 3015]\n",
      "50\n",
      "size: m_ov-->47 m_nov-->3 f_ov-->48 f_nov-->2\n",
      "cross_point: m_nov-->1 f_nov-->1\n",
      "cross_point: m_nov-->[1043] f_nov-->[971]\n",
      "50\n",
      "3\n",
      "corss_point:2\n",
      "size: m_ov-->46 m_nov-->4 f_ov-->47 f_nov-->3\n",
      "cross_point: f_nov-->2 m_nov-->2\n",
      "cross_point: f_nov-->[3707 5967] m_nov-->[2186 2638]\n",
      "50\n",
      "size: m_ov-->46 m_nov-->4 f_ov-->47 f_nov-->3\n",
      "cross_point: m_nov-->2 f_nov-->1\n",
      "cross_point: m_nov-->[2415 4123] f_nov-->[2243]\n",
      "50\n",
      "2\n",
      "corss_point:1\n",
      "size: m_ov-->48 m_nov-->2 f_ov-->47 f_nov-->3\n",
      "cross_point: f_nov-->1 m_nov-->1\n",
      "cross_point: f_nov-->[2682] m_nov-->[971]\n",
      "50\n",
      "size: m_ov-->48 m_nov-->2 f_ov-->47 f_nov-->3\n",
      "cross_point: m_nov-->1 f_nov-->2\n",
      "cross_point: m_nov-->[350] f_nov-->[1043 3015]\n",
      "50\n",
      "2\n",
      "corss_point:1\n",
      "size: m_ov-->48 m_nov-->2 f_ov-->48 f_nov-->2\n",
      "cross_point: f_nov-->1 m_nov-->1\n",
      "cross_point: f_nov-->[3711] m_nov-->[174]\n",
      "50\n",
      "size: m_ov-->48 m_nov-->2 f_ov-->48 f_nov-->2\n",
      "cross_point: m_nov-->1 f_nov-->1\n",
      "cross_point: m_nov-->[1347] f_nov-->[6208]\n",
      "50\n"
     ]
    },
    {
     "name": "stderr",
     "output_type": "stream",
     "text": [
      "layouts:   0%|          | 0/10 [00:00<?, ?it/s]"
     ]
    },
    {
     "name": "stdout",
     "output_type": "stream",
     "text": [
      "generation 1...\n"
     ]
    },
    {
     "name": "stderr",
     "output_type": "stream",
     "text": [
      "layouts:  20%|██        | 2/10 [00:00<00:01,  4.15it/s]"
     ]
    },
    {
     "name": "stdout",
     "output_type": "stream",
     "text": [
      "Somewhere proximity constraint is violated\n",
      "\n"
     ]
    },
    {
     "name": "stderr",
     "output_type": "stream",
     "text": [
      "layouts:  30%|███       | 3/10 [00:00<00:01,  4.33it/s]"
     ]
    },
    {
     "name": "stdout",
     "output_type": "stream",
     "text": [
      "Somewhere proximity constraint is violated\n",
      "\n"
     ]
    },
    {
     "name": "stderr",
     "output_type": "stream",
     "text": [
      "layouts:  50%|█████     | 5/10 [00:01<00:01,  4.47it/s]"
     ]
    },
    {
     "name": "stdout",
     "output_type": "stream",
     "text": [
      "Somewhere proximity constraint is violated\n",
      "\n"
     ]
    },
    {
     "name": "stderr",
     "output_type": "stream",
     "text": [
      "layouts:  80%|████████  | 8/10 [00:01<00:00,  4.68it/s]"
     ]
    },
    {
     "name": "stdout",
     "output_type": "stream",
     "text": [
      "Somewhere proximity constraint is violated\n",
      "\n"
     ]
    },
    {
     "name": "stderr",
     "output_type": "stream",
     "text": [
      "layouts:  90%|█████████ | 9/10 [00:01<00:00,  4.68it/s]"
     ]
    },
    {
     "name": "stdout",
     "output_type": "stream",
     "text": [
      "Somewhere proximity constraint is violated\n",
      "\n"
     ]
    },
    {
     "name": "stderr",
     "output_type": "stream",
     "text": [
      "layouts: 100%|██████████| 10/10 [00:02<00:00,  4.54it/s]\n"
     ]
    },
    {
     "name": "stdout",
     "output_type": "stream",
     "text": [
      "[512.43463 507.1625  512.2505  514.1868  508.2904  511.6118  511.52817\n",
      " 512.1599  512.6181  514.40924]\n",
      "2\n",
      "corss_point:1\n",
      "size: m_ov-->47 m_nov-->3 f_ov-->48 f_nov-->2\n",
      "cross_point: f_nov-->1 m_nov-->2\n",
      "cross_point: f_nov-->[6208] m_nov-->[ 174 4435]\n",
      "50\n",
      "size: m_ov-->47 m_nov-->3 f_ov-->48 f_nov-->2\n",
      "cross_point: m_nov-->1 f_nov-->1\n",
      "cross_point: m_nov-->[3711] f_nov-->[1347]\n",
      "50\n",
      "2\n",
      "corss_point:1\n",
      "size: m_ov-->48 m_nov-->2 f_ov-->47 f_nov-->3\n",
      "cross_point: f_nov-->1 m_nov-->1\n",
      "cross_point: f_nov-->[2638] m_nov-->[3707]\n",
      "50\n",
      "size: m_ov-->48 m_nov-->2 f_ov-->47 f_nov-->3\n",
      "cross_point: m_nov-->1 f_nov-->2\n",
      "cross_point: m_nov-->[2586] f_nov-->[1043 2586]\n",
      "49\n"
     ]
    },
    {
     "ename": "ValueError",
     "evalue": "could not broadcast input array from shape (49) into shape (50)",
     "output_type": "error",
     "traceback": [
      "\u001b[0;31m---------------------------------------------------------------------------\u001b[0m",
      "\u001b[0;31mValueError\u001b[0m                                Traceback (most recent call last)",
      "\u001b[0;32m<ipython-input-8-76ccff25a7e9>\u001b[0m in \u001b[0;36m<module>\u001b[0;34m\u001b[0m\n\u001b[1;32m      5\u001b[0m     wfg.load_init_pop_NA(\"{}/init_{}.dat\".format(init_pops_data_folder, i),\n\u001b[1;32m      6\u001b[0m                          \"{}/init_{}_NA.dat\".format(init_pops_data_folder, i))\n\u001b[0;32m----> 7\u001b[0;31m     \u001b[0mrun_time\u001b[0m\u001b[0;34m,\u001b[0m \u001b[0meta\u001b[0m \u001b[0;34m=\u001b[0m \u001b[0mwfg\u001b[0m\u001b[0;34m.\u001b[0m\u001b[0msugga_genetic_alg\u001b[0m\u001b[0;34m(\u001b[0m\u001b[0mi\u001b[0m\u001b[0;34m,\u001b[0m \u001b[0msvr_model\u001b[0m\u001b[0;34m=\u001b[0m\u001b[0msvr_model\u001b[0m\u001b[0;34m,\u001b[0m \u001b[0mresult_folder\u001b[0m\u001b[0;34m=\u001b[0m\u001b[0msg_result_folder\u001b[0m\u001b[0;34m)\u001b[0m\u001b[0;34m\u001b[0m\u001b[0m\n\u001b[0m\u001b[1;32m      8\u001b[0m     \u001b[0mresult_arr\u001b[0m\u001b[0;34m[\u001b[0m\u001b[0mi\u001b[0m\u001b[0;34m,\u001b[0m \u001b[0;36m0\u001b[0m\u001b[0;34m]\u001b[0m \u001b[0;34m=\u001b[0m \u001b[0mrun_time\u001b[0m\u001b[0;34m\u001b[0m\u001b[0m\n\u001b[1;32m      9\u001b[0m     \u001b[0mresult_arr\u001b[0m\u001b[0;34m[\u001b[0m\u001b[0mi\u001b[0m\u001b[0;34m,\u001b[0m \u001b[0;36m1\u001b[0m\u001b[0;34m]\u001b[0m \u001b[0;34m=\u001b[0m \u001b[0meta\u001b[0m\u001b[0;34m\u001b[0m\u001b[0m\n",
      "\u001b[0;32m~/arena/hackathon/shell/hackathon/python/Ver1_N/WindFarmGenetic_v1.py\u001b[0m in \u001b[0;36msugga_genetic_alg\u001b[0;34m(self, ind_time, svr_model, result_folder)\u001b[0m\n\u001b[1;32m    401\u001b[0m             self.sugga_crossover(N=self.N, pop=pop,pop_NA=pop_NA, pop_indices=pop_indices, pop_size=self.pop_size,\n\u001b[1;32m    402\u001b[0m                                           \u001b[0mn_parents\u001b[0m\u001b[0;34m=\u001b[0m\u001b[0mn_parents\u001b[0m\u001b[0;34m,\u001b[0m\u001b[0;34m\u001b[0m\u001b[0m\n\u001b[0;32m--> 403\u001b[0;31m                                           parent_layouts=parent_layouts,parent_layouts_NA=parent_layouts_NA, parent_pop_indices=parent_pop_indices)\n\u001b[0m\u001b[1;32m    404\u001b[0m \u001b[0;34m\u001b[0m\u001b[0m\n\u001b[1;32m    405\u001b[0m \u001b[0;34m\u001b[0m\u001b[0m\n",
      "\u001b[0;32m~/arena/hackathon/shell/hackathon/python/Ver1_N/WindFarmGenetic_v1.py\u001b[0m in \u001b[0;36msugga_crossover\u001b[0;34m(self, N, pop, pop_NA, pop_indices, pop_size, n_parents, parent_layouts, parent_layouts_NA, parent_pop_indices)\u001b[0m\n\u001b[1;32m    301\u001b[0m                     \u001b[0mpop_NA\u001b[0m\u001b[0;34m[\u001b[0m\u001b[0mn_counter\u001b[0m\u001b[0;34m,\u001b[0m \u001b[0mi\u001b[0m\u001b[0;34m]\u001b[0m \u001b[0;34m=\u001b[0m \u001b[0mpop_NA\u001b[0m\u001b[0;34m[\u001b[0m\u001b[0mn_counter\u001b[0m\u001b[0;34m,\u001b[0m \u001b[0mi\u001b[0m \u001b[0;34m]\u001b[0m\u001b[0;34m+\u001b[0m\u001b[0;36m1\u001b[0m\u001b[0;34m\u001b[0m\u001b[0m\n\u001b[1;32m    302\u001b[0m \u001b[0;34m\u001b[0m\u001b[0m\n\u001b[0;32m--> 303\u001b[0;31m                 \u001b[0mpop_indices\u001b[0m\u001b[0;34m[\u001b[0m\u001b[0mn_counter\u001b[0m\u001b[0;34m,\u001b[0m \u001b[0;34m:\u001b[0m\u001b[0;34m]\u001b[0m \u001b[0;34m=\u001b[0m \u001b[0mtur_pos\u001b[0m\u001b[0;34m\u001b[0m\u001b[0m\n\u001b[0m\u001b[1;32m    304\u001b[0m \u001b[0;34m\u001b[0m\u001b[0m\n\u001b[1;32m    305\u001b[0m                 \u001b[0mn_counter\u001b[0m \u001b[0;34m+=\u001b[0m\u001b[0;36m1\u001b[0m\u001b[0;34m\u001b[0m\u001b[0m\n",
      "\u001b[0;31mValueError\u001b[0m: could not broadcast input array from shape (49) into shape (50)"
     ]
    }
   ],
   "source": [
    "##### SUGGA: support vector regression guided genetic algorithm\n",
    "result_arr = np.zeros((num_runs, 2), dtype=np.float32)\n",
    "for i in range(0, num_runs):  # run times\n",
    "    print(\"run number: {} ...\".format(i))\n",
    "    wfg.load_init_pop_NA(\"{}/init_{}.dat\".format(init_pops_data_folder, i),\n",
    "                         \"{}/init_{}_NA.dat\".format(init_pops_data_folder, i))\n",
    "    run_time, eta = wfg.sugga_genetic_alg(i, svr_model=svr_model, result_folder=sg_result_folder)\n",
    "    result_arr[i, 0] = run_time\n",
    "    result_arr[i, 1] = eta\n",
    "time_stamp = datetime.now().strftime(\"%Y%m%d%H%M%S\")\n",
    "filename = \"{}/result_sugga_{}.dat\".format(sg_result_folder, time_stamp)\n",
    "np.savetxt(filename, result_arr, fmt='%f', delimiter=\"  \")"
   ]
  },
  {
   "cell_type": "code",
   "execution_count": 8,
   "metadata": {},
   "outputs": [
    {
     "ename": "ValueError",
     "evalue": "low >= high",
     "output_type": "error",
     "traceback": [
      "\u001b[0;31m---------------------------------------------------------------------------\u001b[0m",
      "\u001b[0;31mValueError\u001b[0m                                Traceback (most recent call last)",
      "\u001b[0;32m<ipython-input-8-9e6850e46618>\u001b[0m in \u001b[0;36m<module>\u001b[0;34m\u001b[0m\n\u001b[0;32m----> 1\u001b[0;31m \u001b[0mnp\u001b[0m\u001b[0;34m.\u001b[0m\u001b[0mrandom\u001b[0m\u001b[0;34m.\u001b[0m\u001b[0mrandint\u001b[0m\u001b[0;34m(\u001b[0m\u001b[0;36m1\u001b[0m\u001b[0;34m,\u001b[0m \u001b[0;36m1\u001b[0m\u001b[0;34m)\u001b[0m\u001b[0;34m\u001b[0m\u001b[0m\n\u001b[0m",
      "\u001b[0;32mmtrand.pyx\u001b[0m in \u001b[0;36mnumpy.random.mtrand.RandomState.randint\u001b[0;34m()\u001b[0m\n",
      "\u001b[0;32m_bounded_integers.pyx\u001b[0m in \u001b[0;36mnumpy.random._bounded_integers._rand_int64\u001b[0;34m()\u001b[0m\n",
      "\u001b[0;31mValueError\u001b[0m: low >= high"
     ]
    }
   ],
   "source": [
    "np.random.randint(1, 1)"
   ]
  },
  {
   "cell_type": "code",
   "execution_count": 9,
   "metadata": {},
   "outputs": [
    {
     "data": {
      "text/plain": [
       "array([ 0.        ,  0.52631579,  1.05263158,  1.57894737,  2.10526316,\n",
       "        2.63157895,  3.15789474,  3.68421053,  4.21052632,  4.73684211,\n",
       "        5.26315789,  5.78947368,  6.31578947,  6.84210526,  7.36842105,\n",
       "        7.89473684,  8.42105263,  8.94736842,  9.47368421, 10.        ])"
      ]
     },
     "execution_count": 9,
     "metadata": {},
     "output_type": "execute_result"
    }
   ],
   "source": [
    "l=np.linspace(0,10,20)\n",
    "l"
   ]
  },
  {
   "cell_type": "code",
   "execution_count": 11,
   "metadata": {},
   "outputs": [
    {
     "data": {
      "text/plain": [
       "array([ 0.52631579,  1.05263158,  1.57894737,  2.10526316,  2.63157895,\n",
       "        3.15789474,  3.68421053,  4.21052632,  4.73684211,  5.26315789,\n",
       "        5.78947368,  6.31578947,  6.84210526,  7.36842105,  7.89473684,\n",
       "        8.42105263,  8.94736842,  9.47368421, 10.        ])"
      ]
     },
     "execution_count": 11,
     "metadata": {},
     "output_type": "execute_result"
    }
   ],
   "source": [
    "l[1:]"
   ]
  },
  {
   "cell_type": "markdown",
   "metadata": {},
   "source": [
    "### Shell Power Computation Package"
   ]
  },
  {
   "cell_type": "code",
   "execution_count": 1,
   "metadata": {},
   "outputs": [],
   "source": [
    "import sys \n",
    "sys.path.append('../Shell_Code_Modified/')"
   ]
  },
  {
   "cell_type": "code",
   "execution_count": 2,
   "metadata": {},
   "outputs": [],
   "source": [
    "import Farm_Evaluator_Vec"
   ]
  },
  {
   "cell_type": "code",
   "execution_count": 3,
   "metadata": {},
   "outputs": [],
   "source": [
    "total_energy, turbine_power=Farm_Evaluator_Vec.get_AEP_results()"
   ]
  },
  {
   "cell_type": "code",
   "execution_count": 4,
   "metadata": {},
   "outputs": [
    {
     "data": {
      "text/plain": [
       "array([1.2523587, 1.1595447, 1.1450489, 1.0768385, 1.176319 , 1.1840583,\n",
       "       1.13568  , 1.079648 , 1.0935222, 1.1273198, 1.0859367, 1.167106 ,\n",
       "       1.1016386, 1.124391 , 1.1225449, 1.100678 , 1.1647563, 1.2282459,\n",
       "       1.1581823, 1.197542 , 1.2453799, 1.2442212, 1.2059841, 1.1259376,\n",
       "       1.2380294, 1.1106503, 1.1325871, 1.1829029, 1.1153044, 1.1439447,\n",
       "       1.1912581, 1.1264657, 1.1022447, 1.1789318, 1.1049944, 1.2037905,\n",
       "       1.220672 , 1.1373823, 1.2131999, 1.1142861, 1.199062 , 1.141587 ,\n",
       "       1.1335138, 1.1493688, 1.0722657, 1.0965657, 1.2305766, 1.2662541,\n",
       "       1.1084578, 1.0826805], dtype=float32)"
      ]
     },
     "execution_count": 4,
     "metadata": {},
     "output_type": "execute_result"
    }
   ],
   "source": [
    "total_energy"
   ]
  },
  {
   "cell_type": "code",
   "execution_count": 5,
   "metadata": {},
   "outputs": [
    {
     "data": {
      "text/plain": [
       "505.4506365966797"
      ]
     },
     "execution_count": 5,
     "metadata": {},
     "output_type": "execute_result"
    }
   ],
   "source": [
    "turbine_power"
   ]
  }
 ],
 "metadata": {
  "kernelspec": {
   "display_name": "python_learn",
   "language": "python",
   "name": "python_learn"
  },
  "language_info": {
   "codemirror_mode": {
    "name": "ipython",
    "version": 3
   },
   "file_extension": ".py",
   "mimetype": "text/x-python",
   "name": "python",
   "nbconvert_exporter": "python",
   "pygments_lexer": "ipython3",
   "version": "3.5.2"
  }
 },
 "nbformat": 4,
 "nbformat_minor": 4
}
