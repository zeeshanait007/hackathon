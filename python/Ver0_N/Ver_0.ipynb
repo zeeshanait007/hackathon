{
 "cells": [
  {
   "cell_type": "code",
   "execution_count": 1,
   "metadata": {},
   "outputs": [],
   "source": [
    "import numpy as np\n",
    "import numpy as np\n",
    "import pandas as pd\n",
    "import WindFarmGenetic # wind farm layout optimization using genetic algorithms classes\n",
    "from datetime import datetime\n",
    "import os\n",
    "from sklearn.svm import SVR\n",
    "import pickle\n"
   ]
  },
  {
   "cell_type": "code",
   "execution_count": 2,
   "metadata": {},
   "outputs": [
    {
     "data": {
      "text/plain": [
       "'/home/naveen/arena/hackathon/shell/hackathon/python/Ver0_N'"
      ]
     },
     "execution_count": 2,
     "metadata": {},
     "output_type": "execute_result"
    }
   ],
   "source": [
    "import os\n",
    "os.getcwd()"
   ]
  },
  {
   "cell_type": "code",
   "execution_count": 3,
   "metadata": {},
   "outputs": [],
   "source": [
    "##\n",
    "wt_N=50  #number of turbines\n",
    "NA_loc=[]  #index of obstructed locations\n",
    "population_size=100  #population size/number of layouts for genetic algorithms\n",
    "iteration_times=100  #number of iterations\n",
    "\n",
    "# wind farm size, cells\n",
    "cols_cells = 10  # number of cells each row\n",
    "rows_cells = 10  # number of cells each column\n",
    "cell_width = 400 # unit (TBD)--> have to be computed.\n",
    "\n",
    "#genetic algorithmic parameters.\n",
    "elite_rate = 0.2 \n",
    "cross_rate = 0.6\n",
    "mutate_rate = 0.1\n",
    "\n",
    "random_rate = 0.5\n",
    "num_runs=100\n"
   ]
  },
  {
   "cell_type": "code",
   "execution_count": 4,
   "metadata": {},
   "outputs": [],
   "source": [
    "data_folder = \"naveen_data\" #temporary code related files. (MOdify it as per your specification)\n",
    "svr_model_filename = 'svr_1s1d_N_13.svr' #svr training file.\n",
    "if not os.path.exists(data_folder):\n",
    "    os.makedirs(data_folder)\n",
    "\n",
    "wds_data_folder = \"{}/wds\".format(data_folder)\n",
    "if not os.path.exists(wds_data_folder):\n",
    "    os.makedirs(wds_data_folder)\n",
    "    \n",
    "# initial populations saved folder\n",
    "init_pops_data_folder = \"{}/init_data\".format(data_folder)\n",
    "if not os.path.exists(init_pops_data_folder):\n",
    "    os.makedirs(init_pops_data_folder)\n",
    "\n",
    "#result folder\n",
    "results_data_folder = data_folder+\"/results\"\n",
    "if not os.path.exists(results_data_folder):\n",
    "    os.makedirs(results_data_folder)\n",
    "    \n",
    "#result folder for sugga genetic algorithm\n",
    "sg_result_folder = \"{}/sg\".format(results_data_folder)\n",
    "if not os.path.exists(sg_result_folder):\n",
    "    os.makedirs(sg_result_folder)"
   ]
  },
  {
   "cell_type": "code",
   "execution_count": 5,
   "metadata": {},
   "outputs": [],
   "source": [
    "import WindFarmGenetic\n",
    "wfg = WindFarmGenetic.WindFarmGenetic(rows=rows_cells, cols=cols_cells, N=wt_N, NA_loc=NA_loc, pop_size=population_size,\n",
    "                                      iteration=iteration_times,cell_width=cell_width, elite_rate=elite_rate,\n",
    "                                             cross_rate=cross_rate, random_rate=random_rate, mutate_rate=mutate_rate)"
   ]
  },
  {
   "cell_type": "code",
   "execution_count": 6,
   "metadata": {},
   "outputs": [],
   "source": [
    "for i in range(num_runs):\n",
    "    wfg.gen_init_pop_NA()\n",
    "    wfg.save_init_pop_NA(\"{}/init_{}.dat\".format(init_pops_data_folder, i),\n",
    "                         \"{}/init_{}_NA.dat\".format(init_pops_data_folder, i))"
   ]
  },
  {
   "cell_type": "code",
   "execution_count": 7,
   "metadata": {},
   "outputs": [],
   "source": [
    "##Generate initial layouts: single layout--> 1d array of size row*col, layouts are set of population_size different(random) layouts.  \n",
    "train_mc_layouts, train_mc_layouts_NA = WindFarmGenetic.LayoutGridMCGenerator.gen_mc_grid_with_NA_loc(rows_cells,\n",
    "                                                                                                      cols_cells,\n",
    "                                                                                                      population_size,\n",
    "                                                                                                      wt_N, NA_loc,\n",
    "                                                                                                      \"{}/mc_layout.dat\".format(wds_data_folder),\n",
    "                                                                                                      \"{}/mc_layout_NA.dat\".format(wds_data_folder))\n",
    "\n",
    "layouts = np.genfromtxt(\"{}/mc_layout.dat\".format(wds_data_folder), delimiter=\"  \", dtype=np.int32)"
   ]
  },
  {
   "cell_type": "code",
   "execution_count": 8,
   "metadata": {},
   "outputs": [],
   "source": [
    "import WindFarmGenetic\n",
    "\n",
    "wfg.mc_gen_xy_NA_hackathon(rows=rows_cells, cols=cols_cells, layouts=layouts, n=population_size, N=wt_N,  xfname=\"{}/x.dat\".format(wds_data_folder),\n",
    "                 yfname=\"{}/y.dat\".format(wds_data_folder))"
   ]
  },
  {
   "cell_type": "code",
   "execution_count": 9,
   "metadata": {},
   "outputs": [],
   "source": [
    "x_original = pd.read_csv(\"{}/x.dat\".format(wds_data_folder), header=None, nrows=rows_cells * cols_cells,\n",
    "                         delim_whitespace=True, dtype=np.float32)\n",
    "x_original = x_original.values"
   ]
  },
  {
   "cell_type": "code",
   "execution_count": 10,
   "metadata": {},
   "outputs": [],
   "source": [
    "y_original = pd.read_csv(\"{}/y.dat\".format(wds_data_folder), header=None, nrows=rows_cells * cols_cells,\n",
    "                         delim_whitespace=True, dtype=np.float32)\n",
    "y_original = y_original.values.flatten()"
   ]
  },
  {
   "cell_type": "code",
   "execution_count": 11,
   "metadata": {},
   "outputs": [],
   "source": [
    "# create a SVR object and specify the kernal and other parameters\n",
    "svr_model = SVR(kernel='rbf', C=2000.0, gamma=0.3, epsilon=.1)\n",
    "# build the SVR power distribution model\n",
    "svr_model.fit(x_original, y_original)\n",
    "\n",
    "# save the SVR model to a file\n",
    "pickle.dump(svr_model, open(\"{}/{}\".format(wds_data_folder, svr_model_filename), 'wb'))"
   ]
  },
  {
   "cell_type": "code",
   "execution_count": 12,
   "metadata": {},
   "outputs": [
    {
     "name": "stdout",
     "output_type": "stream",
     "text": [
      "run number: 0 ...\n",
      "Support vector regression guided genetic algorithm starts....\n",
      "generation 0...\n",
      "[541.67456 533.7436  534.85675 535.68427 534.73346 539.59106 540.4199\n",
      " 540.1531  538.2676  532.54034 542.29553 538.11426 540.7936  541.1494\n",
      " 540.85913 541.78735 543.9427  541.47754 537.4409  535.34937 539.93945\n",
      " 539.8547  536.33746 537.0982  535.7021  539.5483  542.82086 535.5099\n",
      " 540.94586 537.9409  541.9299  539.3912  540.039   541.5063  541.59174\n",
      " 534.29675 542.9216  530.4157  536.7034  539.32074 536.37714 536.1521\n",
      " 540.45544 539.9311  540.3817  539.86127 537.0115  538.0035  537.7589\n",
      " 538.08026 536.4162  534.98926 540.02606 541.2915  532.31915 536.9288\n",
      " 540.66406 539.4561  541.54706 540.7579  536.19055 538.5942  540.739\n",
      " 541.0846  536.9914  536.99884 539.8302  538.81067 538.72296 531.25323\n",
      " 537.21765 537.7861  536.3819  538.13916 537.68475 538.6163  535.96094\n",
      " 541.806   536.0299  540.2787  535.1943  537.877   538.5326  535.70465\n",
      " 538.4747  536.0138  542.5063  539.7652  542.0405  542.01074 536.5194\n",
      " 540.39764 534.7358  540.4248  540.4511  534.10175 540.4599  533.55646\n",
      " 535.9531  536.2989 ]\n",
      "generation 1...\n",
      "[540.63776 540.43787 541.40466 543.1736  536.6711  541.6786  542.3109\n",
      " 539.9641  538.61743 541.4203  543.7161  537.6269  538.38525 542.45483\n",
      " 540.23035 539.5389  541.11633 538.1653  541.02344 533.9004  541.70233\n",
      " 538.2936  539.0683  537.8352  538.09143 544.7139  539.5424  541.0142\n",
      " 540.83014 542.38153 538.01404 538.09863 539.3111  539.7784  542.2021\n",
      " 543.13715 541.6965  542.80994 539.95605 540.4564  542.242   541.48126\n",
      " 541.9364  543.8219  544.0188  538.6284  536.29126 542.482   537.127\n",
      " 537.8107  543.588   533.31036 543.88354 540.9893  538.9378  540.4958\n",
      " 536.38885 536.8433  536.62067 539.9737  539.6057  542.1662  542.48773\n",
      " 542.4314  545.40564 540.0282  543.4582  538.80286 542.9992  537.90155\n",
      " 544.7354  542.7576  537.3015  537.95624 542.3819  535.4928  541.50354\n",
      " 541.4591  539.77374 540.81573 536.6525  540.65704 541.6524  538.53015\n",
      " 537.11743 534.45337 538.75183 538.89954 538.7927  543.7171  541.2102\n",
      " 534.1259  541.3716  540.8078  541.1318  542.226   542.8189  542.3672\n",
      " 544.6743  538.8589 ]\n",
      "generation 2...\n",
      "[538.3457  541.5026  539.49    538.2887  534.43134 540.5859  540.1663\n",
      " 534.14294 536.4361  541.6177  540.3715  535.25946 540.31805 541.32263\n",
      " 542.76526 540.03204 542.6859  538.5882  544.86725 540.7414  542.24133\n",
      " 542.9255  542.3632  542.283   546.88196 545.1594  538.02423 534.80334\n",
      " 541.9798  538.27826 536.42316 538.9437  532.1481  536.1297  541.6324\n",
      " 542.8896  539.88446 539.4698  543.98785 540.75854 539.6298  538.9706\n",
      " 540.1964  536.4019  540.80975 542.3049  541.41223 541.15454 540.53735\n",
      " 541.9854  543.6122  537.49945 540.9817  537.20416 543.0568  538.5665\n",
      " 539.82275 545.596   540.6491  539.26587 541.105   541.0347  545.0118\n",
      " 538.0273  541.6792  538.9435  536.0611  540.73254 542.76166 541.5433\n",
      " 539.3799  538.33307 539.1615  544.2991  541.8935  540.946   539.97705\n",
      " 537.6281  540.6278  540.4855  536.18195 541.3421  538.01526 537.4246\n",
      " 539.21155 534.5149  537.1834  541.42676 537.0236  541.88806 541.50494\n",
      " 539.4404  543.39777 543.90295 541.4582  541.7881  541.1579  541.82\n",
      " 539.949   541.86804]\n",
      "generation 3...\n",
      "[540.1052  537.75824 545.0895  539.8403  542.5945  540.67426 541.2676\n",
      " 541.8224  541.5928  544.9354  542.6689  540.99316 539.298   545.659\n",
      " 541.2502  536.8188  541.2171  538.70557 535.80756 537.5256  543.18555\n",
      " 539.25793 540.7988  543.77673 536.83215 543.1903  542.75323 538.24023\n",
      " 544.25354 538.75104 536.6346  541.0757  540.3989  541.8794  538.2546\n",
      " 542.4223  541.81165 536.6764  542.9487  536.78815 541.9728  539.86786\n",
      " 541.0467  541.3014  537.9408  544.8108  542.6488  543.0391  544.8232\n",
      " 543.4843  541.0675  539.89166 537.1831  539.967   541.564   541.03516\n",
      " 541.5773  541.01624 538.90216 541.3269  543.5836  541.125   543.46826\n",
      " 545.1828  544.2983  542.10004 543.24084 539.8343  546.9149  542.56085\n",
      " 542.0802  546.28656 543.1263  543.3522  543.0367  543.5118  542.66\n",
      " 541.2589  540.9656  543.38873 542.14825 541.5463  543.10486 542.0319\n",
      " 540.7559  539.1472  539.2195  544.67883 542.3832  541.53625 541.379\n",
      " 539.6726  543.57916 542.111   543.5573  539.7495  541.82654 543.96674\n",
      " 542.419   542.3019 ]\n",
      "generation 4...\n",
      "[540.9538  542.89343 539.8274  541.7915  542.1546  544.0838  544.198\n",
      " 539.98303 541.267   541.72705 542.4449  543.8251  546.0159  542.8742\n",
      " 542.0911  540.481   544.96185 545.91925 539.6375  543.17267 541.0164\n",
      " 539.92725 542.7462  542.1973  546.3287  541.7379  542.5757  536.68774\n",
      " 541.3641  535.5638  535.9377  543.91614 535.9775  544.439   543.2041\n",
      " 540.6247  538.59644 541.7653  543.1131  541.69226 538.61096 542.4326\n",
      " 543.08203 542.38904 538.8875  538.6937  541.7634  543.81903 540.7617\n",
      " 543.9795  538.36273 542.13306 538.0126  541.2987  542.3481  543.47644\n",
      " 540.06665 542.9474  540.4617  544.174   543.70764 542.67456 538.7826\n",
      " 538.01245 541.53656 537.18146 543.13684 545.47754 540.4214  542.3673\n",
      " 544.72156 542.3301  542.38416 535.3547  535.6731  540.07684 543.33923\n",
      " 544.42975 544.86224 546.64984 544.04065 540.9235  546.39166 543.2491\n",
      " 540.481   541.8931  545.5463  541.03613 542.75745 541.0044  543.5855\n",
      " 539.49805 539.00244 542.53986 542.3216  541.87744 542.5672  544.43964\n",
      " 541.81366 539.20685]\n",
      "generation 5...\n",
      "[541.2043  544.2008  541.9     541.63684 543.4833  544.6594  544.6931\n",
      " 542.0265  542.44696 542.4479  544.3199  543.0496  544.2847  539.6292\n",
      " 540.4298  543.9833  545.0232  545.5772  540.90674 543.3925  543.907\n",
      " 545.2921  542.32825 537.07074 546.3949  542.2489  544.38495 541.0659\n",
      " 541.9431  545.77277 543.30237 543.4051  545.8412  542.4088  542.22504\n",
      " 540.91614 540.3258  542.0898  539.64417 544.4082  544.14825 541.0231\n",
      " 541.85693 545.0089  540.10345 546.34174 544.91754 541.48834 543.7222\n",
      " 537.52924 544.291   542.17706 544.79956 541.29724 543.51404 541.3421\n",
      " 544.92035 543.8347  542.0033  545.5976  545.5629  543.53033 543.28827\n",
      " 543.31085 545.25134 540.377   544.3867  543.5296  542.90234 546.2529\n",
      " 538.76447 544.97894 543.2568  539.15216 540.69836 543.6371  545.62494\n",
      " 540.3633  541.78766 543.4975  540.4698  544.5827  541.3103  541.648\n",
      " 541.57745 543.65375 546.795   542.93835 546.80225 539.7959  542.14294\n",
      " 544.95215 544.81836 545.02545 545.3408  544.3999  542.18677 539.69073\n",
      " 541.9287  540.9795 ]\n",
      "generation 6...\n",
      "[543.23065 545.4828  543.6347  542.87506 543.5884  546.25964 544.0119\n",
      " 543.15936 543.75745 544.1992  545.6735  542.62646 543.94714 543.9661\n",
      " 540.306   544.59503 543.40985 543.41943 541.55786 543.4294  543.43097\n",
      " 542.2647  545.2828  543.6237  540.19556 543.92413 542.7723  543.8558\n",
      " 539.1204  539.57605 542.5147  542.75806 544.0648  542.91693 544.8737\n",
      " 536.12494 544.6123  541.06995 545.89667 543.9133  543.98425 544.0091\n",
      " 544.0933  545.0876  544.5545  542.8746  546.5132  544.5138  544.31573\n",
      " 543.1128  541.9625  545.6056  541.51953 545.7776  541.86285 543.8925\n",
      " 545.0393  539.1703  544.1729  545.75476 542.1357  540.76587 542.7016\n",
      " 545.1195  546.81006 544.24927 545.4165  544.8911  543.1406  543.86896\n",
      " 545.7125  545.4175  542.1638  545.67255 543.4763  543.5027  540.2841\n",
      " 543.8021  543.523   541.87946 542.62494 540.8826  546.82135 544.60114\n",
      " 541.99054 538.4242  542.74664 540.57275 546.92786 546.09955 544.87146\n",
      " 545.91034 542.9194  543.7157  538.45135 544.3367  546.97    543.63025\n",
      " 547.3761  543.6424 ]\n",
      "generation 7...\n",
      "[545.1299  542.6798  542.74243 546.69293 542.39624 542.3632  541.97766\n",
      " 541.33746 545.29425 541.83136 544.4703  542.5952  545.10095 542.16895\n",
      " 544.09314 545.1099  545.7745  539.95105 547.4611  542.6827  543.9693\n",
      " 544.7583  544.66376 546.4102  548.6723  543.8946  543.65656 544.448\n",
      " 542.9076  544.21063 538.4383  544.8425  543.2857  545.56476 542.83307\n",
      " 544.3211  546.2052  544.3558  540.3908  547.0832  544.0666  546.7345\n",
      " 544.2622  545.19824 544.80664 545.1123  541.7929  544.3887  544.5837\n",
      " 541.4088  541.572   545.472   544.4855  545.197   540.26276 542.9002\n",
      " 543.47656 544.79126 546.43677 545.1219  541.6185  543.80945 544.3491\n",
      " 545.3747  544.1618  544.3069  542.19556 545.0586  546.73395 541.95966\n",
      " 543.9199  542.728   544.14685 544.04895 544.4766  546.3588  542.56165\n",
      " 545.36584 542.644   542.90515 541.72406 545.0027  545.5625  543.31836\n",
      " 541.3422  545.39484 544.3829  546.133   543.3092  543.1664  541.64484\n",
      " 543.10205 542.42975 543.58154 543.9728  542.7739  542.6935  545.5342\n",
      " 543.9819  545.33765]\n",
      "generation 8...\n",
      "[542.45807 546.6733  544.73035 543.1824  544.42645 545.2717  544.8467\n",
      " 543.1609  544.10986 542.3146  544.5204  541.2292  545.8385  545.9123\n",
      " 543.5235  543.21405 547.4015  545.9807  543.4749  540.66235 544.0965\n",
      " 543.6282  545.0268  541.4887  546.24347 540.58856 545.37787 544.21436\n",
      " 543.13446 546.922   543.43146 546.95416 545.5199  544.8417  544.4044\n",
      " 544.6101  545.2285  545.82654 542.0423  544.4466  546.33344 544.9871\n",
      " 542.0976  544.2443  543.4204  540.70087 542.0448  540.57556 545.4893\n",
      " 544.5345  543.57367 542.703   545.88934 542.3481  542.75684 543.64014\n",
      " 544.4297  544.65735 542.2211  545.0813  541.09    545.3598  544.6625\n",
      " 542.9744  545.00665 544.99664 546.4342  545.4575  545.38275 542.32916\n",
      " 543.93774 543.2507  538.88525 546.887   543.2135  545.86194 540.3817\n",
      " 544.90326 546.0425  546.8641  543.9861  544.21045 545.6449  539.4991\n",
      " 545.88214 547.7249  545.173   542.23065 542.42596 545.05945 542.9575\n",
      " 545.7433  548.24677 547.9446  547.8267  545.66376 542.76215 544.3833\n",
      " 543.2294  538.7724 ]\n",
      "generation 9...\n"
     ]
    },
    {
     "ename": "KeyboardInterrupt",
     "evalue": "",
     "output_type": "error",
     "traceback": [
      "\u001b[0;31m---------------------------------------------------------------------------\u001b[0m",
      "\u001b[0;31mKeyboardInterrupt\u001b[0m                         Traceback (most recent call last)",
      "\u001b[0;32m<ipython-input-12-5f9e6946db7d>\u001b[0m in \u001b[0;36m<module>\u001b[0;34m\u001b[0m\n\u001b[1;32m      5\u001b[0m     wfg.load_init_pop_NA(\"{}/init_{}.dat\".format(init_pops_data_folder, i),\n\u001b[1;32m      6\u001b[0m                          \"{}/init_{}_NA.dat\".format(init_pops_data_folder, i))\n\u001b[0;32m----> 7\u001b[0;31m     \u001b[0mrun_time\u001b[0m\u001b[0;34m,\u001b[0m \u001b[0meta\u001b[0m \u001b[0;34m=\u001b[0m \u001b[0mwfg\u001b[0m\u001b[0;34m.\u001b[0m\u001b[0msugga_genetic_alg\u001b[0m\u001b[0;34m(\u001b[0m\u001b[0mi\u001b[0m\u001b[0;34m,\u001b[0m \u001b[0msvr_model\u001b[0m\u001b[0;34m=\u001b[0m\u001b[0msvr_model\u001b[0m\u001b[0;34m,\u001b[0m \u001b[0mresult_folder\u001b[0m\u001b[0;34m=\u001b[0m\u001b[0msg_result_folder\u001b[0m\u001b[0;34m)\u001b[0m\u001b[0;34m\u001b[0m\u001b[0m\n\u001b[0m\u001b[1;32m      8\u001b[0m     \u001b[0mresult_arr\u001b[0m\u001b[0;34m[\u001b[0m\u001b[0mi\u001b[0m\u001b[0;34m,\u001b[0m \u001b[0;36m0\u001b[0m\u001b[0;34m]\u001b[0m \u001b[0;34m=\u001b[0m \u001b[0mrun_time\u001b[0m\u001b[0;34m\u001b[0m\u001b[0m\n\u001b[1;32m      9\u001b[0m     \u001b[0mresult_arr\u001b[0m\u001b[0;34m[\u001b[0m\u001b[0mi\u001b[0m\u001b[0;34m,\u001b[0m \u001b[0;36m1\u001b[0m\u001b[0;34m]\u001b[0m \u001b[0;34m=\u001b[0m \u001b[0meta\u001b[0m\u001b[0;34m\u001b[0m\u001b[0m\n",
      "\u001b[0;32m~/arena/hackathon/shell/hackathon/python/Ver0_N/WindFarmGenetic.py\u001b[0m in \u001b[0;36msugga_genetic_alg\u001b[0;34m(self, ind_time, svr_model, result_folder)\u001b[0m\n\u001b[1;32m    296\u001b[0m             fitness_value = self.mc_fitness_hackathon(pop=pop, rows=self.rows, cols=self.cols, pop_size=self.pop_size,\n\u001b[1;32m    297\u001b[0m                                                         \u001b[0mN\u001b[0m\u001b[0;34m=\u001b[0m\u001b[0mself\u001b[0m\u001b[0;34m.\u001b[0m\u001b[0mN\u001b[0m\u001b[0;34m,\u001b[0m\u001b[0;34m\u001b[0m\u001b[0m\n\u001b[0;32m--> 298\u001b[0;31m                                                         ordered_ind=power_order)\n\u001b[0m\u001b[1;32m    299\u001b[0m             \u001b[0mprint\u001b[0m\u001b[0;34m(\u001b[0m\u001b[0mfitness_value\u001b[0m\u001b[0;34m)\u001b[0m\u001b[0;34m\u001b[0m\u001b[0m\n\u001b[1;32m    300\u001b[0m             \u001b[0msorted_index\u001b[0m \u001b[0;34m=\u001b[0m \u001b[0mnp\u001b[0m\u001b[0;34m.\u001b[0m\u001b[0margsort\u001b[0m\u001b[0;34m(\u001b[0m\u001b[0;34m-\u001b[0m\u001b[0mfitness_value\u001b[0m\u001b[0;34m)\u001b[0m  \u001b[0;31m# fitness value descending from largest to least\u001b[0m\u001b[0;34m\u001b[0m\u001b[0m\n",
      "\u001b[0;32m~/arena/hackathon/shell/hackathon/python/Ver0_N/WindFarmGenetic.py\u001b[0m in \u001b[0;36mmc_fitness_hackathon\u001b[0;34m(self, pop, rows, cols, pop_size, N, lp, ordered_ind)\u001b[0m\n\u001b[1;32m    133\u001b[0m                     \u001b[0mind_pos\u001b[0m \u001b[0;34m+=\u001b[0m \u001b[0;36m1\u001b[0m\u001b[0;34m\u001b[0m\u001b[0m\n\u001b[1;32m    134\u001b[0m \u001b[0;31m#             print(xy_position)\u001b[0m\u001b[0;34m\u001b[0m\u001b[0;34m\u001b[0m\u001b[0m\n\u001b[0;32m--> 135\u001b[0;31m             \u001b[0mtotal_energy\u001b[0m\u001b[0;34m,\u001b[0m\u001b[0mlp_power_accum\u001b[0m\u001b[0;34m=\u001b[0m\u001b[0mFarm_Evaluator_Vec\u001b[0m\u001b[0;34m.\u001b[0m\u001b[0mget_AEP_results\u001b[0m\u001b[0;34m(\u001b[0m\u001b[0mturb_coords\u001b[0m\u001b[0;34m=\u001b[0m\u001b[0mxy_position\u001b[0m\u001b[0;34m)\u001b[0m\u001b[0;34m\u001b[0m\u001b[0m\n\u001b[0m\u001b[1;32m    136\u001b[0m             \u001b[0;32mif\u001b[0m \u001b[0mlp\u001b[0m \u001b[0;32mis\u001b[0m \u001b[0;32mnot\u001b[0m \u001b[0;32mNone\u001b[0m\u001b[0;34m:\u001b[0m\u001b[0;34m\u001b[0m\u001b[0m\n\u001b[1;32m    137\u001b[0m                 \u001b[0mlp\u001b[0m\u001b[0;34m[\u001b[0m\u001b[0mi\u001b[0m\u001b[0;34m,\u001b[0m \u001b[0mind_position\u001b[0m\u001b[0;34m]\u001b[0m \u001b[0;34m=\u001b[0m \u001b[0mlp_power_accum\u001b[0m\u001b[0;34m\u001b[0m\u001b[0m\n",
      "\u001b[0;32m~/arena/hackathon/shell/hackathon/python/Shell_Code_Modified/Farm_Evaluator_Vec.py\u001b[0m in \u001b[0;36mget_AEP_results\u001b[0;34m(dataset_location, turb_coords)\u001b[0m\n\u001b[1;32m    515\u001b[0m     \u001b[0;31m# Pass wind data csv file location to function binWindResourceData.\u001b[0m\u001b[0;34m\u001b[0m\u001b[0;34m\u001b[0m\u001b[0m\n\u001b[1;32m    516\u001b[0m     \u001b[0;31m# Retrieve probabilities of wind instance occurence.\u001b[0m\u001b[0;34m\u001b[0m\u001b[0;34m\u001b[0m\u001b[0m\n\u001b[0;32m--> 517\u001b[0;31m     \u001b[0mwind_inst_freq\u001b[0m \u001b[0;34m=\u001b[0m  \u001b[0mbinWindResourceData\u001b[0m\u001b[0;34m(\u001b[0m\u001b[0mdataset_location\u001b[0m\u001b[0;34m+\u001b[0m\u001b[0;34m'/Wind Data/wind_data_2017.csv'\u001b[0m\u001b[0;34m)\u001b[0m\u001b[0;34m\u001b[0m\u001b[0m\n\u001b[0m\u001b[1;32m    518\u001b[0m \u001b[0;34m\u001b[0m\u001b[0m\n\u001b[1;32m    519\u001b[0m     \u001b[0;31m# Doing preprocessing to avoid the same repeating calculations. Record\u001b[0m\u001b[0;34m\u001b[0m\u001b[0;34m\u001b[0m\u001b[0m\n",
      "\u001b[0;32m~/arena/hackathon/shell/hackathon/python/Shell_Code_Modified/Farm_Evaluator_Vec.py\u001b[0m in \u001b[0;36mbinWindResourceData\u001b[0;34m(wind_data_file_name)\u001b[0m\n\u001b[1;32m    181\u001b[0m     \u001b[0;31m# 'trap' data points inside the bins.\u001b[0m\u001b[0;34m\u001b[0m\u001b[0;34m\u001b[0m\u001b[0m\n\u001b[1;32m    182\u001b[0m     \u001b[0;32mfor\u001b[0m \u001b[0mi\u001b[0m \u001b[0;32min\u001b[0m \u001b[0mrange\u001b[0m\u001b[0;34m(\u001b[0m\u001b[0mn_slices_drct\u001b[0m\u001b[0;34m)\u001b[0m\u001b[0;34m:\u001b[0m\u001b[0;34m\u001b[0m\u001b[0m\n\u001b[0;32m--> 183\u001b[0;31m         \u001b[0;32mfor\u001b[0m \u001b[0mj\u001b[0m \u001b[0;32min\u001b[0m \u001b[0mrange\u001b[0m\u001b[0;34m(\u001b[0m\u001b[0mn_slices_sped\u001b[0m\u001b[0;34m)\u001b[0m\u001b[0;34m:\u001b[0m\u001b[0;34m\u001b[0m\u001b[0m\n\u001b[0m\u001b[1;32m    184\u001b[0m \u001b[0;34m\u001b[0m\u001b[0m\n\u001b[1;32m    185\u001b[0m             \u001b[0;31m# because we already have drct in the multiples of 10\u001b[0m\u001b[0;34m\u001b[0m\u001b[0;34m\u001b[0m\u001b[0m\n",
      "\u001b[0;31mKeyboardInterrupt\u001b[0m: "
     ]
    }
   ],
   "source": [
    "# SUGGA: support vector regression guided genetic algorithm\n",
    "\n",
    "for i in range(0, num_runs):  # run times\n",
    "    print(\"run number: {} ...\".format(i))\n",
    "    wfg.load_init_pop_NA(\"{}/init_{}.dat\".format(init_pops_data_folder, i),\n",
    "                         \"{}/init_{}_NA.dat\".format(init_pops_data_folder, i))\n",
    "    run_time, eta = wfg.sugga_genetic_alg(i, svr_model=svr_model, result_folder=sg_result_folder)\n",
    "    result_arr[i, 0] = run_time\n",
    "    result_arr[i, 1] = eta\n",
    "time_stamp = datetime.now().strftime(\"%Y%m%d%H%M%S\")\n",
    "filename = \"{}/result_sugga_{}.dat\".format(sg_result_folder, time_stamp)\n",
    "np.savetxt(filename, result_arr, fmt='%f', delimiter=\"  \")"
   ]
  },
  {
   "cell_type": "code",
   "execution_count": null,
   "metadata": {},
   "outputs": [],
   "source": []
  },
  {
   "cell_type": "markdown",
   "metadata": {},
   "source": [
    "### Shell Power Computation Package"
   ]
  },
  {
   "cell_type": "code",
   "execution_count": 1,
   "metadata": {},
   "outputs": [],
   "source": [
    "import sys \n",
    "sys.path.append('../Shell_Code_Modified/')"
   ]
  },
  {
   "cell_type": "code",
   "execution_count": 2,
   "metadata": {},
   "outputs": [],
   "source": [
    "import Farm_Evaluator_Vec"
   ]
  },
  {
   "cell_type": "code",
   "execution_count": 3,
   "metadata": {},
   "outputs": [
    {
     "name": "stdout",
     "output_type": "stream",
     "text": [
      "Both perimeter and proximity constraints are satisfied !!\n",
      "\n",
      "power\n",
      "[[0.         0.         0.         ... 0.         0.         0.        ]\n",
      " [0.         0.         0.         ... 0.         0.         0.        ]\n",
      " [0.18937522 0.18937522 0.18937522 ... 0.09336138 0.18937522 0.06266943]\n",
      " ...\n",
      " [3.         3.         3.         ... 3.         3.         3.        ]\n",
      " [0.         0.         0.         ... 0.         0.         0.        ]\n",
      " [0.         0.         0.         ... 0.         0.         0.        ]]\n",
      "(540, 50)\n"
     ]
    }
   ],
   "source": [
    "total_energy, turbine_power=Farm_Evaluator_Vec.get_AEP_results()"
   ]
  },
  {
   "cell_type": "code",
   "execution_count": 4,
   "metadata": {},
   "outputs": [
    {
     "data": {
      "text/plain": [
       "545.5921376037597"
      ]
     },
     "execution_count": 4,
     "metadata": {},
     "output_type": "execute_result"
    }
   ],
   "source": [
    "total_energy"
   ]
  },
  {
   "cell_type": "code",
   "execution_count": null,
   "metadata": {},
   "outputs": [],
   "source": []
  }
 ],
 "metadata": {
  "kernelspec": {
   "display_name": "python_learn",
   "language": "python",
   "name": "python_learn"
  },
  "language_info": {
   "codemirror_mode": {
    "name": "ipython",
    "version": 3
   },
   "file_extension": ".py",
   "mimetype": "text/x-python",
   "name": "python",
   "nbconvert_exporter": "python",
   "pygments_lexer": "ipython3",
   "version": "3.5.2"
  }
 },
 "nbformat": 4,
 "nbformat_minor": 4
}
