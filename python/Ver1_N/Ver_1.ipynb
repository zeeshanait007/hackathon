{
 "cells": [
  {
   "cell_type": "code",
   "execution_count": 1,
   "metadata": {},
   "outputs": [],
   "source": [
    "import numpy as np\n",
    "import numpy as np\n",
    "import pandas as pd\n",
    "#import WindFarmGenetic_v1 # wind farm layout optimization using genetic algorithms classes\n",
    "from datetime import datetime\n",
    "import os\n",
    "from sklearn.svm import SVR\n",
    "import pickle\n"
   ]
  },
  {
   "cell_type": "code",
   "execution_count": 2,
   "metadata": {},
   "outputs": [
    {
     "data": {
      "text/plain": [
       "'/home/naveen/arena/hackathon/shell/hackathon/python/Ver1_N'"
      ]
     },
     "execution_count": 2,
     "metadata": {},
     "output_type": "execute_result"
    }
   ],
   "source": [
    "import os\n",
    "os.getcwd()"
   ]
  },
  {
   "cell_type": "code",
   "execution_count": 3,
   "metadata": {},
   "outputs": [],
   "source": [
    "##\n",
    "wt_N=50  #number of turbines\n",
    "NA_loc=[]  #index of obstructed locations\n",
    "population_size=100  #population size/number of layouts for genetic algorithms\n",
    "n_mc_samples=10000 #population/layout for SVM training\n",
    "iteration_times=100  #number of iterations\n",
    "\n",
    "# wind farm size, cells\n",
    "cols_cells = 200  # number of cells each row\n",
    "rows_cells = 200  # number of cells each column\n",
    "cell_width = 20 # unit (TBD)--> have to be computed.\n",
    "constraint_dist = 400 #unit distance between two turbines\n",
    "constraint_perim = 50\n",
    "\n",
    "radius=np.ceil(constraint_dist/cell_width)\n",
    "\n",
    "#genetic algorithmic parameters.\n",
    "elite_rate = 0.2 \n",
    "cross_rate = 0.6\n",
    "mutate_rate = 0.1\n",
    "\n",
    "random_rate = 0.5\n",
    "num_runs=2 #number of independent runs with random initialization.\n"
   ]
  },
  {
   "cell_type": "code",
   "execution_count": 5,
   "metadata": {},
   "outputs": [],
   "source": [
    "perim_cells=int(np.ceil(constraint_perim/cell_width)) #TBU generalize it for multiple boundary cells.\n",
    "NA_loc=[] \n",
    "\n",
    "for curr_perim_cell in range(perim_cells):\n",
    "    NA_loc.extend([i+cols_cells*curr_perim_cell for i in range(cols_cells)]) #upper row\n",
    "    NA_loc.extend([i*(cols_cells)+curr_perim_cell for i in range(rows_cells)]) #left boundary\n",
    "    NA_loc.extend([i*(cols_cells)+cols_cells-1-curr_perim_cell for i in range(rows_cells)])#right Boundary\n",
    "    NA_loc.extend([(cols_cells)*(rows_cells-1-curr_perim_cell)+i for i in range(rows_cells)])#down Boundary\n"
   ]
  },
  {
   "cell_type": "code",
   "execution_count": 8,
   "metadata": {},
   "outputs": [],
   "source": [
    "data_folder = \"naveen_data\" #temporary code related files. (MOdify it as per your specification)\n",
    "svr_model_filename = 'svr_1s1d_N_13.svr' #svr training file.\n",
    "if not os.path.exists(data_folder):\n",
    "    os.makedirs(data_folder)\n",
    "\n",
    "wds_data_folder = \"{}/wds\".format(data_folder)\n",
    "if not os.path.exists(wds_data_folder):\n",
    "    os.makedirs(wds_data_folder)\n",
    "    \n",
    "# initial populations saved folder\n",
    "init_pops_data_folder = \"{}/init_data\".format(data_folder)\n",
    "if not os.path.exists(init_pops_data_folder):\n",
    "    os.makedirs(init_pops_data_folder)\n",
    "\n",
    "#result folder\n",
    "results_data_folder = data_folder+\"/results\"\n",
    "if not os.path.exists(results_data_folder):\n",
    "    os.makedirs(results_data_folder)\n",
    "    \n",
    "#result folder for sugga genetic algorithm\n",
    "sg_result_folder = \"{}/sg\".format(results_data_folder)\n",
    "if not os.path.exists(sg_result_folder):\n",
    "    os.makedirs(sg_result_folder)"
   ]
  },
  {
   "cell_type": "code",
   "execution_count": 9,
   "metadata": {},
   "outputs": [],
   "source": [
    "import WindFarmGenetic_v1 as WindFarmGenetic\n",
    "wfg = WindFarmGenetic.WindFarmGenetic(rows=rows_cells, cols=cols_cells, N=wt_N, NA_loc=NA_loc, pop_size=population_size,\n",
    "                                      iteration=iteration_times,cell_width=cell_width, elite_rate=elite_rate,\n",
    "                                             cross_rate=cross_rate, random_rate=random_rate, mutate_rate=mutate_rate,constraint_dist=constraint_dist)"
   ]
  },
  {
   "cell_type": "code",
   "execution_count": 10,
   "metadata": {},
   "outputs": [
    {
     "name": "stderr",
     "output_type": "stream",
     "text": [
      "Generation layout: 100%|██████████| 100/100 [10:37<00:00,  6.38s/it]\n",
      "Generation layout: 100%|██████████| 100/100 [04:59<00:00,  2.99s/it]\n"
     ]
    }
   ],
   "source": [
    "for i in range(num_runs):\n",
    "    wfg.gen_init_pop_NA()\n",
    "    wfg.save_init_pop_NA(\"{}/init_{}.dat\".format(init_pops_data_folder, i),\n",
    "                         \"{}/init_{}_NA.dat\".format(init_pops_data_folder, i))"
   ]
  },
  {
   "cell_type": "code",
   "execution_count": 8,
   "metadata": {},
   "outputs": [
    {
     "name": "stderr",
     "output_type": "stream",
     "text": [
      "Generation layout: 100%|██████████| 100/100 [00:35<00:00,  2.81it/s]\n"
     ]
    }
   ],
   "source": [
    "##Generate initial layouts: single layout--> 1d array of size row*col, layouts are set of num_training_sample_SVM different(random) layouts.  \n",
    "train_mc_layouts, train_mc_layouts_NA = WindFarmGenetic.LayoutGridMCGenerator.gen_mc_grid_with_NA_loc_circle(rows_cells,\n",
    "                                                                                                      cols_cells,\n",
    "                                                                                                      n_mc_samples,\n",
    "                                                                                                      wt_N, NA_loc,radius,\n",
    "                                                                                                      \"{}/mc_layout.dat\".format(wds_data_folder),\n",
    "                                                                                                      \"{}/mc_layout_NA.dat\".format(wds_data_folder))\n",
    "\n",
    "layouts = np.genfromtxt(\"{}/mc_layout.dat\".format(wds_data_folder), delimiter=\"  \", dtype=np.int32)"
   ]
  },
  {
   "cell_type": "code",
   "execution_count": 9,
   "metadata": {},
   "outputs": [
    {
     "name": "stderr",
     "output_type": "stream",
     "text": [
      "layouts: 100%|██████████| 100/100 [00:23<00:00,  4.30it/s]\n"
     ]
    }
   ],
   "source": [
    "\n",
    "wfg.mc_gen_xy_NA_hackathon(rows=rows_cells, cols=cols_cells, layouts=layouts, n=n_mc_samples, N=wt_N,  xfname=\"{}/x.dat\".format(wds_data_folder),\n",
    "                 yfname=\"{}/y.dat\".format(wds_data_folder))"
   ]
  },
  {
   "cell_type": "code",
   "execution_count": 9,
   "metadata": {},
   "outputs": [],
   "source": [
    "x_original = pd.read_csv(\"{}/x.dat\".format(wds_data_folder), header=None, nrows=rows_cells * cols_cells,\n",
    "                         delim_whitespace=True, dtype=np.float32)\n",
    "x_original = x_original.values"
   ]
  },
  {
   "cell_type": "code",
   "execution_count": 10,
   "metadata": {},
   "outputs": [],
   "source": [
    "y_original = pd.read_csv(\"{}/y.dat\".format(wds_data_folder), header=None, nrows=rows_cells * cols_cells,\n",
    "                         delim_whitespace=True, dtype=np.float32)\n",
    "y_original = y_original.values.flatten()"
   ]
  },
  {
   "cell_type": "code",
   "execution_count": 18,
   "metadata": {},
   "outputs": [
    {
     "data": {
      "text/plain": [
       "array([0., 0., 0., ..., 0., 0., 0.], dtype=float32)"
      ]
     },
     "execution_count": 18,
     "metadata": {},
     "output_type": "execute_result"
    }
   ],
   "source": [
    "y_original"
   ]
  },
  {
   "cell_type": "code",
   "execution_count": 11,
   "metadata": {},
   "outputs": [
    {
     "name": "stdout",
     "output_type": "stream",
     "text": [
      "(6400, 2)\n",
      "(6400,)\n"
     ]
    }
   ],
   "source": [
    "print(x_original.shape)\n",
    "print(y_original.shape)"
   ]
  },
  {
   "cell_type": "code",
   "execution_count": 12,
   "metadata": {},
   "outputs": [],
   "source": [
    "# create a SVR object and specify the kernal and other parameters\n",
    "svr_model = SVR(kernel='rbf', C=1.0, gamma=0.3, epsilon=.1)\n",
    "# build the SVR power distribution model\n",
    "svr_model.fit(x_original, y_original)\n",
    "\n",
    "# save the SVR model to a file\n",
    "pickle.dump(svr_model, open(\"{}/{}\".format(wds_data_folder, svr_model_filename), 'wb'))"
   ]
  },
  {
   "cell_type": "code",
   "execution_count": 17,
   "metadata": {},
   "outputs": [
    {
     "data": {
      "text/plain": [
       "5709"
      ]
     },
     "execution_count": 17,
     "metadata": {},
     "output_type": "execute_result"
    }
   ],
   "source": [
    "len(svr_model.support_vectors_)"
   ]
  },
  {
   "cell_type": "code",
   "execution_count": null,
   "metadata": {},
   "outputs": [],
   "source": [
    "del x_original\n",
    "del y_original"
   ]
  },
  {
   "cell_type": "code",
   "execution_count": 11,
   "metadata": {},
   "outputs": [],
   "source": [
    "svr_model=pickle.load(open(\"{}/{}\".format(wds_data_folder, svr_model_filename), 'rb'))"
   ]
  },
  {
   "cell_type": "code",
   "execution_count": 12,
   "metadata": {},
   "outputs": [
    {
     "name": "stdout",
     "output_type": "stream",
     "text": [
      "run number: 0 ...\n"
     ]
    },
    {
     "name": "stderr",
     "output_type": "stream",
     "text": [
      "layouts:   0%|          | 0/100 [00:00<?, ?it/s]"
     ]
    },
    {
     "name": "stdout",
     "output_type": "stream",
     "text": [
      "Support vector regression guided genetic algorithm starts....\n",
      "generation 0...\n"
     ]
    },
    {
     "name": "stderr",
     "output_type": "stream",
     "text": [
      "layouts: 100%|██████████| 100/100 [00:36<00:00,  2.75it/s]\n"
     ]
    },
    {
     "name": "stdout",
     "output_type": "stream",
     "text": [
      "[512.5478  511.74945 512.4323  515.668   511.52927 510.88672 510.31277\n",
      " 511.12906 513.112   511.2019  512.4457  510.79144 512.5853  511.29016\n",
      " 510.34995 509.8945  509.66077 509.8265  510.85626 512.92816 513.2006\n",
      " 509.76382 512.6866  513.6231  511.95502 510.7786  511.08954 509.1975\n",
      " 510.48334 514.6012  507.2884  511.16318 511.6991  510.5968  511.3447\n",
      " 509.70233 516.3011  511.01605 513.7068  509.25604 510.85306 511.38504\n",
      " 510.102   513.55084 512.4496  514.30035 511.64764 509.7853  510.9809\n",
      " 506.83414 515.0243  512.8646  511.25433 508.54865 511.93045 510.86374\n",
      " 514.50476 511.387   513.1675  509.2618  512.4461  513.2064  510.9592\n",
      " 508.16098 510.73007 511.00497 512.8911  514.20245 512.3146  511.76807\n",
      " 513.7142  512.6128  511.93118 508.14484 513.9519  508.12094 512.6638\n",
      " 512.57477 512.6914  512.31445 509.956   510.52158 515.4132  512.4242\n",
      " 512.96844 512.60925 509.98294 511.6789  510.78842 513.38226 508.28293\n",
      " 510.48782 514.51733 512.4829  510.63705 514.67914 510.68262 511.6019\n",
      " 511.99838 511.94626]\n"
     ]
    },
    {
     "name": "stderr",
     "output_type": "stream",
     "text": [
      "layouts:   0%|          | 0/100 [00:00<?, ?it/s]"
     ]
    },
    {
     "name": "stdout",
     "output_type": "stream",
     "text": [
      "generation 1...\n"
     ]
    },
    {
     "name": "stderr",
     "output_type": "stream",
     "text": [
      "layouts: 100%|██████████| 100/100 [00:35<00:00,  2.80it/s]\n"
     ]
    },
    {
     "name": "stdout",
     "output_type": "stream",
     "text": [
      "[517.0725  515.83    515.663   515.2668  511.81665 513.39526 510.4967\n",
      " 512.2302  511.81546 509.43228 512.36835 511.70685 510.20972 511.51135\n",
      " 514.04645 512.59344 510.85275 512.4112  511.14505 512.79193 516.25476\n",
      " 512.2213  511.68567 513.7793  511.59564 513.0665  510.2001  514.4749\n",
      " 512.82465 511.8093  513.2206  509.88568 511.45593 514.07666 514.6034\n",
      " 514.7589  515.5157  511.33182 514.8431  512.644   513.46185 511.4412\n",
      " 511.0238  511.11365 515.4893  508.90637 513.41956 510.27106 508.52542\n",
      " 514.19946 514.29877 511.9547  512.8572  512.16327 511.53168 509.84354\n",
      " 514.5791  513.2814  513.1992  511.7823  514.6295  510.39572 511.43182\n",
      " 515.4654  512.60223 511.99362 512.48376 511.2381  511.8905  514.7418\n",
      " 513.50385 512.05396 512.9723  513.6244  511.56537 511.7319  514.92645\n",
      " 514.05176 517.0891  513.731   512.0291  510.14563 515.573   514.5613\n",
      " 513.7879  511.4228  511.68253 515.3176  512.98096 515.19995 514.9671\n",
      " 515.5748  510.81363 511.86044 513.0525  513.9599  513.41144 513.43726\n",
      " 511.8348  514.76715]\n"
     ]
    },
    {
     "name": "stderr",
     "output_type": "stream",
     "text": [
      "layouts:   0%|          | 0/100 [00:00<?, ?it/s]"
     ]
    },
    {
     "name": "stdout",
     "output_type": "stream",
     "text": [
      "generation 2...\n"
     ]
    },
    {
     "name": "stderr",
     "output_type": "stream",
     "text": [
      "layouts: 100%|██████████| 100/100 [02:02<00:00,  1.22s/it]\n"
     ]
    },
    {
     "name": "stdout",
     "output_type": "stream",
     "text": [
      "[516.2203  515.7085  511.9456  514.5882  514.3448  510.09338 513.3282\n",
      " 514.76483 513.1996  515.40106 512.7281  516.7127  514.0198  511.55353\n",
      " 516.08276 515.4942  512.0218  515.27496 512.20087 516.48096 515.2561\n",
      " 515.0771  511.35834 514.3983  514.37537 514.6459  514.97296 513.9876\n",
      " 514.681   511.64136 512.85333 511.74045 516.1105  511.37622 513.85657\n",
      " 514.72253 512.76886 515.9094  513.10803 509.29276 513.4912  510.36246\n",
      " 510.42258 510.89566 512.8258  511.01874 511.36417 511.0861  508.3651\n",
      " 512.38983 514.81866 515.363   515.6497  512.7965  512.1193  514.34985\n",
      " 512.43945 512.5841  513.3526  515.62683 512.7929  514.11066 515.7983\n",
      " 511.16537 512.31824 511.56958 513.8464  515.1052  514.91846 511.80075\n",
      " 511.96274 511.69522 511.71393 516.3102  512.5912  511.18448 514.90826\n",
      " 514.4971  515.22504 513.10266 515.29144 516.3854  511.55582 514.3614\n",
      " 513.73334 511.52258 514.4609  511.12863 512.7663  514.1831  512.8177\n",
      " 515.05554 514.73376 508.7899  511.91083 515.07886 514.2625  512.578\n",
      " 515.3237  515.32275]\n"
     ]
    },
    {
     "name": "stderr",
     "output_type": "stream",
     "text": [
      "layouts:   0%|          | 0/100 [00:00<?, ?it/s]"
     ]
    },
    {
     "name": "stdout",
     "output_type": "stream",
     "text": [
      "generation 3...\n"
     ]
    },
    {
     "name": "stderr",
     "output_type": "stream",
     "text": [
      "layouts: 100%|██████████| 100/100 [01:58<00:00,  1.18s/it]\n"
     ]
    },
    {
     "name": "stdout",
     "output_type": "stream",
     "text": [
      "[516.81287 516.956   512.2308  512.2786  514.67053 512.8596  513.9302\n",
      " 513.072   512.8692  513.17053 513.4401  512.332   512.2835  512.36475\n",
      " 516.33685 511.08905 516.00366 513.0471  513.17487 517.0785  513.88257\n",
      " 511.5578  515.97455 515.67175 515.9189  514.8447  512.98004 512.9713\n",
      " 515.3064  514.955   514.4083  514.15173 516.99915 515.42633 515.06213\n",
      " 511.5056  515.0734  513.6105  514.0616  510.1408  513.2324  514.4148\n",
      " 515.5266  512.91046 515.41003 511.7324  512.5151  513.9272  515.5674\n",
      " 515.38477 514.8224  515.01263 516.75806 513.08466 513.54755 514.239\n",
      " 514.3178  515.4308  515.85004 512.8946  512.0208  515.6304  516.3546\n",
      " 510.6201  512.9593  512.835   514.4415  511.46048 515.0372  512.9344\n",
      " 512.54944 512.0401  511.57947 513.8838  513.15814 512.4185  514.0187\n",
      " 513.3604  512.6984  512.4492  510.6877  511.82047 513.2294  515.04803\n",
      " 512.3435  516.6298  512.5858  513.3999  514.9471  513.7243  513.7061\n",
      " 516.90686 514.68463 513.80035 511.53326 513.0323  513.72516 513.68146\n",
      " 515.981   513.8306 ]\n"
     ]
    },
    {
     "name": "stderr",
     "output_type": "stream",
     "text": [
      "layouts:   0%|          | 0/100 [00:00<?, ?it/s]"
     ]
    },
    {
     "name": "stdout",
     "output_type": "stream",
     "text": [
      "generation 4...\n"
     ]
    },
    {
     "name": "stderr",
     "output_type": "stream",
     "text": [
      "layouts: 100%|██████████| 100/100 [00:36<00:00,  2.72it/s]\n"
     ]
    },
    {
     "name": "stdout",
     "output_type": "stream",
     "text": [
      "[517.2992  517.6272  516.5895  516.2942  516.0498  516.50574 516.82056\n",
      " 515.68085 515.89526 516.2337  515.28394 515.2461  516.59283 516.6623\n",
      " 515.86163 515.3952  515.8108  515.6271  514.7704  512.92816 512.61523\n",
      " 515.47626 516.2097  516.78314 514.36456 513.56396 511.13815 512.217\n",
      " 515.85425 513.66895 514.0403  515.7207  513.2241  509.61887 515.01074\n",
      " 512.152   513.29315 511.26404 514.22186 514.3691  511.3468  511.98\n",
      " 515.96    512.3758  514.8384  515.9229  514.1611  514.51263 513.8622\n",
      " 515.2004  514.9515  514.3014  515.1613  516.8744  516.99146 515.38837\n",
      " 516.0687  514.295   515.4074  515.48376 513.47205 514.43616 513.91437\n",
      " 516.07965 512.7203  513.0422  514.2751  515.2018  515.97595 515.80725\n",
      " 513.84546 512.2292  516.4967  515.4342  515.5974  515.7138  511.96777\n",
      " 514.83057 513.1467  516.5477  513.65393 515.2162  516.092   515.6828\n",
      " 516.691   512.4649  513.127   515.8212  515.0058  516.2115  516.02325\n",
      " 516.2536  515.41895 516.38873 513.46326 512.7048  516.18866 514.5778\n",
      " 514.243   511.71713]\n"
     ]
    },
    {
     "name": "stderr",
     "output_type": "stream",
     "text": [
      "layouts:   0%|          | 0/100 [00:00<?, ?it/s]"
     ]
    },
    {
     "name": "stdout",
     "output_type": "stream",
     "text": [
      "generation 5...\n"
     ]
    },
    {
     "name": "stderr",
     "output_type": "stream",
     "text": [
      "layouts: 100%|██████████| 100/100 [00:36<00:00,  2.76it/s]\n"
     ]
    },
    {
     "name": "stdout",
     "output_type": "stream",
     "text": [
      "[517.8883  517.0512  517.0757  517.41    517.98254 516.5565  516.884\n",
      " 515.962   517.09344 516.4603  516.4693  516.6715  517.1186  515.28955\n",
      " 514.376   516.0892  514.6504  516.4491  514.1116  513.83344 516.3777\n",
      " 514.1402  512.4863  514.4908  514.7687  515.7886  514.1117  516.3567\n",
      " 516.3238  516.89136 514.3287  517.0988  516.57    516.4607  515.59906\n",
      " 515.49316 514.77893 517.3172  516.3208  516.57245 515.8356  516.93243\n",
      " 514.9191  514.46484 515.8627  514.82544 512.972   516.18695 511.9441\n",
      " 514.9176  515.4376  511.39053 517.07416 513.5564  516.20886 516.01434\n",
      " 513.22736 514.3979  514.8166  517.4051  515.3209  515.16034 517.0919\n",
      " 514.77    515.2273  515.69525 516.6542  513.77356 514.7435  513.6357\n",
      " 517.075   515.2246  515.8031  513.4229  516.9232  516.36206 513.6185\n",
      " 517.3658  517.4142  516.8508  516.9226  516.03906 516.4222  517.2389\n",
      " 513.2706  514.84845 517.29974 516.8426  517.0642  515.0419  516.5993\n",
      " 516.21375 516.3059  516.1826  517.1285  517.0527  516.51996 513.03784\n",
      " 513.28174 513.9965 ]\n"
     ]
    },
    {
     "name": "stderr",
     "output_type": "stream",
     "text": [
      "layouts:   0%|          | 0/100 [00:00<?, ?it/s]"
     ]
    },
    {
     "name": "stdout",
     "output_type": "stream",
     "text": [
      "generation 6...\n"
     ]
    },
    {
     "name": "stderr",
     "output_type": "stream",
     "text": [
      "layouts: 100%|██████████| 100/100 [00:37<00:00,  2.68it/s]\n"
     ]
    },
    {
     "name": "stdout",
     "output_type": "stream",
     "text": [
      "[517.9828  516.1988  517.41254 516.35126 517.36804 516.1652  517.92993\n",
      " 516.45703 516.70074 516.3483  514.3187  514.9476  516.4217  516.8335\n",
      " 515.8272  516.65326 516.3303  516.78204 515.3399  516.0526  514.94037\n",
      " 517.5561  516.35846 517.3256  517.5966  517.3133  517.23285 517.0582\n",
      " 516.1133  515.8471  513.4208  518.6012  516.78107 515.30945 513.7309\n",
      " 516.2199  515.3708  516.9962  517.61896 517.5635  513.8053  516.79913\n",
      " 515.2192  517.6658  515.0441  516.07513 512.6429  517.47986 514.4239\n",
      " 517.42957 513.73834 516.1372  515.5742  515.2965  518.06915 514.4391\n",
      " 515.5904  515.71423 517.0082  516.9093  516.77515 516.14575 516.21094\n",
      " 516.0807  514.1597  516.1513  516.4835  515.39935 511.7199  517.9016\n",
      " 516.5664  515.22784 516.8254  516.61017 516.505   513.90826 516.5106\n",
      " 513.43555 513.5935  516.2071  517.2185  515.1683  514.102   514.0985\n",
      " 517.32166 513.36475 517.334   515.2258  516.9734  516.5657  517.1527\n",
      " 515.8903  515.6885  515.5477  516.96295 515.5803  515.83203 515.2921\n",
      " 514.6962  517.47125]\n"
     ]
    },
    {
     "name": "stderr",
     "output_type": "stream",
     "text": [
      "layouts:   0%|          | 0/100 [00:00<?, ?it/s]"
     ]
    },
    {
     "name": "stdout",
     "output_type": "stream",
     "text": [
      "generation 7...\n"
     ]
    },
    {
     "name": "stderr",
     "output_type": "stream",
     "text": [
      "layouts: 100%|██████████| 100/100 [00:38<00:00,  2.57it/s]\n"
     ]
    },
    {
     "name": "stdout",
     "output_type": "stream",
     "text": [
      "[517.6808  518.3171  518.62384 517.8008  517.63806 517.4693  516.3173\n",
      " 518.1075  517.5968  513.49567 513.2736  514.7861  513.8031  516.55963\n",
      " 516.9555  517.3467  516.2337  517.95935 516.6798  515.21716 515.815\n",
      " 517.46387 516.29095 514.39984 517.7588  517.2162  517.1986  517.8846\n",
      " 515.883   517.655   516.40515 517.65125 517.4209  516.18774 517.5641\n",
      " 515.71387 516.20953 517.8011  515.55566 513.28815 515.4507  514.70874\n",
      " 515.39233 518.11554 518.0181  518.18317 516.5358  516.54346 517.9746\n",
      " 514.3096  517.2849  516.6789  517.3354  516.6948  515.1504  515.9544\n",
      " 517.1332  516.3428  515.78625 515.4665  515.4913  516.9452  517.546\n",
      " 515.59314 516.8002  518.1093  517.2796  516.91956 514.87305 517.8122\n",
      " 516.7774  518.258   517.6427  517.03436 517.1336  514.7046  517.20734\n",
      " 515.88226 514.68243 516.2723  515.4782  517.7451  516.9818  516.28156\n",
      " 515.85974 516.36395 515.2253  516.7365  513.877   514.21564 516.88153\n",
      " 516.5055  516.41003 518.0273  516.9549  514.3429  518.6073  515.0593\n",
      " 514.4893  516.6939 ]\n"
     ]
    },
    {
     "name": "stderr",
     "output_type": "stream",
     "text": [
      "layouts:   0%|          | 0/100 [00:00<?, ?it/s]"
     ]
    },
    {
     "name": "stdout",
     "output_type": "stream",
     "text": [
      "generation 8...\n"
     ]
    },
    {
     "name": "stderr",
     "output_type": "stream",
     "text": [
      "layouts: 100%|██████████| 100/100 [00:39<00:00,  2.56it/s]\n"
     ]
    },
    {
     "name": "stdout",
     "output_type": "stream",
     "text": [
      "[518.4376  517.7519  518.05286 518.11444 515.31085 516.84515 518.12646\n",
      " 517.8167  518.0027  516.5528  517.95264 517.72034 517.6148  516.41315\n",
      " 516.1979  516.79663 518.1076  517.98865 517.804   518.1381  517.5878\n",
      " 517.15796 517.62854 516.54205 516.26135 516.55096 517.0238  516.5671\n",
      " 513.90796 517.27905 515.8809  516.69525 516.6753  516.9283  516.45087\n",
      " 516.4543  517.2845  518.49554 517.1366  517.5558  517.0311  517.69727\n",
      " 514.67834 514.99756 515.9093  518.35    514.6848  516.10474 512.4364\n",
      " 517.01245 515.3643  515.06    514.82495 517.3404  516.9766  515.94135\n",
      " 517.6126  518.2538  517.9608  516.2359  515.697   516.49066 516.8537\n",
      " 516.8183  517.56866 518.06805 517.1038  514.79095 516.85913 517.109\n",
      " 518.368   517.77374 515.8387  515.6978  515.2552  515.4527  516.9839\n",
      " 517.1649  518.0913  517.90094 518.10535 514.1973  517.3344  516.3807\n",
      " 517.42255 517.07227 512.51886 517.6639  517.34564 517.48413 516.73016\n",
      " 517.1707  516.2106  517.2599  515.9963  516.68787 517.7822  517.55493\n",
      " 516.2073  517.5268 ]\n"
     ]
    },
    {
     "name": "stderr",
     "output_type": "stream",
     "text": [
      "layouts:   0%|          | 0/100 [00:00<?, ?it/s]"
     ]
    },
    {
     "name": "stdout",
     "output_type": "stream",
     "text": [
      "generation 9...\n"
     ]
    },
    {
     "name": "stderr",
     "output_type": "stream",
     "text": [
      "layouts: 100%|██████████| 100/100 [00:39<00:00,  2.54it/s]\n"
     ]
    },
    {
     "name": "stdout",
     "output_type": "stream",
     "text": [
      "[518.84814 518.05096 517.0689  517.9516  517.9631  517.4711  517.23846\n",
      " 516.51447 516.7638  516.9144  516.34424 516.1931  516.74225 518.5664\n",
      " 516.79596 515.9349  517.8025  516.92865 518.4203  518.18835 517.25165\n",
      " 516.3896  517.26044 517.47864 515.2507  516.41797 517.59454 517.137\n",
      " 515.66376 515.2302  518.78455 517.9356  516.4906  516.629   516.74695\n",
      " 517.64374 517.02527 516.8368  516.2578  517.25903 517.1237  517.0204\n",
      " 517.6129  517.20996 517.6908  513.5671  516.31226 517.8403  514.23395\n",
      " 517.30475 518.2099  514.7955  516.84296 516.79694 518.3756  518.28894\n",
      " 518.9336  515.78046 515.9543  517.1729  516.84045 515.6161  518.0981\n",
      " 517.23126 516.753   516.39233 515.3849  517.28534 517.12286 517.76074\n",
      " 515.42    517.1295  518.99884 516.2719  518.5074  514.8099  518.6291\n",
      " 513.1698  517.1901  516.4463  516.7404  517.6137  516.60834 516.4244\n",
      " 516.69116 515.3338  514.8292  515.86316 513.3465  516.9262  514.58014\n",
      " 517.8829  518.65485 515.5299  515.51263 517.6019  516.556   516.68146\n",
      " 514.6824  519.30145]\n"
     ]
    },
    {
     "name": "stderr",
     "output_type": "stream",
     "text": [
      "layouts:   0%|          | 0/100 [00:00<?, ?it/s]"
     ]
    },
    {
     "name": "stdout",
     "output_type": "stream",
     "text": [
      "generation 10...\n"
     ]
    },
    {
     "name": "stderr",
     "output_type": "stream",
     "text": [
      "layouts: 100%|██████████| 100/100 [00:38<00:00,  2.59it/s]\n"
     ]
    },
    {
     "name": "stdout",
     "output_type": "stream",
     "text": [
      "[519.45575 517.7118  515.7901  517.3835  516.28186 517.30194 515.9657\n",
      " 513.6149  517.61993 517.2393  517.3978  517.7752  517.72894 516.8426\n",
      " 514.67615 517.2003  516.5599  516.37537 518.9273  516.05756 517.0023\n",
      " 517.8256  515.92413 516.538   517.2612  517.837   517.543   516.6177\n",
      " 517.1124  517.51575 515.70807 516.3129  516.8665  517.422   517.1398\n",
      " 517.9289  518.30334 517.18274 515.58185 516.4667  516.2162  516.56146\n",
      " 516.9147  517.8836  515.6522  517.493   517.5024  517.8674  517.2822\n",
      " 517.7607  517.2778  516.98706 517.12305 517.2811  516.16364 516.9879\n",
      " 516.5503  517.9322  512.6656  516.832   516.4563  516.79926 518.61115\n",
      " 515.55066 515.359   517.71277 516.2917  516.6496  517.2219  517.1982\n",
      " 517.47955 516.9317  517.949   518.1195  517.7796  516.6355  516.6294\n",
      " 517.6909  515.5949  519.0239  517.3667  516.1634  515.6134  516.7571\n",
      " 516.7354  516.88684 515.83435 515.5423  515.0832  517.6386  514.5619\n",
      " 514.7555  516.7513  517.101   517.3427  517.2377  516.1378  516.57184\n",
      " 516.748   518.7406 ]\n"
     ]
    },
    {
     "ename": "KeyboardInterrupt",
     "evalue": "",
     "output_type": "error",
     "traceback": [
      "\u001b[0;31m---------------------------------------------------------------------------\u001b[0m",
      "\u001b[0;31mKeyboardInterrupt\u001b[0m                         Traceback (most recent call last)",
      "\u001b[0;32m<ipython-input-12-76ccff25a7e9>\u001b[0m in \u001b[0;36m<module>\u001b[0;34m\u001b[0m\n\u001b[1;32m      5\u001b[0m     wfg.load_init_pop_NA(\"{}/init_{}.dat\".format(init_pops_data_folder, i),\n\u001b[1;32m      6\u001b[0m                          \"{}/init_{}_NA.dat\".format(init_pops_data_folder, i))\n\u001b[0;32m----> 7\u001b[0;31m     \u001b[0mrun_time\u001b[0m\u001b[0;34m,\u001b[0m \u001b[0meta\u001b[0m \u001b[0;34m=\u001b[0m \u001b[0mwfg\u001b[0m\u001b[0;34m.\u001b[0m\u001b[0msugga_genetic_alg\u001b[0m\u001b[0;34m(\u001b[0m\u001b[0mi\u001b[0m\u001b[0;34m,\u001b[0m \u001b[0msvr_model\u001b[0m\u001b[0;34m=\u001b[0m\u001b[0msvr_model\u001b[0m\u001b[0;34m,\u001b[0m \u001b[0mresult_folder\u001b[0m\u001b[0;34m=\u001b[0m\u001b[0msg_result_folder\u001b[0m\u001b[0;34m)\u001b[0m\u001b[0;34m\u001b[0m\u001b[0m\n\u001b[0m\u001b[1;32m      8\u001b[0m     \u001b[0mresult_arr\u001b[0m\u001b[0;34m[\u001b[0m\u001b[0mi\u001b[0m\u001b[0;34m,\u001b[0m \u001b[0;36m0\u001b[0m\u001b[0;34m]\u001b[0m \u001b[0;34m=\u001b[0m \u001b[0mrun_time\u001b[0m\u001b[0;34m\u001b[0m\u001b[0m\n\u001b[1;32m      9\u001b[0m     \u001b[0mresult_arr\u001b[0m\u001b[0;34m[\u001b[0m\u001b[0mi\u001b[0m\u001b[0;34m,\u001b[0m \u001b[0;36m1\u001b[0m\u001b[0;34m]\u001b[0m \u001b[0;34m=\u001b[0m \u001b[0meta\u001b[0m\u001b[0;34m\u001b[0m\u001b[0m\n",
      "\u001b[0;32m~/arena/hackathon/shell/hackathon/python/Ver1_N/WindFarmGenetic_v1.py\u001b[0m in \u001b[0;36msugga_genetic_alg\u001b[0;34m(self, ind_time, svr_model, result_folder)\u001b[0m\n\u001b[1;32m    420\u001b[0m             self.sugga_crossover(N=self.N, pop=pop,pop_NA=pop_NA, pop_indices=pop_indices, pop_size=self.pop_size,\n\u001b[1;32m    421\u001b[0m                                           \u001b[0mn_parents\u001b[0m\u001b[0;34m=\u001b[0m\u001b[0mn_parents\u001b[0m\u001b[0;34m,\u001b[0m\u001b[0;34m\u001b[0m\u001b[0m\n\u001b[0;32m--> 422\u001b[0;31m                                           parent_layouts=parent_layouts,parent_layouts_NA=parent_layouts_NA, parent_pop_indices=parent_pop_indices,elite_pop_num=elite_pop_num)\n\u001b[0m\u001b[1;32m    423\u001b[0m \u001b[0;34m\u001b[0m\u001b[0m\n\u001b[1;32m    424\u001b[0m \u001b[0;34m\u001b[0m\u001b[0m\n",
      "\u001b[0;32m~/arena/hackathon/shell/hackathon/python/Ver1_N/WindFarmGenetic_v1.py\u001b[0m in \u001b[0;36msugga_crossover\u001b[0;34m(self, N, pop, pop_NA, pop_indices, pop_size, n_parents, parent_layouts, parent_layouts_NA, parent_pop_indices, elite_pop_num)\u001b[0m\n\u001b[1;32m    304\u001b[0m                 \u001b[0mtur_pos\u001b[0m\u001b[0;34m=\u001b[0m\u001b[0mnp\u001b[0m\u001b[0;34m.\u001b[0m\u001b[0mwhere\u001b[0m\u001b[0;34m(\u001b[0m\u001b[0mpop\u001b[0m\u001b[0;34m[\u001b[0m\u001b[0mn_counter\u001b[0m\u001b[0;34m,\u001b[0m\u001b[0;34m:\u001b[0m\u001b[0;34m]\u001b[0m\u001b[0;34m==\u001b[0m\u001b[0;36m1\u001b[0m\u001b[0;34m)\u001b[0m\u001b[0;34m[\u001b[0m\u001b[0;36m0\u001b[0m\u001b[0;34m]\u001b[0m\u001b[0;34m\u001b[0m\u001b[0m\n\u001b[1;32m    305\u001b[0m                 \u001b[0;32mfor\u001b[0m \u001b[0mcurr_turb\u001b[0m \u001b[0;32min\u001b[0m \u001b[0mtur_pos\u001b[0m\u001b[0;34m:\u001b[0m\u001b[0;34m\u001b[0m\u001b[0m\n\u001b[0;32m--> 306\u001b[0;31m                     \u001b[0mind_interior_region\u001b[0m\u001b[0;34m=\u001b[0m\u001b[0mregionmappingindex\u001b[0m\u001b[0;34m(\u001b[0m\u001b[0mself\u001b[0m\u001b[0;34m.\u001b[0m\u001b[0mrows\u001b[0m\u001b[0;34m,\u001b[0m\u001b[0mcurr_turb\u001b[0m\u001b[0;34m,\u001b[0m\u001b[0mself\u001b[0m\u001b[0;34m.\u001b[0m\u001b[0mradius\u001b[0m\u001b[0;34m)\u001b[0m\u001b[0;34m\u001b[0m\u001b[0m\n\u001b[0m\u001b[1;32m    307\u001b[0m                     \u001b[0mpop_NA\u001b[0m\u001b[0;34m[\u001b[0m\u001b[0mn_counter\u001b[0m\u001b[0;34m,\u001b[0m \u001b[0mind_interior_region\u001b[0m\u001b[0;34m]\u001b[0m \u001b[0;34m=\u001b[0m \u001b[0mpop_NA\u001b[0m\u001b[0;34m[\u001b[0m\u001b[0mn_counter\u001b[0m\u001b[0;34m,\u001b[0m \u001b[0mind_interior_region\u001b[0m\u001b[0;34m]\u001b[0m \u001b[0;34m+\u001b[0m\u001b[0;36m1\u001b[0m\u001b[0;34m\u001b[0m\u001b[0m\n\u001b[1;32m    308\u001b[0m \u001b[0;34m\u001b[0m\u001b[0m\n",
      "\u001b[0;32m~/arena/hackathon/shell/hackathon/python/Ver1_N/WindFarmGenetic_v1.py\u001b[0m in \u001b[0;36mregionmappingindex\u001b[0;34m(dimen, center, radius, minCut)\u001b[0m\n\u001b[1;32m    499\u001b[0m     \u001b[0mregionMap\u001b[0m\u001b[0;34m[\u001b[0m\u001b[0mtuple\u001b[0m\u001b[0;34m(\u001b[0m\u001b[0mk\u001b[0m\u001b[0;34m.\u001b[0m\u001b[0mT\u001b[0m\u001b[0;34m)\u001b[0m\u001b[0;34m]\u001b[0m\u001b[0;34m=\u001b[0m\u001b[0;36m1\u001b[0m\u001b[0;34m\u001b[0m\u001b[0m\n\u001b[1;32m    500\u001b[0m \u001b[0;34m\u001b[0m\u001b[0m\n\u001b[0;32m--> 501\u001b[0;31m     \u001b[0marray\u001b[0m \u001b[0;34m=\u001b[0m \u001b[0;34m[\u001b[0m\u001b[0;34m(\u001b[0m\u001b[0mix\u001b[0m\u001b[0;34m,\u001b[0m\u001b[0miy\u001b[0m\u001b[0;34m)\u001b[0m \u001b[0;32mfor\u001b[0m \u001b[0mix\u001b[0m\u001b[0;34m,\u001b[0m \u001b[0mrow\u001b[0m \u001b[0;32min\u001b[0m \u001b[0menumerate\u001b[0m\u001b[0;34m(\u001b[0m\u001b[0mregionMap\u001b[0m\u001b[0;34m)\u001b[0m \u001b[0;32mfor\u001b[0m \u001b[0miy\u001b[0m\u001b[0;34m,\u001b[0m \u001b[0mi\u001b[0m \u001b[0;32min\u001b[0m \u001b[0menumerate\u001b[0m\u001b[0;34m(\u001b[0m\u001b[0mrow\u001b[0m\u001b[0;34m)\u001b[0m \u001b[0;32mif\u001b[0m \u001b[0mi\u001b[0m \u001b[0;34m==\u001b[0m \u001b[0;36m1\u001b[0m\u001b[0;34m]\u001b[0m\u001b[0;34m\u001b[0m\u001b[0m\n\u001b[0m\u001b[1;32m    502\u001b[0m     \u001b[0mindexlist\u001b[0m\u001b[0;34m=\u001b[0m\u001b[0mcordtoindex\u001b[0m\u001b[0;34m(\u001b[0m\u001b[0marray\u001b[0m\u001b[0;34m,\u001b[0m\u001b[0mdimen\u001b[0m\u001b[0;34m)\u001b[0m\u001b[0;34m\u001b[0m\u001b[0m\n\u001b[1;32m    503\u001b[0m     \u001b[0;32mreturn\u001b[0m \u001b[0mindexlist\u001b[0m\u001b[0;34m\u001b[0m\u001b[0m\n",
      "\u001b[0;32m~/arena/hackathon/shell/hackathon/python/Ver1_N/WindFarmGenetic_v1.py\u001b[0m in \u001b[0;36m<listcomp>\u001b[0;34m(.0)\u001b[0m\n\u001b[1;32m    499\u001b[0m     \u001b[0mregionMap\u001b[0m\u001b[0;34m[\u001b[0m\u001b[0mtuple\u001b[0m\u001b[0;34m(\u001b[0m\u001b[0mk\u001b[0m\u001b[0;34m.\u001b[0m\u001b[0mT\u001b[0m\u001b[0;34m)\u001b[0m\u001b[0;34m]\u001b[0m\u001b[0;34m=\u001b[0m\u001b[0;36m1\u001b[0m\u001b[0;34m\u001b[0m\u001b[0m\n\u001b[1;32m    500\u001b[0m \u001b[0;34m\u001b[0m\u001b[0m\n\u001b[0;32m--> 501\u001b[0;31m     \u001b[0marray\u001b[0m \u001b[0;34m=\u001b[0m \u001b[0;34m[\u001b[0m\u001b[0;34m(\u001b[0m\u001b[0mix\u001b[0m\u001b[0;34m,\u001b[0m\u001b[0miy\u001b[0m\u001b[0;34m)\u001b[0m \u001b[0;32mfor\u001b[0m \u001b[0mix\u001b[0m\u001b[0;34m,\u001b[0m \u001b[0mrow\u001b[0m \u001b[0;32min\u001b[0m \u001b[0menumerate\u001b[0m\u001b[0;34m(\u001b[0m\u001b[0mregionMap\u001b[0m\u001b[0;34m)\u001b[0m \u001b[0;32mfor\u001b[0m \u001b[0miy\u001b[0m\u001b[0;34m,\u001b[0m \u001b[0mi\u001b[0m \u001b[0;32min\u001b[0m \u001b[0menumerate\u001b[0m\u001b[0;34m(\u001b[0m\u001b[0mrow\u001b[0m\u001b[0;34m)\u001b[0m \u001b[0;32mif\u001b[0m \u001b[0mi\u001b[0m \u001b[0;34m==\u001b[0m \u001b[0;36m1\u001b[0m\u001b[0;34m]\u001b[0m\u001b[0;34m\u001b[0m\u001b[0m\n\u001b[0m\u001b[1;32m    502\u001b[0m     \u001b[0mindexlist\u001b[0m\u001b[0;34m=\u001b[0m\u001b[0mcordtoindex\u001b[0m\u001b[0;34m(\u001b[0m\u001b[0marray\u001b[0m\u001b[0;34m,\u001b[0m\u001b[0mdimen\u001b[0m\u001b[0;34m)\u001b[0m\u001b[0;34m\u001b[0m\u001b[0m\n\u001b[1;32m    503\u001b[0m     \u001b[0;32mreturn\u001b[0m \u001b[0mindexlist\u001b[0m\u001b[0;34m\u001b[0m\u001b[0m\n",
      "\u001b[0;31mKeyboardInterrupt\u001b[0m: "
     ]
    }
   ],
   "source": [
    "##### SUGGA: support vector regression guided genetic algorithm\n",
    "result_arr = np.zeros((num_runs, 2), dtype=np.float32)\n",
    "for i in range(0, num_runs):  # run times\n",
    "    print(\"run number: {} ...\".format(i))\n",
    "    wfg.load_init_pop_NA(\"{}/init_{}.dat\".format(init_pops_data_folder, i),\n",
    "                         \"{}/init_{}_NA.dat\".format(init_pops_data_folder, i))\n",
    "    run_time, eta = wfg.sugga_genetic_alg(i, svr_model=svr_model, result_folder=sg_result_folder)\n",
    "    result_arr[i, 0] = run_time\n",
    "    result_arr[i, 1] = eta\n",
    "time_stamp = datetime.now().strftime(\"%Y%m%d%H%M%S\")\n",
    "filename = \"{}/result_sugga_{}.dat\".format(sg_result_folder, time_stamp)\n",
    "np.savetxt(filename, result_arr, fmt='%f', delimiter=\"  \")"
   ]
  },
  {
   "cell_type": "markdown",
   "metadata": {
    "jupyter": {
     "source_hidden": true
    }
   },
   "source": [
    "### Shell Power Computation Package"
   ]
  },
  {
   "cell_type": "code",
   "execution_count": 1,
   "metadata": {},
   "outputs": [],
   "source": [
    "import sys \n",
    "sys.path.append('../Shell_Code_Modified/')"
   ]
  },
  {
   "cell_type": "code",
   "execution_count": 2,
   "metadata": {},
   "outputs": [],
   "source": [
    "import Farm_Evaluator_Vec"
   ]
  },
  {
   "cell_type": "code",
   "execution_count": 3,
   "metadata": {},
   "outputs": [],
   "source": [
    "total_energy, turbine_power=Farm_Evaluator_Vec.get_AEP_results()"
   ]
  },
  {
   "cell_type": "code",
   "execution_count": 4,
   "metadata": {},
   "outputs": [
    {
     "data": {
      "text/plain": [
       "array([1.2523587, 1.1595447, 1.1450489, 1.0768385, 1.176319 , 1.1840583,\n",
       "       1.13568  , 1.079648 , 1.0935222, 1.1273198, 1.0859367, 1.167106 ,\n",
       "       1.1016386, 1.124391 , 1.1225449, 1.100678 , 1.1647563, 1.2282459,\n",
       "       1.1581823, 1.197542 , 1.2453799, 1.2442212, 1.2059841, 1.1259376,\n",
       "       1.2380294, 1.1106503, 1.1325871, 1.1829029, 1.1153044, 1.1439447,\n",
       "       1.1912581, 1.1264657, 1.1022447, 1.1789318, 1.1049944, 1.2037905,\n",
       "       1.220672 , 1.1373823, 1.2131999, 1.1142861, 1.199062 , 1.141587 ,\n",
       "       1.1335138, 1.1493688, 1.0722657, 1.0965657, 1.2305766, 1.2662541,\n",
       "       1.1084578, 1.0826805], dtype=float32)"
      ]
     },
     "execution_count": 4,
     "metadata": {},
     "output_type": "execute_result"
    }
   ],
   "source": [
    "total_energy"
   ]
  },
  {
   "cell_type": "code",
   "execution_count": 5,
   "metadata": {},
   "outputs": [
    {
     "data": {
      "text/plain": [
       "505.4506365966797"
      ]
     },
     "execution_count": 5,
     "metadata": {},
     "output_type": "execute_result"
    }
   ],
   "source": [
    "turbine_power"
   ]
  }
 ],
 "metadata": {
  "kernelspec": {
   "display_name": "python_learn",
   "language": "python",
   "name": "python_learn"
  },
  "language_info": {
   "codemirror_mode": {
    "name": "ipython",
    "version": 3
   },
   "file_extension": ".py",
   "mimetype": "text/x-python",
   "name": "python",
   "nbconvert_exporter": "python",
   "pygments_lexer": "ipython3",
   "version": "3.5.2"
  }
 },
 "nbformat": 4,
 "nbformat_minor": 4
}
