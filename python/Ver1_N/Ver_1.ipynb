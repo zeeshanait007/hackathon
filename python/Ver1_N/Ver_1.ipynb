{
 "cells": [
  {
   "cell_type": "code",
   "execution_count": 1,
   "metadata": {},
   "outputs": [],
   "source": [
    "import numpy as np\n",
    "import numpy as np\n",
    "import pandas as pd\n",
    "#import WindFarmGenetic_v1 # wind farm layout optimization using genetic algorithms classes\n",
    "from datetime import datetime\n",
    "import os\n",
    "from sklearn.svm import SVR\n",
    "import pickle\n"
   ]
  },
  {
   "cell_type": "code",
   "execution_count": 2,
   "metadata": {},
   "outputs": [
    {
     "data": {
      "text/plain": [
       "'/home/naveen/arena/hackathon/shell/hackathon/python/Ver1_N'"
      ]
     },
     "execution_count": 2,
     "metadata": {},
     "output_type": "execute_result"
    }
   ],
   "source": [
    "import os\n",
    "os.getcwd()"
   ]
  },
  {
   "cell_type": "code",
   "execution_count": 3,
   "metadata": {},
   "outputs": [],
   "source": [
    "##\n",
    "wt_N=50  #number of turbines\n",
    "NA_loc=[]  #index of obstructed locations\n",
    "population_size=10  #population size/number of layouts for genetic algorithms\n",
    "n_mc_samples=100 #population/layout for SVM training\n",
    "iteration_times=100  #number of iterations\n",
    "\n",
    "# wind farm size, cells\n",
    "cols_cells = 80  # number of cells each row\n",
    "rows_cells = 80  # number of cells each column\n",
    "cell_width = 50 # unit (TBD)--> have to be computed.\n",
    "constraint_dist = 400 #unit distance between two turbines\n",
    "constraint_perim = 50\n",
    "\n",
    "radius=np.ceil(constraint_dist/cell_width)\n",
    "\n",
    "#genetic algorithmic parameters.\n",
    "elite_rate = 0.2 \n",
    "cross_rate = 0.6\n",
    "mutate_rate = 0.1\n",
    "\n",
    "random_rate = 0.5\n",
    "num_runs=10 #number of independent runs with random initialization.\n"
   ]
  },
  {
   "cell_type": "code",
   "execution_count": 4,
   "metadata": {},
   "outputs": [],
   "source": [
    "perim_cells=np.ceil(constraint_perim/cell_width) #TBU generalize it for multiple boundary cells.\n",
    "NA_loc=[] \n",
    "NA_loc.extend([i for i in range(cols_cells)]) #upper row\n",
    "NA_loc.extend([i*(cols_cells) for i in range(rows_cells)]) #left boundary\n",
    "NA_loc.extend([i*(cols_cells)+cols_cells-1 for i in range(rows_cells)])#right Boundary\n",
    "NA_loc.extend([(cols_cells)*(rows_cells-1)+i for i in range(rows_cells)])#right Boundary\n"
   ]
  },
  {
   "cell_type": "code",
   "execution_count": 5,
   "metadata": {},
   "outputs": [],
   "source": [
    "data_folder = \"naveen_data\" #temporary code related files. (MOdify it as per your specification)\n",
    "svr_model_filename = 'svr_1s1d_N_13.svr' #svr training file.\n",
    "if not os.path.exists(data_folder):\n",
    "    os.makedirs(data_folder)\n",
    "\n",
    "wds_data_folder = \"{}/wds\".format(data_folder)\n",
    "if not os.path.exists(wds_data_folder):\n",
    "    os.makedirs(wds_data_folder)\n",
    "    \n",
    "# initial populations saved folder\n",
    "init_pops_data_folder = \"{}/init_data\".format(data_folder)\n",
    "if not os.path.exists(init_pops_data_folder):\n",
    "    os.makedirs(init_pops_data_folder)\n",
    "\n",
    "#result folder\n",
    "results_data_folder = data_folder+\"/results\"\n",
    "if not os.path.exists(results_data_folder):\n",
    "    os.makedirs(results_data_folder)\n",
    "    \n",
    "#result folder for sugga genetic algorithm\n",
    "sg_result_folder = \"{}/sg\".format(results_data_folder)\n",
    "if not os.path.exists(sg_result_folder):\n",
    "    os.makedirs(sg_result_folder)"
   ]
  },
  {
   "cell_type": "code",
   "execution_count": 6,
   "metadata": {},
   "outputs": [],
   "source": [
    "import WindFarmGenetic_v1 as WindFarmGenetic\n",
    "wfg = WindFarmGenetic.WindFarmGenetic(rows=rows_cells, cols=cols_cells, N=wt_N, NA_loc=NA_loc, pop_size=population_size,\n",
    "                                      iteration=iteration_times,cell_width=cell_width, elite_rate=elite_rate,\n",
    "                                             cross_rate=cross_rate, random_rate=random_rate, mutate_rate=mutate_rate,constraint_dist=constraint_dist)"
   ]
  },
  {
   "cell_type": "code",
   "execution_count": 7,
   "metadata": {},
   "outputs": [
    {
     "name": "stderr",
     "output_type": "stream",
     "text": [
      "Generation layout: 100%|██████████| 10/10 [00:10<00:00,  1.02s/it]\n",
      "Generation layout: 100%|██████████| 10/10 [00:09<00:00,  1.07it/s]\n",
      "Generation layout: 100%|██████████| 10/10 [00:07<00:00,  1.33it/s]\n",
      "Generation layout: 100%|██████████| 10/10 [00:09<00:00,  1.06it/s]\n",
      "Generation layout: 100%|██████████| 10/10 [00:08<00:00,  1.15it/s]\n",
      "Generation layout: 100%|██████████| 10/10 [00:09<00:00,  1.02it/s]\n",
      "Generation layout: 100%|██████████| 10/10 [00:09<00:00,  1.07it/s]\n",
      "Generation layout: 100%|██████████| 10/10 [00:07<00:00,  1.29it/s]\n",
      "Generation layout: 100%|██████████| 10/10 [00:08<00:00,  1.12it/s]\n",
      "Generation layout: 100%|██████████| 10/10 [00:06<00:00,  1.44it/s]\n"
     ]
    }
   ],
   "source": [
    "for i in range(num_runs):\n",
    "    wfg.gen_init_pop_NA()\n",
    "    wfg.save_init_pop_NA(\"{}/init_{}.dat\".format(init_pops_data_folder, i),\n",
    "                         \"{}/init_{}_NA.dat\".format(init_pops_data_folder, i))"
   ]
  },
  {
   "cell_type": "code",
   "execution_count": 8,
   "metadata": {},
   "outputs": [
    {
     "name": "stderr",
     "output_type": "stream",
     "text": [
      "Generation layout: 100%|██████████| 100/100 [00:35<00:00,  2.81it/s]\n"
     ]
    }
   ],
   "source": [
    "##Generate initial layouts: single layout--> 1d array of size row*col, layouts are set of num_training_sample_SVM different(random) layouts.  \n",
    "train_mc_layouts, train_mc_layouts_NA = WindFarmGenetic.LayoutGridMCGenerator.gen_mc_grid_with_NA_loc_circle(rows_cells,\n",
    "                                                                                                      cols_cells,\n",
    "                                                                                                      n_mc_samples,\n",
    "                                                                                                      wt_N, NA_loc,radius,\n",
    "                                                                                                      \"{}/mc_layout.dat\".format(wds_data_folder),\n",
    "                                                                                                      \"{}/mc_layout_NA.dat\".format(wds_data_folder))\n",
    "\n",
    "layouts = np.genfromtxt(\"{}/mc_layout.dat\".format(wds_data_folder), delimiter=\"  \", dtype=np.int32)"
   ]
  },
  {
   "cell_type": "code",
   "execution_count": 9,
   "metadata": {},
   "outputs": [
    {
     "name": "stderr",
     "output_type": "stream",
     "text": [
      "layouts: 100%|██████████| 100/100 [00:23<00:00,  4.30it/s]\n"
     ]
    }
   ],
   "source": [
    "\n",
    "wfg.mc_gen_xy_NA_hackathon(rows=rows_cells, cols=cols_cells, layouts=layouts, n=n_mc_samples, N=wt_N,  xfname=\"{}/x.dat\".format(wds_data_folder),\n",
    "                 yfname=\"{}/y.dat\".format(wds_data_folder))"
   ]
  },
  {
   "cell_type": "code",
   "execution_count": 10,
   "metadata": {},
   "outputs": [],
   "source": [
    "x_original = pd.read_csv(\"{}/x.dat\".format(wds_data_folder), header=None, nrows=rows_cells * cols_cells,\n",
    "                         delim_whitespace=True, dtype=np.float32)\n",
    "x_original = x_original.values"
   ]
  },
  {
   "cell_type": "code",
   "execution_count": 11,
   "metadata": {},
   "outputs": [],
   "source": [
    "y_original = pd.read_csv(\"{}/y.dat\".format(wds_data_folder), header=None, nrows=rows_cells * cols_cells,\n",
    "                         delim_whitespace=True, dtype=np.float32)\n",
    "y_original = y_original.values.flatten()"
   ]
  },
  {
   "cell_type": "code",
   "execution_count": 12,
   "metadata": {},
   "outputs": [
    {
     "name": "stdout",
     "output_type": "stream",
     "text": [
      "(6400, 2)\n",
      "(6400,)\n"
     ]
    }
   ],
   "source": [
    "print(x_original.shape)\n",
    "print(y_original.shape)"
   ]
  },
  {
   "cell_type": "code",
   "execution_count": null,
   "metadata": {},
   "outputs": [],
   "source": [
    "# create a SVR object and specify the kernal and other parameters\n",
    "svr_model = SVR(kernel='rbf', C=2000.0, gamma=0.3, epsilon=.1)\n",
    "# build the SVR power distribution model\n",
    "svr_model.fit(x_original, y_original)\n",
    "\n",
    "# save the SVR model to a file\n",
    "pickle.dump(svr_model, open(\"{}/{}\".format(wds_data_folder, svr_model_filename), 'wb'))"
   ]
  },
  {
   "cell_type": "code",
   "execution_count": null,
   "metadata": {},
   "outputs": [],
   "source": [
    "del x_original\n",
    "del y_original"
   ]
  },
  {
   "cell_type": "code",
   "execution_count": 7,
   "metadata": {},
   "outputs": [],
   "source": [
    "svr_model=pickle.load(open(\"{}/{}\".format(wds_data_folder, svr_model_filename), 'rb'))"
   ]
  },
  {
   "cell_type": "code",
   "execution_count": 8,
   "metadata": {},
   "outputs": [
    {
     "name": "stdout",
     "output_type": "stream",
     "text": [
      "run number: 0 ...\n"
     ]
    },
    {
     "name": "stderr",
     "output_type": "stream",
     "text": [
      "layouts:   0%|          | 0/10 [00:00<?, ?it/s]"
     ]
    },
    {
     "name": "stdout",
     "output_type": "stream",
     "text": [
      "Support vector regression guided genetic algorithm starts....\n",
      "generation 0...\n"
     ]
    },
    {
     "name": "stderr",
     "output_type": "stream",
     "text": [
      "layouts: 100%|██████████| 10/10 [00:06<00:00,  1.57it/s]\n"
     ]
    },
    {
     "name": "stdout",
     "output_type": "stream",
     "text": [
      "[513.0141  512.8949  513.5583  514.7492  510.76782 512.9406  510.49908\n",
      " 511.83102 513.9224  512.27686]\n"
     ]
    },
    {
     "name": "stderr",
     "output_type": "stream",
     "text": [
      "layouts:   0%|          | 0/10 [00:00<?, ?it/s]"
     ]
    },
    {
     "name": "stdout",
     "output_type": "stream",
     "text": [
      "generation 1...\n"
     ]
    },
    {
     "name": "stderr",
     "output_type": "stream",
     "text": [
      "layouts: 100%|██████████| 10/10 [00:06<00:00,  1.53it/s]\n"
     ]
    },
    {
     "name": "stdout",
     "output_type": "stream",
     "text": [
      "[514.6692  512.54877 515.4033  513.11505 514.52966 510.7759  512.9025\n",
      " 513.132   511.7289  514.96027]\n"
     ]
    },
    {
     "name": "stderr",
     "output_type": "stream",
     "text": [
      "layouts:   0%|          | 0/10 [00:00<?, ?it/s]"
     ]
    },
    {
     "name": "stdout",
     "output_type": "stream",
     "text": [
      "generation 2...\n"
     ]
    },
    {
     "name": "stderr",
     "output_type": "stream",
     "text": [
      "layouts: 100%|██████████| 10/10 [00:06<00:00,  1.54it/s]\n"
     ]
    },
    {
     "name": "stdout",
     "output_type": "stream",
     "text": [
      "[512.72955 514.22577 513.0645  513.94196 512.78485 515.49585 511.55896\n",
      " 511.12814 511.57236 512.4957 ]\n"
     ]
    },
    {
     "name": "stderr",
     "output_type": "stream",
     "text": [
      "layouts:   0%|          | 0/10 [00:00<?, ?it/s]"
     ]
    },
    {
     "name": "stdout",
     "output_type": "stream",
     "text": [
      "generation 3...\n"
     ]
    },
    {
     "name": "stderr",
     "output_type": "stream",
     "text": [
      "layouts:  10%|█         | 1/10 [00:00<00:05,  1.51it/s]"
     ]
    },
    {
     "name": "stdout",
     "output_type": "stream",
     "text": [
      "Somewhere proximity constraint is violated\n",
      "\n"
     ]
    },
    {
     "name": "stderr",
     "output_type": "stream",
     "text": [
      "layouts:  80%|████████  | 8/10 [00:05<00:01,  1.52it/s]"
     ]
    },
    {
     "name": "stdout",
     "output_type": "stream",
     "text": [
      "Somewhere proximity constraint is violated\n",
      "\n"
     ]
    },
    {
     "name": "stderr",
     "output_type": "stream",
     "text": [
      "layouts: 100%|██████████| 10/10 [00:06<00:00,  1.44it/s]\n"
     ]
    },
    {
     "name": "stdout",
     "output_type": "stream",
     "text": [
      "[511.1331  513.0497  510.5216  510.92703 510.4468  514.059   511.92844\n",
      " 510.8727  511.4687  511.01794]\n"
     ]
    },
    {
     "name": "stderr",
     "output_type": "stream",
     "text": [
      "layouts:   0%|          | 0/10 [00:00<?, ?it/s]"
     ]
    },
    {
     "name": "stdout",
     "output_type": "stream",
     "text": [
      "generation 4...\n",
      "Somewhere proximity constraint is violated\n",
      "\n"
     ]
    },
    {
     "name": "stderr",
     "output_type": "stream",
     "text": [
      "layouts:  30%|███       | 3/10 [00:02<00:04,  1.45it/s]"
     ]
    },
    {
     "name": "stdout",
     "output_type": "stream",
     "text": [
      "Somewhere proximity constraint is violated\n",
      "\n"
     ]
    },
    {
     "name": "stderr",
     "output_type": "stream",
     "text": [
      "layouts:  70%|███████   | 7/10 [00:04<00:01,  1.52it/s]"
     ]
    },
    {
     "name": "stdout",
     "output_type": "stream",
     "text": [
      "Somewhere proximity constraint is violated\n",
      "\n"
     ]
    },
    {
     "name": "stderr",
     "output_type": "stream",
     "text": [
      "layouts:  80%|████████  | 8/10 [00:05<00:01,  1.49it/s]\n"
     ]
    },
    {
     "ename": "KeyboardInterrupt",
     "evalue": "",
     "output_type": "error",
     "traceback": [
      "\u001b[0;31m---------------------------------------------------------------------------\u001b[0m",
      "\u001b[0;31mKeyboardInterrupt\u001b[0m                         Traceback (most recent call last)",
      "\u001b[0;32m<ipython-input-8-76ccff25a7e9>\u001b[0m in \u001b[0;36m<module>\u001b[0;34m\u001b[0m\n\u001b[1;32m      5\u001b[0m     wfg.load_init_pop_NA(\"{}/init_{}.dat\".format(init_pops_data_folder, i),\n\u001b[1;32m      6\u001b[0m                          \"{}/init_{}_NA.dat\".format(init_pops_data_folder, i))\n\u001b[0;32m----> 7\u001b[0;31m     \u001b[0mrun_time\u001b[0m\u001b[0;34m,\u001b[0m \u001b[0meta\u001b[0m \u001b[0;34m=\u001b[0m \u001b[0mwfg\u001b[0m\u001b[0;34m.\u001b[0m\u001b[0msugga_genetic_alg\u001b[0m\u001b[0;34m(\u001b[0m\u001b[0mi\u001b[0m\u001b[0;34m,\u001b[0m \u001b[0msvr_model\u001b[0m\u001b[0;34m=\u001b[0m\u001b[0msvr_model\u001b[0m\u001b[0;34m,\u001b[0m \u001b[0mresult_folder\u001b[0m\u001b[0;34m=\u001b[0m\u001b[0msg_result_folder\u001b[0m\u001b[0;34m)\u001b[0m\u001b[0;34m\u001b[0m\u001b[0m\n\u001b[0m\u001b[1;32m      8\u001b[0m     \u001b[0mresult_arr\u001b[0m\u001b[0;34m[\u001b[0m\u001b[0mi\u001b[0m\u001b[0;34m,\u001b[0m \u001b[0;36m0\u001b[0m\u001b[0;34m]\u001b[0m \u001b[0;34m=\u001b[0m \u001b[0mrun_time\u001b[0m\u001b[0;34m\u001b[0m\u001b[0m\n\u001b[1;32m      9\u001b[0m     \u001b[0mresult_arr\u001b[0m\u001b[0;34m[\u001b[0m\u001b[0mi\u001b[0m\u001b[0;34m,\u001b[0m \u001b[0;36m1\u001b[0m\u001b[0;34m]\u001b[0m \u001b[0;34m=\u001b[0m \u001b[0meta\u001b[0m\u001b[0;34m\u001b[0m\u001b[0m\n",
      "\u001b[0;32m~/arena/hackathon/shell/hackathon/python/Ver1_N/WindFarmGenetic_v1.py\u001b[0m in \u001b[0;36msugga_genetic_alg\u001b[0;34m(self, ind_time, svr_model, result_folder)\u001b[0m\n\u001b[1;32m    367\u001b[0m             fitness_value = self.mc_fitness_hackathon(pop=pop, rows=self.rows, cols=self.cols, pop_size=self.pop_size,\n\u001b[1;32m    368\u001b[0m                                                         \u001b[0mN\u001b[0m\u001b[0;34m=\u001b[0m\u001b[0mself\u001b[0m\u001b[0;34m.\u001b[0m\u001b[0mN\u001b[0m\u001b[0;34m,\u001b[0m\u001b[0;34m\u001b[0m\u001b[0m\n\u001b[0;32m--> 369\u001b[0;31m                                                         ordered_ind=power_order)\n\u001b[0m\u001b[1;32m    370\u001b[0m             \u001b[0mprint\u001b[0m\u001b[0;34m(\u001b[0m\u001b[0mfitness_value\u001b[0m\u001b[0;34m)\u001b[0m\u001b[0;34m\u001b[0m\u001b[0m\n\u001b[1;32m    371\u001b[0m             \u001b[0msorted_index\u001b[0m \u001b[0;34m=\u001b[0m \u001b[0mnp\u001b[0m\u001b[0;34m.\u001b[0m\u001b[0margsort\u001b[0m\u001b[0;34m(\u001b[0m\u001b[0;34m-\u001b[0m\u001b[0mfitness_value\u001b[0m\u001b[0;34m)\u001b[0m  \u001b[0;31m# fitness value descending from largest to least\u001b[0m\u001b[0;34m\u001b[0m\u001b[0m\n",
      "\u001b[0;32m~/arena/hackathon/shell/hackathon/python/Ver1_N/WindFarmGenetic_v1.py\u001b[0m in \u001b[0;36mmc_fitness_hackathon\u001b[0;34m(self, pop, rows, cols, pop_size, N, lp, ordered_ind)\u001b[0m\n\u001b[1;32m    138\u001b[0m                     \u001b[0mind_pos\u001b[0m \u001b[0;34m+=\u001b[0m \u001b[0;36m1\u001b[0m\u001b[0;34m\u001b[0m\u001b[0m\n\u001b[1;32m    139\u001b[0m \u001b[0;31m#             print(xy_position)\u001b[0m\u001b[0;34m\u001b[0m\u001b[0;34m\u001b[0m\u001b[0m\n\u001b[0;32m--> 140\u001b[0;31m             \u001b[0mtotal_energy\u001b[0m\u001b[0;34m,\u001b[0m\u001b[0mlp_power_accum\u001b[0m\u001b[0;34m=\u001b[0m\u001b[0mFarm_Evaluator_Vec\u001b[0m\u001b[0;34m.\u001b[0m\u001b[0mget_AEP_results\u001b[0m\u001b[0;34m(\u001b[0m\u001b[0mturb_coords\u001b[0m\u001b[0;34m=\u001b[0m\u001b[0mxy_position\u001b[0m\u001b[0;34m)\u001b[0m\u001b[0;34m\u001b[0m\u001b[0m\n\u001b[0m\u001b[1;32m    141\u001b[0m             \u001b[0;32mif\u001b[0m \u001b[0mlp\u001b[0m \u001b[0;32mis\u001b[0m \u001b[0;32mnot\u001b[0m \u001b[0;32mNone\u001b[0m\u001b[0;34m:\u001b[0m\u001b[0;34m\u001b[0m\u001b[0m\n\u001b[1;32m    142\u001b[0m                 \u001b[0mlp\u001b[0m\u001b[0;34m[\u001b[0m\u001b[0mi\u001b[0m\u001b[0;34m,\u001b[0m \u001b[0mind_position\u001b[0m\u001b[0;34m]\u001b[0m \u001b[0;34m=\u001b[0m \u001b[0mlp_power_accum\u001b[0m\u001b[0;34m\u001b[0m\u001b[0m\n",
      "\u001b[0;32m~/arena/hackathon/shell/hackathon/python/Shell_Code_Modified/Farm_Evaluator_Vec.py\u001b[0m in \u001b[0;36mget_AEP_results\u001b[0;34m(default_location, turb_coords)\u001b[0m\n\u001b[1;32m    485\u001b[0m     \u001b[0;31m# Pass wind data csv file location to function binWindResourceData.\u001b[0m\u001b[0;34m\u001b[0m\u001b[0;34m\u001b[0m\u001b[0m\n\u001b[1;32m    486\u001b[0m     \u001b[0;31m# Retrieve probabilities of wind instance occurence.\u001b[0m\u001b[0;34m\u001b[0m\u001b[0;34m\u001b[0m\u001b[0m\n\u001b[0;32m--> 487\u001b[0;31m     \u001b[0mwind_inst_freq\u001b[0m \u001b[0;34m=\u001b[0m  \u001b[0mbinWindResourceData\u001b[0m\u001b[0;34m(\u001b[0m\u001b[0mdefault_location\u001b[0m\u001b[0;34m+\u001b[0m\u001b[0;34m'Wind_Data/wind_data_2007.csv'\u001b[0m\u001b[0;34m)\u001b[0m\u001b[0;34m\u001b[0m\u001b[0m\n\u001b[0m\u001b[1;32m    488\u001b[0m \u001b[0;34m\u001b[0m\u001b[0m\n\u001b[1;32m    489\u001b[0m     \u001b[0;31m# Doing preprocessing to avoid the same repeating calculations. Record\u001b[0m\u001b[0;34m\u001b[0m\u001b[0;34m\u001b[0m\u001b[0m\n",
      "\u001b[0;32m~/arena/hackathon/shell/hackathon/python/Shell_Code_Modified/Farm_Evaluator_Vec.py\u001b[0m in \u001b[0;36mbinWindResourceData\u001b[0;34m(wind_data_file_name)\u001b[0m\n\u001b[1;32m    152\u001b[0m \u001b[0;34m\u001b[0m\u001b[0m\n\u001b[1;32m    153\u001b[0m     \u001b[0;31m# Load wind data. Then, extracts the 'drct', 'sped' columns\u001b[0m\u001b[0;34m\u001b[0m\u001b[0;34m\u001b[0m\u001b[0m\n\u001b[0;32m--> 154\u001b[0;31m     \u001b[0mdf\u001b[0m \u001b[0;34m=\u001b[0m \u001b[0mpd\u001b[0m\u001b[0;34m.\u001b[0m\u001b[0mread_csv\u001b[0m\u001b[0;34m(\u001b[0m\u001b[0mwind_data_file_name\u001b[0m\u001b[0;34m)\u001b[0m\u001b[0;34m\u001b[0m\u001b[0m\n\u001b[0m\u001b[1;32m    155\u001b[0m     \u001b[0mwind_resource\u001b[0m \u001b[0;34m=\u001b[0m \u001b[0mdf\u001b[0m\u001b[0;34m[\u001b[0m\u001b[0;34m[\u001b[0m\u001b[0;34m'drct'\u001b[0m\u001b[0;34m,\u001b[0m \u001b[0;34m'sped'\u001b[0m\u001b[0;34m]\u001b[0m\u001b[0;34m]\u001b[0m\u001b[0;34m.\u001b[0m\u001b[0mto_numpy\u001b[0m\u001b[0;34m(\u001b[0m\u001b[0mdtype\u001b[0m \u001b[0;34m=\u001b[0m \u001b[0mnp\u001b[0m\u001b[0;34m.\u001b[0m\u001b[0mfloat32\u001b[0m\u001b[0;34m)\u001b[0m\u001b[0;34m\u001b[0m\u001b[0m\n\u001b[1;32m    156\u001b[0m \u001b[0;34m\u001b[0m\u001b[0m\n",
      "\u001b[0;32m~/python_env/python_learn/lib/python3.5/site-packages/pandas/io/parsers.py\u001b[0m in \u001b[0;36mparser_f\u001b[0;34m(filepath_or_buffer, sep, delimiter, header, names, index_col, usecols, squeeze, prefix, mangle_dupe_cols, dtype, engine, converters, true_values, false_values, skipinitialspace, skiprows, skipfooter, nrows, na_values, keep_default_na, na_filter, verbose, skip_blank_lines, parse_dates, infer_datetime_format, keep_date_col, date_parser, dayfirst, iterator, chunksize, compression, thousands, decimal, lineterminator, quotechar, quoting, doublequote, escapechar, comment, encoding, dialect, tupleize_cols, error_bad_lines, warn_bad_lines, delim_whitespace, low_memory, memory_map, float_precision)\u001b[0m\n\u001b[1;32m    700\u001b[0m                     skip_blank_lines=skip_blank_lines)\n\u001b[1;32m    701\u001b[0m \u001b[0;34m\u001b[0m\u001b[0m\n\u001b[0;32m--> 702\u001b[0;31m         \u001b[0;32mreturn\u001b[0m \u001b[0m_read\u001b[0m\u001b[0;34m(\u001b[0m\u001b[0mfilepath_or_buffer\u001b[0m\u001b[0;34m,\u001b[0m \u001b[0mkwds\u001b[0m\u001b[0;34m)\u001b[0m\u001b[0;34m\u001b[0m\u001b[0m\n\u001b[0m\u001b[1;32m    703\u001b[0m \u001b[0;34m\u001b[0m\u001b[0m\n\u001b[1;32m    704\u001b[0m     \u001b[0mparser_f\u001b[0m\u001b[0;34m.\u001b[0m\u001b[0m__name__\u001b[0m \u001b[0;34m=\u001b[0m \u001b[0mname\u001b[0m\u001b[0;34m\u001b[0m\u001b[0m\n",
      "\u001b[0;32m~/python_env/python_learn/lib/python3.5/site-packages/pandas/io/parsers.py\u001b[0m in \u001b[0;36m_read\u001b[0;34m(filepath_or_buffer, kwds)\u001b[0m\n\u001b[1;32m    433\u001b[0m \u001b[0;34m\u001b[0m\u001b[0m\n\u001b[1;32m    434\u001b[0m     \u001b[0;32mtry\u001b[0m\u001b[0;34m:\u001b[0m\u001b[0;34m\u001b[0m\u001b[0m\n\u001b[0;32m--> 435\u001b[0;31m         \u001b[0mdata\u001b[0m \u001b[0;34m=\u001b[0m \u001b[0mparser\u001b[0m\u001b[0;34m.\u001b[0m\u001b[0mread\u001b[0m\u001b[0;34m(\u001b[0m\u001b[0mnrows\u001b[0m\u001b[0;34m)\u001b[0m\u001b[0;34m\u001b[0m\u001b[0m\n\u001b[0m\u001b[1;32m    436\u001b[0m     \u001b[0;32mfinally\u001b[0m\u001b[0;34m:\u001b[0m\u001b[0;34m\u001b[0m\u001b[0m\n\u001b[1;32m    437\u001b[0m         \u001b[0mparser\u001b[0m\u001b[0;34m.\u001b[0m\u001b[0mclose\u001b[0m\u001b[0;34m(\u001b[0m\u001b[0;34m)\u001b[0m\u001b[0;34m\u001b[0m\u001b[0m\n",
      "\u001b[0;32m~/python_env/python_learn/lib/python3.5/site-packages/pandas/io/parsers.py\u001b[0m in \u001b[0;36mread\u001b[0;34m(self, nrows)\u001b[0m\n\u001b[1;32m   1137\u001b[0m     \u001b[0;32mdef\u001b[0m \u001b[0mread\u001b[0m\u001b[0;34m(\u001b[0m\u001b[0mself\u001b[0m\u001b[0;34m,\u001b[0m \u001b[0mnrows\u001b[0m\u001b[0;34m=\u001b[0m\u001b[0;32mNone\u001b[0m\u001b[0;34m)\u001b[0m\u001b[0;34m:\u001b[0m\u001b[0;34m\u001b[0m\u001b[0m\n\u001b[1;32m   1138\u001b[0m         \u001b[0mnrows\u001b[0m \u001b[0;34m=\u001b[0m \u001b[0m_validate_integer\u001b[0m\u001b[0;34m(\u001b[0m\u001b[0;34m'nrows'\u001b[0m\u001b[0;34m,\u001b[0m \u001b[0mnrows\u001b[0m\u001b[0;34m)\u001b[0m\u001b[0;34m\u001b[0m\u001b[0m\n\u001b[0;32m-> 1139\u001b[0;31m         \u001b[0mret\u001b[0m \u001b[0;34m=\u001b[0m \u001b[0mself\u001b[0m\u001b[0;34m.\u001b[0m\u001b[0m_engine\u001b[0m\u001b[0;34m.\u001b[0m\u001b[0mread\u001b[0m\u001b[0;34m(\u001b[0m\u001b[0mnrows\u001b[0m\u001b[0;34m)\u001b[0m\u001b[0;34m\u001b[0m\u001b[0m\n\u001b[0m\u001b[1;32m   1140\u001b[0m \u001b[0;34m\u001b[0m\u001b[0m\n\u001b[1;32m   1141\u001b[0m         \u001b[0;31m# May alter columns / col_dict\u001b[0m\u001b[0;34m\u001b[0m\u001b[0;34m\u001b[0m\u001b[0m\n",
      "\u001b[0;32m~/python_env/python_learn/lib/python3.5/site-packages/pandas/io/parsers.py\u001b[0m in \u001b[0;36mread\u001b[0;34m(self, nrows)\u001b[0m\n\u001b[1;32m   1993\u001b[0m     \u001b[0;32mdef\u001b[0m \u001b[0mread\u001b[0m\u001b[0;34m(\u001b[0m\u001b[0mself\u001b[0m\u001b[0;34m,\u001b[0m \u001b[0mnrows\u001b[0m\u001b[0;34m=\u001b[0m\u001b[0;32mNone\u001b[0m\u001b[0;34m)\u001b[0m\u001b[0;34m:\u001b[0m\u001b[0;34m\u001b[0m\u001b[0m\n\u001b[1;32m   1994\u001b[0m         \u001b[0;32mtry\u001b[0m\u001b[0;34m:\u001b[0m\u001b[0;34m\u001b[0m\u001b[0m\n\u001b[0;32m-> 1995\u001b[0;31m             \u001b[0mdata\u001b[0m \u001b[0;34m=\u001b[0m \u001b[0mself\u001b[0m\u001b[0;34m.\u001b[0m\u001b[0m_reader\u001b[0m\u001b[0;34m.\u001b[0m\u001b[0mread\u001b[0m\u001b[0;34m(\u001b[0m\u001b[0mnrows\u001b[0m\u001b[0;34m)\u001b[0m\u001b[0;34m\u001b[0m\u001b[0m\n\u001b[0m\u001b[1;32m   1996\u001b[0m         \u001b[0;32mexcept\u001b[0m \u001b[0mStopIteration\u001b[0m\u001b[0;34m:\u001b[0m\u001b[0;34m\u001b[0m\u001b[0m\n\u001b[1;32m   1997\u001b[0m             \u001b[0;32mif\u001b[0m \u001b[0mself\u001b[0m\u001b[0;34m.\u001b[0m\u001b[0m_first_chunk\u001b[0m\u001b[0;34m:\u001b[0m\u001b[0;34m\u001b[0m\u001b[0m\n",
      "\u001b[0;32mpandas/_libs/parsers.pyx\u001b[0m in \u001b[0;36mpandas._libs.parsers.TextReader.read\u001b[0;34m()\u001b[0m\n",
      "\u001b[0;32mpandas/_libs/parsers.pyx\u001b[0m in \u001b[0;36mpandas._libs.parsers.TextReader._read_low_memory\u001b[0;34m()\u001b[0m\n",
      "\u001b[0;32mpandas/_libs/parsers.pyx\u001b[0m in \u001b[0;36mpandas._libs.parsers.TextReader._read_rows\u001b[0;34m()\u001b[0m\n",
      "\u001b[0;32mpandas/_libs/parsers.pyx\u001b[0m in \u001b[0;36mpandas._libs.parsers.TextReader._convert_column_data\u001b[0;34m()\u001b[0m\n",
      "\u001b[0;32mpandas/_libs/parsers.pyx\u001b[0m in \u001b[0;36mpandas._libs.parsers.TextReader._convert_tokens\u001b[0;34m()\u001b[0m\n",
      "\u001b[0;32mpandas/_libs/parsers.pyx\u001b[0m in \u001b[0;36mpandas._libs.parsers.TextReader._convert_with_dtype\u001b[0;34m()\u001b[0m\n",
      "\u001b[0;32m~/python_env/python_learn/lib/python3.5/site-packages/pandas/core/dtypes/common.py\u001b[0m in \u001b[0;36mis_categorical_dtype\u001b[0;34m(arr_or_dtype)\u001b[0m\n\u001b[1;32m    570\u001b[0m \u001b[0;34m\u001b[0m\u001b[0m\n\u001b[1;32m    571\u001b[0m \u001b[0;34m\u001b[0m\u001b[0m\n\u001b[0;32m--> 572\u001b[0;31m \u001b[0;32mdef\u001b[0m \u001b[0mis_categorical_dtype\u001b[0m\u001b[0;34m(\u001b[0m\u001b[0marr_or_dtype\u001b[0m\u001b[0;34m)\u001b[0m\u001b[0;34m:\u001b[0m\u001b[0;34m\u001b[0m\u001b[0m\n\u001b[0m\u001b[1;32m    573\u001b[0m     \"\"\"\n\u001b[1;32m    574\u001b[0m     \u001b[0mCheck\u001b[0m \u001b[0mwhether\u001b[0m \u001b[0man\u001b[0m \u001b[0marray\u001b[0m\u001b[0;34m-\u001b[0m\u001b[0mlike\u001b[0m \u001b[0;32mor\u001b[0m \u001b[0mdtype\u001b[0m \u001b[0;32mis\u001b[0m \u001b[0mof\u001b[0m \u001b[0mthe\u001b[0m \u001b[0mCategorical\u001b[0m \u001b[0mdtype\u001b[0m\u001b[0;34m.\u001b[0m\u001b[0;34m\u001b[0m\u001b[0m\n",
      "\u001b[0;31mKeyboardInterrupt\u001b[0m: "
     ]
    }
   ],
   "source": [
    "##### SUGGA: support vector regression guided genetic algorithm\n",
    "result_arr = np.zeros((num_runs, 2), dtype=np.float32)\n",
    "for i in range(0, num_runs):  # run times\n",
    "    print(\"run number: {} ...\".format(i))\n",
    "    wfg.load_init_pop_NA(\"{}/init_{}.dat\".format(init_pops_data_folder, i),\n",
    "                         \"{}/init_{}_NA.dat\".format(init_pops_data_folder, i))\n",
    "    run_time, eta = wfg.sugga_genetic_alg(i, svr_model=svr_model, result_folder=sg_result_folder)\n",
    "    result_arr[i, 0] = run_time\n",
    "    result_arr[i, 1] = eta\n",
    "time_stamp = datetime.now().strftime(\"%Y%m%d%H%M%S\")\n",
    "filename = \"{}/result_sugga_{}.dat\".format(sg_result_folder, time_stamp)\n",
    "np.savetxt(filename, result_arr, fmt='%f', delimiter=\"  \")"
   ]
  },
  {
   "cell_type": "markdown",
   "metadata": {},
   "source": [
    "### Shell Power Computation Package"
   ]
  },
  {
   "cell_type": "code",
   "execution_count": 1,
   "metadata": {},
   "outputs": [],
   "source": [
    "import sys \n",
    "sys.path.append('../Shell_Code_Modified/')"
   ]
  },
  {
   "cell_type": "code",
   "execution_count": 2,
   "metadata": {},
   "outputs": [],
   "source": [
    "import Farm_Evaluator_Vec"
   ]
  },
  {
   "cell_type": "code",
   "execution_count": 3,
   "metadata": {},
   "outputs": [],
   "source": [
    "total_energy, turbine_power=Farm_Evaluator_Vec.get_AEP_results()"
   ]
  },
  {
   "cell_type": "code",
   "execution_count": 4,
   "metadata": {},
   "outputs": [
    {
     "data": {
      "text/plain": [
       "array([1.2523587, 1.1595447, 1.1450489, 1.0768385, 1.176319 , 1.1840583,\n",
       "       1.13568  , 1.079648 , 1.0935222, 1.1273198, 1.0859367, 1.167106 ,\n",
       "       1.1016386, 1.124391 , 1.1225449, 1.100678 , 1.1647563, 1.2282459,\n",
       "       1.1581823, 1.197542 , 1.2453799, 1.2442212, 1.2059841, 1.1259376,\n",
       "       1.2380294, 1.1106503, 1.1325871, 1.1829029, 1.1153044, 1.1439447,\n",
       "       1.1912581, 1.1264657, 1.1022447, 1.1789318, 1.1049944, 1.2037905,\n",
       "       1.220672 , 1.1373823, 1.2131999, 1.1142861, 1.199062 , 1.141587 ,\n",
       "       1.1335138, 1.1493688, 1.0722657, 1.0965657, 1.2305766, 1.2662541,\n",
       "       1.1084578, 1.0826805], dtype=float32)"
      ]
     },
     "execution_count": 4,
     "metadata": {},
     "output_type": "execute_result"
    }
   ],
   "source": [
    "total_energy"
   ]
  },
  {
   "cell_type": "code",
   "execution_count": 5,
   "metadata": {},
   "outputs": [
    {
     "data": {
      "text/plain": [
       "505.4506365966797"
      ]
     },
     "execution_count": 5,
     "metadata": {},
     "output_type": "execute_result"
    }
   ],
   "source": [
    "turbine_power"
   ]
  }
 ],
 "metadata": {
  "kernelspec": {
   "display_name": "python_learn",
   "language": "python",
   "name": "python_learn"
  },
  "language_info": {
   "codemirror_mode": {
    "name": "ipython",
    "version": 3
   },
   "file_extension": ".py",
   "mimetype": "text/x-python",
   "name": "python",
   "nbconvert_exporter": "python",
   "pygments_lexer": "ipython3",
   "version": "3.5.2"
  }
 },
 "nbformat": 4,
 "nbformat_minor": 4
}
