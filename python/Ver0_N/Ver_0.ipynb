{
 "cells": [
  {
   "cell_type": "code",
   "execution_count": 1,
   "metadata": {},
   "outputs": [],
   "source": [
    "import numpy as np\n",
    "import numpy as np\n",
    "import pandas as pd\n",
    "import WindFarmGenetic # wind farm layout optimization using genetic algorithms classes\n",
    "from datetime import datetime\n",
    "import os\n",
    "from sklearn.svm import SVR\n",
    "import pickle\n"
   ]
  },
  {
   "cell_type": "code",
   "execution_count": 2,
   "metadata": {},
   "outputs": [
    {
     "data": {
      "text/plain": [
       "'/home/naveen/arena/hackathon/shell/hackathon/python/Ver0_N'"
      ]
     },
     "execution_count": 2,
     "metadata": {},
     "output_type": "execute_result"
    }
   ],
   "source": [
    "import os\n",
    "os.getcwd()"
   ]
  },
  {
   "cell_type": "code",
   "execution_count": 3,
   "metadata": {},
   "outputs": [],
   "source": [
    "##\n",
    "wt_N=50  #number of turbines\n",
    "NA_loc=[]  #index of obstructed locations\n",
    "population_size=100  #population size/number of layouts for genetic algorithms\n",
    "n_mc_samples=10000 #population/layout for SVM training\n",
    "iteration_times=100  #number of iterations\n",
    "\n",
    "# wind farm size, cells\n",
    "cols_cells = 10  # number of cells each row\n",
    "rows_cells = 10  # number of cells each column\n",
    "cell_width = 400 # unit (TBD)--> have to be computed.\n",
    "\n",
    "#genetic algorithmic parameters.\n",
    "elite_rate = 0.2 \n",
    "cross_rate = 0.6\n",
    "mutate_rate = 0.1\n",
    "\n",
    "random_rate = 0.5\n",
    "num_runs=100 #number of independent runs with random initialization.\n"
   ]
  },
  {
   "cell_type": "code",
   "execution_count": 4,
   "metadata": {},
   "outputs": [],
   "source": [
    "data_folder = \"naveen_data\" #temporary code related files. (MOdify it as per your specification)\n",
    "svr_model_filename = 'svr_1s1d_N_13.svr' #svr training file.\n",
    "if not os.path.exists(data_folder):\n",
    "    os.makedirs(data_folder)\n",
    "\n",
    "wds_data_folder = \"{}/wds\".format(data_folder)\n",
    "if not os.path.exists(wds_data_folder):\n",
    "    os.makedirs(wds_data_folder)\n",
    "    \n",
    "# initial populations saved folder\n",
    "init_pops_data_folder = \"{}/init_data\".format(data_folder)\n",
    "if not os.path.exists(init_pops_data_folder):\n",
    "    os.makedirs(init_pops_data_folder)\n",
    "\n",
    "#result folder\n",
    "results_data_folder = data_folder+\"/results\"\n",
    "if not os.path.exists(results_data_folder):\n",
    "    os.makedirs(results_data_folder)\n",
    "    \n",
    "#result folder for sugga genetic algorithm\n",
    "sg_result_folder = \"{}/sg\".format(results_data_folder)\n",
    "if not os.path.exists(sg_result_folder):\n",
    "    os.makedirs(sg_result_folder)"
   ]
  },
  {
   "cell_type": "code",
   "execution_count": 5,
   "metadata": {},
   "outputs": [],
   "source": [
    "import WindFarmGenetic\n",
    "wfg = WindFarmGenetic.WindFarmGenetic(rows=rows_cells, cols=cols_cells, N=wt_N, NA_loc=NA_loc, pop_size=population_size,\n",
    "                                      iteration=iteration_times,cell_width=cell_width, elite_rate=elite_rate,\n",
    "                                             cross_rate=cross_rate, random_rate=random_rate, mutate_rate=mutate_rate)"
   ]
  },
  {
   "cell_type": "code",
   "execution_count": 6,
   "metadata": {},
   "outputs": [],
   "source": [
    "for i in range(num_runs):\n",
    "    wfg.gen_init_pop_NA()\n",
    "    wfg.save_init_pop_NA(\"{}/init_{}.dat\".format(init_pops_data_folder, i),\n",
    "                         \"{}/init_{}_NA.dat\".format(init_pops_data_folder, i))"
   ]
  },
  {
   "cell_type": "code",
   "execution_count": 7,
   "metadata": {},
   "outputs": [],
   "source": [
    "##Generate initial layouts: single layout--> 1d array of size row*col, layouts are set of num_training_sample_SVM different(random) layouts.  \n",
    "train_mc_layouts, train_mc_layouts_NA = WindFarmGenetic.LayoutGridMCGenerator.gen_mc_grid_with_NA_loc(rows_cells,\n",
    "                                                                                                      cols_cells,\n",
    "                                                                                                      n_mc_samples,\n",
    "                                                                                                      wt_N, NA_loc,\n",
    "                                                                                                      \"{}/mc_layout.dat\".format(wds_data_folder),\n",
    "                                                                                                      \"{}/mc_layout_NA.dat\".format(wds_data_folder))\n",
    "\n",
    "layouts = np.genfromtxt(\"{}/mc_layout.dat\".format(wds_data_folder), delimiter=\"  \", dtype=np.int32)"
   ]
  },
  {
   "cell_type": "code",
   "execution_count": 8,
   "metadata": {},
   "outputs": [
    {
     "name": "stderr",
     "output_type": "stream",
     "text": [
      "layouts: 100%|██████████| 10000/10000 [1:17:04<00:00,  2.16it/s]\n"
     ]
    }
   ],
   "source": [
    "import WindFarmGenetic\n",
    "\n",
    "wfg.mc_gen_xy_NA_hackathon(rows=rows_cells, cols=cols_cells, layouts=layouts, n=n_mc_samples, N=wt_N,  xfname=\"{}/x.dat\".format(wds_data_folder),\n",
    "                 yfname=\"{}/y.dat\".format(wds_data_folder))"
   ]
  },
  {
   "cell_type": "code",
   "execution_count": 9,
   "metadata": {},
   "outputs": [],
   "source": [
    "x_original = pd.read_csv(\"{}/x.dat\".format(wds_data_folder), header=None, nrows=rows_cells * cols_cells,\n",
    "                         delim_whitespace=True, dtype=np.float32)\n",
    "x_original = x_original.values"
   ]
  },
  {
   "cell_type": "code",
   "execution_count": 10,
   "metadata": {},
   "outputs": [],
   "source": [
    "y_original = pd.read_csv(\"{}/y.dat\".format(wds_data_folder), header=None, nrows=rows_cells * cols_cells,\n",
    "                         delim_whitespace=True, dtype=np.float32)\n",
    "y_original = y_original.values.flatten()"
   ]
  },
  {
   "cell_type": "code",
   "execution_count": 11,
   "metadata": {},
   "outputs": [
    {
     "name": "stdout",
     "output_type": "stream",
     "text": [
      "(100, 2)\n",
      "(100,)\n"
     ]
    }
   ],
   "source": [
    "print(x_original.shape)\n",
    "print(y_original.shape)"
   ]
  },
  {
   "cell_type": "code",
   "execution_count": 12,
   "metadata": {},
   "outputs": [],
   "source": [
    "# create a SVR object and specify the kernal and other parameters\n",
    "svr_model = SVR(kernel='rbf', C=2000.0, gamma=0.3, epsilon=.1)\n",
    "# build the SVR power distribution model\n",
    "svr_model.fit(x_original, y_original)\n",
    "\n",
    "# save the SVR model to a file\n",
    "pickle.dump(svr_model, open(\"{}/{}\".format(wds_data_folder, svr_model_filename), 'wb'))"
   ]
  },
  {
   "cell_type": "code",
   "execution_count": 15,
   "metadata": {},
   "outputs": [
    {
     "data": {
      "text/plain": [
       "array([1.262066, 1.239304, 1.23055 , 1.229595, 1.228972, 1.231479,\n",
       "       1.237167, 1.246812, 1.269636, 1.3298  , 1.231762, 1.205606,\n",
       "       1.194989, 1.191217, 1.192288, 1.195313, 1.201483, 1.214201,\n",
       "       1.240566, 1.309875, 1.22168 , 1.194623, 1.182284, 1.178334,\n",
       "       1.178772, 1.182646, 1.18987 , 1.203885, 1.233446, 1.304872,\n",
       "       1.217071, 1.190021, 1.177864, 1.173529, 1.174499, 1.176944,\n",
       "       1.184476, 1.199587, 1.229349, 1.302895, 1.21692 , 1.189931,\n",
       "       1.17777 , 1.173242, 1.17544 , 1.178668, 1.184909, 1.198483,\n",
       "       1.229098, 1.302954, 1.219139, 1.191898, 1.180821, 1.17819 ,\n",
       "       1.179483, 1.182453, 1.189618, 1.202172, 1.230747, 1.304921,\n",
       "       1.222815, 1.197593, 1.187364, 1.184341, 1.185109, 1.189412,\n",
       "       1.195355, 1.20807 , 1.235648, 1.308609, 1.234811, 1.211244,\n",
       "       1.202014, 1.199757, 1.200277, 1.204203, 1.21014 , 1.222301,\n",
       "       1.248417, 1.314861, 1.25715 , 1.237941, 1.232836, 1.230476,\n",
       "       1.23136 , 1.233241, 1.238194, 1.248763, 1.268416, 1.328161,\n",
       "       1.31223 , 1.302083, 1.297708, 1.295782, 1.296106, 1.297804,\n",
       "       1.300891, 1.308226, 1.321779, 1.363741], dtype=float32)"
      ]
     },
     "execution_count": 15,
     "metadata": {},
     "output_type": "execute_result"
    }
   ],
   "source": [
    "y_original"
   ]
  },
  {
   "cell_type": "code",
   "execution_count": null,
   "metadata": {},
   "outputs": [],
   "source": [
    "del x_original\n",
    "del y_original"
   ]
  },
  {
   "cell_type": "code",
   "execution_count": null,
   "metadata": {},
   "outputs": [],
   "source": [
    "##### SUGGA: support vector regression guided genetic algorithm\n",
    "result_arr = np.zeros((num_runs, 2), dtype=np.float32)\n",
    "for i in range(0, num_runs):  # run times\n",
    "    print(\"run number: {} ...\".format(i))\n",
    "    wfg.load_init_pop_NA(\"{}/init_{}.dat\".format(init_pops_data_folder, i),\n",
    "                         \"{}/init_{}_NA.dat\".format(init_pops_data_folder, i))\n",
    "    run_time, eta = wfg.sugga_genetic_alg(i, svr_model=svr_model, result_folder=sg_result_folder)\n",
    "    result_arr[i, 0] = run_time\n",
    "    result_arr[i, 1] = eta\n",
    "time_stamp = datetime.now().strftime(\"%Y%m%d%H%M%S\")\n",
    "filename = \"{}/result_sugga_{}.dat\".format(sg_result_folder, time_stamp)\n",
    "np.savetxt(filename, result_arr, fmt='%f', delimiter=\"  \")"
   ]
  },
  {
   "cell_type": "code",
   "execution_count": null,
   "metadata": {},
   "outputs": [],
   "source": []
  },
  {
   "cell_type": "markdown",
   "metadata": {},
   "source": [
    "### Shell Power Computation Package"
   ]
  },
  {
   "cell_type": "code",
   "execution_count": 1,
   "metadata": {},
   "outputs": [],
   "source": [
    "import sys \n",
    "sys.path.append('../Shell_Code_Modified/')"
   ]
  },
  {
   "cell_type": "code",
   "execution_count": 2,
   "metadata": {},
   "outputs": [],
   "source": [
    "import Farm_Evaluator_Vec"
   ]
  },
  {
   "cell_type": "code",
   "execution_count": 3,
   "metadata": {},
   "outputs": [
    {
     "name": "stdout",
     "output_type": "stream",
     "text": [
      "Both perimeter and proximity constraints are satisfied !!\n",
      "\n",
      "power\n",
      "[[0.         0.         0.         ... 0.         0.         0.        ]\n",
      " [0.         0.         0.         ... 0.         0.         0.        ]\n",
      " [0.18937522 0.18937522 0.18937522 ... 0.09336138 0.18937522 0.06266943]\n",
      " ...\n",
      " [3.         3.         3.         ... 3.         3.         3.        ]\n",
      " [0.         0.         0.         ... 0.         0.         0.        ]\n",
      " [0.         0.         0.         ... 0.         0.         0.        ]]\n",
      "(540, 50)\n"
     ]
    }
   ],
   "source": [
    "total_energy, turbine_power=Farm_Evaluator_Vec.get_AEP_results()"
   ]
  },
  {
   "cell_type": "code",
   "execution_count": 4,
   "metadata": {},
   "outputs": [
    {
     "data": {
      "text/plain": [
       "545.5921376037597"
      ]
     },
     "execution_count": 4,
     "metadata": {},
     "output_type": "execute_result"
    }
   ],
   "source": [
    "total_energy"
   ]
  },
  {
   "cell_type": "code",
   "execution_count": null,
   "metadata": {},
   "outputs": [],
   "source": []
  }
 ],
 "metadata": {
  "kernelspec": {
   "display_name": "python_learn",
   "language": "python",
   "name": "python_learn"
  },
  "language_info": {
   "codemirror_mode": {
    "name": "ipython",
    "version": 3
   },
   "file_extension": ".py",
   "mimetype": "text/x-python",
   "name": "python",
   "nbconvert_exporter": "python",
   "pygments_lexer": "ipython3",
   "version": "3.5.2"
  }
 },
 "nbformat": 4,
 "nbformat_minor": 4
}
