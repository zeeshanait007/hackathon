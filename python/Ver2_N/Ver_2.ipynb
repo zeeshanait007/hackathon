{
 "cells": [
  {
   "cell_type": "code",
   "execution_count": 1,
   "metadata": {},
   "outputs": [],
   "source": [
    "import numpy as np\n",
    "import numpy as np\n",
    "import pandas as pd\n",
    "#import WindFarmGenetic_v1 # wind farm layout optimization using genetic algorithms classes\n",
    "from datetime import datetime\n",
    "import os\n",
    "from sklearn.svm import SVR\n",
    "import pickle\n"
   ]
  },
  {
   "cell_type": "code",
   "execution_count": 2,
   "metadata": {},
   "outputs": [
    {
     "data": {
      "text/plain": [
       "'/home/naveen/arena/hackathon/shell/hackathon/python/Ver2_N'"
      ]
     },
     "execution_count": 2,
     "metadata": {},
     "output_type": "execute_result"
    }
   ],
   "source": [
    "import os\n",
    "os.getcwd()"
   ]
  },
  {
   "cell_type": "code",
   "execution_count": 3,
   "metadata": {},
   "outputs": [],
   "source": [
    "##\n",
    "wt_N=50  #number of turbines\n",
    "NA_loc=[]  #index of obstructed locations\n",
    "population_size=100  #population size/number of layouts for genetic algorithms\n",
    "n_mc_samples=10000 #population/layout for SVM training\n",
    "iteration_times=100  #number of iterations\n",
    "\n",
    "# wind farm size, cells\n",
    "cols_cells = 80  # number of cells each row\n",
    "rows_cells = 80  # number of cells each column\n",
    "cell_width = 50 # unit (TBD)--> have to be computed.\n",
    "constraint_dist = 400 #unit distance between two turbines\n",
    "constraint_perim = 50\n",
    "\n",
    "radius=np.ceil(constraint_dist/cell_width)\n",
    "\n",
    "#genetic algorithmic parameters.\n",
    "elite_rate = 0.2 \n",
    "cross_rate = 0.6\n",
    "mutate_rate = 0.1\n",
    "\n",
    "random_rate = 0.5\n",
    "num_runs=1 #number of independent runs with random initialization.\n",
    "\n",
    "\n",
    "shell_default_location='../../data/Shell_Hackathon_Dataset/'\n",
    "wind_inst_freq_file=None"
   ]
  },
  {
   "cell_type": "code",
   "execution_count": 4,
   "metadata": {},
   "outputs": [],
   "source": [
    "perim_cells=int(np.ceil(constraint_perim/cell_width)) #TBU generalize it for multiple boundary cells.\n",
    "NA_loc=[] \n",
    "\n",
    "for curr_perim_cell in range(perim_cells):\n",
    "    NA_loc.extend([i+cols_cells*curr_perim_cell for i in range(cols_cells)]) #upper row\n",
    "    NA_loc.extend([i*(cols_cells)+curr_perim_cell for i in range(rows_cells)]) #left boundary\n",
    "    NA_loc.extend([i*(cols_cells)+cols_cells-1-curr_perim_cell for i in range(rows_cells)])#right Boundary\n",
    "    NA_loc.extend([(cols_cells)*(rows_cells-1-curr_perim_cell)+i for i in range(rows_cells)])#down Boundary\n"
   ]
  },
  {
   "cell_type": "code",
   "execution_count": 5,
   "metadata": {},
   "outputs": [],
   "source": [
    "paraDict = {}\n",
    "paraDict['wt_N']=wt_N  #number of turbines\n",
    "paraDict['population_size']=population_size  #population size/number of layouts for genetic algorithms\n",
    "paraDict['n_mc_samples']=n_mc_samples #population/layout for SVM training\n",
    "paraDict['iteration_times']=iteration_times  #number of iterations\n",
    "\n",
    "# wind farm size, cells\n",
    "paraDict['cols_cells'] = cols_cells  # number of cells each row\n",
    "paraDict['rows_cells'] = rows_cells  # number of cells each column\n",
    "paraDict['cell_width'] = cell_width # unit (TBD)--> have to be computed.\n",
    "paraDict['constraint_dist'] = constraint_dist #unit distance between two turbines\n",
    "paraDict['constraint_perim'] = constraint_perim\n",
    "\n",
    "#genetic algorithmic parameters.\n",
    "paraDict['elite_rate'] =elite_rate\n",
    "paraDict['cross_rate'] = cross_rate\n",
    "paraDict['mutate_rate'] = mutate_rate\n",
    "\n",
    "paraDict['random_rate'] = random_rate\n",
    "paraDict['num_runs']=num_runs #number of independent runs with random initialization."
   ]
  },
  {
   "cell_type": "code",
   "execution_count": 6,
   "metadata": {},
   "outputs": [],
   "source": [
    "data_folder = \"naveen_data\" #temporary code related files. (MOdify it as per your specification)\n",
    "if not os.path.exists(data_folder):\n",
    "    os.makedirs(data_folder)\n",
    "\n",
    "wds_data_folder = \"{}/wds\".format(data_folder)\n",
    "if not os.path.exists(wds_data_folder):\n",
    "    os.makedirs(wds_data_folder)\n",
    "    \n",
    "# initial populations saved folder\n",
    "init_pops_data_folder = \"{}/init_data\".format(data_folder)\n",
    "if not os.path.exists(init_pops_data_folder):\n",
    "    os.makedirs(init_pops_data_folder)\n",
    "\n",
    "#result folder\n",
    "results_data_folder = data_folder+\"/results\"\n",
    "if not os.path.exists(results_data_folder):\n",
    "    os.makedirs(results_data_folder)\n",
    "    \n",
    "#result folder for sugga genetic algorithm\n",
    "sg_result_folder = \"{}/sg\".format(results_data_folder)\n",
    "if not os.path.exists(sg_result_folder):\n",
    "    os.makedirs(sg_result_folder)\n",
    "fname= data_folder+\"/\"+\"exp_specs.txt\"\n",
    "file = open(fname, 'w')\n",
    "file.write(str(paraDict))\n",
    "file.close()"
   ]
  },
  {
   "cell_type": "code",
   "execution_count": 7,
   "metadata": {},
   "outputs": [
    {
     "name": "stdout",
     "output_type": "stream",
     "text": [
      "Initialization Completed\n"
     ]
    }
   ],
   "source": [
    "import WindFarmGenetic_v2 as WindFarmGenetic\n",
    "wfg = WindFarmGenetic.WindFarmGenetic(rows=rows_cells, cols=cols_cells, N=wt_N, NA_loc=NA_loc, pop_size=population_size,\n",
    "                                      iteration=iteration_times,cell_width=cell_width, elite_rate=elite_rate,\n",
    "                                             cross_rate=cross_rate, random_rate=random_rate, mutate_rate=mutate_rate,constraint_dist=constraint_dist,\n",
    "                                     shell_default_location=shell_default_location, wind_inst_freq_file=wind_inst_freq_file)"
   ]
  },
  {
   "cell_type": "code",
   "execution_count": 8,
   "metadata": {},
   "outputs": [
    {
     "name": "stdout",
     "output_type": "stream",
     "text": [
      "[   0    1    2    3    4    5    6    7    8    9   10   11   12   13\n",
      "   14   15   16   17   18   19   20   21   22   23   24   25   26   27\n",
      "   28   29   30   31   32   33   34   35   36   37   38   39   40   41\n",
      "   42   43   44   45   46   47   48   49   50   51   52   53   54   55\n",
      "   56   57   58   59   60   61   62   63   64   65   66   67   68   69\n",
      "   70   71   72   73   74   75   76   77   78   79    0   80  160  240\n",
      "  320  400  480  560  640  720  800  880  960 1040 1120 1200 1280 1360\n",
      " 1440 1520 1600 1680 1760 1840 1920 2000 2080 2160 2240 2320 2400 2480\n",
      " 2560 2640 2720 2800 2880 2960 3040 3120 3200 3280 3360 3440 3520 3600\n",
      " 3680 3760 3840 3920 4000 4080 4160 4240 4320 4400 4480 4560 4640 4720\n",
      " 4800 4880 4960 5040 5120 5200 5280 5360 5440 5520 5600 5680 5760 5840\n",
      " 5920 6000 6080 6160 6240 6320   79  159  239  319  399  479  559  639\n",
      "  719  799  879  959 1039 1119 1199 1279 1359 1439 1519 1599 1679 1759\n",
      " 1839 1919 1999 2079 2159 2239 2319 2399 2479 2559 2639 2719 2799 2879\n",
      " 2959 3039 3119 3199 3279 3359 3439 3519 3599 3679 3759 3839 3919 3999\n",
      " 4079 4159 4239 4319 4399 4479 4559 4639 4719 4799 4879 4959 5039 5119\n",
      " 5199 5279 5359 5439 5519 5599 5679 5759 5839 5919 5999 6079 6159 6239\n",
      " 6319 6399 6320 6321 6322 6323 6324 6325 6326 6327 6328 6329 6330 6331\n",
      " 6332 6333 6334 6335 6336 6337 6338 6339 6340 6341 6342 6343 6344 6345\n",
      " 6346 6347 6348 6349 6350 6351 6352 6353 6354 6355 6356 6357 6358 6359\n",
      " 6360 6361 6362 6363 6364 6365 6366 6367 6368 6369 6370 6371 6372 6373\n",
      " 6374 6375 6376 6377 6378 6379 6380 6381 6382 6383 6384 6385 6386 6387\n",
      " 6388 6389 6390 6391 6392 6393 6394 6395 6396 6397 6398 6399]\n"
     ]
    }
   ],
   "source": [
    "print(np.array(NA_loc))"
   ]
  },
  {
   "cell_type": "code",
   "execution_count": 9,
   "metadata": {},
   "outputs": [
    {
     "name": "stderr",
     "output_type": "stream",
     "text": [
      "Generation layout: 100%|██████████| 100/100 [00:44<00:00,  2.27it/s]\n"
     ]
    }
   ],
   "source": [
    "for i in range(num_runs):\n",
    "    wfg.gen_init_pop_NA()\n",
    "    wfg.save_init_pop_NA(\"{}/init_{}.dat\".format(init_pops_data_folder, i),\n",
    "                         \"{}/init_{}_NA.dat\".format(init_pops_data_folder, i))"
   ]
  },
  {
   "cell_type": "code",
   "execution_count": null,
   "metadata": {},
   "outputs": [
    {
     "name": "stdout",
     "output_type": "stream",
     "text": [
      "run number: 0 ...\n"
     ]
    },
    {
     "name": "stderr",
     "output_type": "stream",
     "text": [
      "layouts:   1%|          | 1/100 [00:00<00:18,  5.35it/s]"
     ]
    },
    {
     "name": "stdout",
     "output_type": "stream",
     "text": [
      "Support vector regression guided genetic algorithm starts....\n",
      "generation 0...\n"
     ]
    },
    {
     "name": "stderr",
     "output_type": "stream",
     "text": [
      "layouts: 100%|██████████| 100/100 [00:20<00:00,  4.95it/s]\n"
     ]
    },
    {
     "name": "stdout",
     "output_type": "stream",
     "text": [
      "[517.49664 519.4627  517.3847  519.2348  518.96234 519.1223  518.77637\n",
      " 517.2463  519.34174 517.75653 518.9183  518.09863 519.6191  519.859\n",
      " 519.05347 519.1523  518.59607 518.53046 519.8028  519.42163 519.6813\n",
      " 520.1351  520.5224  518.8664  520.6584  518.8003  519.6338  519.4761\n",
      " 518.66693 518.85486 519.8325  518.56537 519.61993 519.5559  516.98566\n",
      " 519.2649  520.08655 519.0159  519.35846 519.8645  519.3823  519.193\n",
      " 518.00323 518.48883 519.3295  519.0242  517.6767  520.2678  519.14014\n",
      " 518.97    518.4353  518.5012  520.3169  519.23425 517.4391  517.4664\n",
      " 518.3429  518.9815  520.22424 518.1501  518.3378  519.00385 519.7399\n",
      " 518.46124 520.25836 518.96375 520.138   520.35095 519.9696  520.40314\n",
      " 520.24774 520.22925 519.1821  519.3961  518.4511  517.67975 518.2021\n",
      " 518.8501  520.43304 520.59717 518.904   518.1564  518.9602  518.00476\n",
      " 518.6565  519.1455  518.7667  518.89624 520.7193  519.0751  519.1501\n",
      " 519.5588  518.219   519.8447  517.4355  518.0189  518.2192  519.0011\n",
      " 519.0058  519.03546]\n"
     ]
    },
    {
     "name": "stderr",
     "output_type": "stream",
     "text": [
      "layouts:   1%|          | 1/100 [00:00<00:19,  5.18it/s]"
     ]
    },
    {
     "name": "stdout",
     "output_type": "stream",
     "text": [
      "generation 1...\n"
     ]
    },
    {
     "name": "stderr",
     "output_type": "stream",
     "text": [
      "layouts: 100%|██████████| 100/100 [00:22<00:00,  4.39it/s]\n"
     ]
    },
    {
     "name": "stdout",
     "output_type": "stream",
     "text": [
      "[519.46716 520.85547 520.5524  519.7092  519.9999  520.65485 520.72833\n",
      " 520.33295 520.3924  520.36847 519.0285  516.9879  520.4283  517.97546\n",
      " 518.177   518.167   520.43097 519.0127  518.6249  519.93054 519.1533\n",
      " 519.93353 518.46405 519.21014 518.7206  517.59076 518.4467  518.6546\n",
      " 518.5185  519.07404 519.16003 519.2912  518.50134 518.1085  519.7652\n",
      " 520.15076 520.47296 519.41406 518.1124  518.3345  518.80817 517.4938\n",
      " 519.4896  518.8327  519.8278  519.37555 518.50854 519.48016 520.91345\n",
      " 518.8468  519.97235 519.0903  518.7473  519.08685 519.5462  519.6666\n",
      " 518.41833 519.8681  520.2108  519.10284 519.9906  520.3653  518.4186\n",
      " 517.521   517.3994  518.49036 519.115   516.4887  519.1994  518.9426\n",
      " 520.2626  520.381   518.9143  520.0608  518.0469  519.9343  520.30084\n",
      " 518.882   519.7958  520.504   519.5905  518.93677 519.43036 519.78516\n",
      " 518.3548  520.26013 517.0533  519.3601  518.6138  519.78564 519.435\n",
      " 518.74744 520.05475 520.04004 519.4823  518.9223  520.14435 519.31744\n",
      " 519.9856  518.385  ]\n"
     ]
    },
    {
     "name": "stderr",
     "output_type": "stream",
     "text": [
      "layouts:   0%|          | 0/100 [00:00<?, ?it/s]"
     ]
    },
    {
     "name": "stdout",
     "output_type": "stream",
     "text": [
      "generation 2...\n"
     ]
    },
    {
     "name": "stderr",
     "output_type": "stream",
     "text": [
      "layouts: 100%|██████████| 100/100 [00:26<00:00,  3.80it/s]\n"
     ]
    },
    {
     "name": "stdout",
     "output_type": "stream",
     "text": [
      "[520.0119  521.06647 519.6291  520.5886  520.7353  520.2775  520.33624\n",
      " 519.5222  520.658   520.38446 519.93097 519.39594 519.29254 520.2232\n",
      " 519.65485 520.0692  519.912   519.4403  516.5057  519.3505  519.1284\n",
      " 518.4684  519.25995 518.83057 519.78925 519.94965 519.0986  517.69525\n",
      " 519.85974 518.628   519.5145  519.1968  519.4026  517.7755  519.1495\n",
      " 517.9663  519.4306  520.13745 518.6757  520.07416 516.93604 518.7234\n",
      " 519.08984 518.3935  519.4006  519.4386  519.6064  519.4454  518.32446\n",
      " 519.54767 519.6799  519.1726  519.0038  518.3589  519.7471  519.82556\n",
      " 519.57715 517.0799  517.2199  519.3008  518.918   520.1191  517.3438\n",
      " 518.4387  519.12854 519.52783 519.4043  518.6892  518.61786 519.82153\n",
      " 519.3783  519.14355 519.9856  517.76764 517.6647  520.1404  519.59985\n",
      " 519.42175 518.65216 519.9231  520.12616 518.1312  518.2359  519.7993\n",
      " 518.962   518.1894  520.667   518.7618  519.9905  519.5646  520.2221\n",
      " 518.9863  519.7255  520.6215  519.2874  518.23676 518.8839  520.5781\n",
      " 518.81586 519.1969 ]\n"
     ]
    },
    {
     "name": "stderr",
     "output_type": "stream",
     "text": [
      "layouts:   0%|          | 0/100 [00:00<?, ?it/s]"
     ]
    },
    {
     "name": "stdout",
     "output_type": "stream",
     "text": [
      "generation 3...\n"
     ]
    },
    {
     "name": "stderr",
     "output_type": "stream",
     "text": [
      "layouts: 100%|██████████| 100/100 [00:26<00:00,  3.77it/s]\n"
     ]
    },
    {
     "name": "stdout",
     "output_type": "stream",
     "text": [
      "[519.8616  520.3282  519.34143 519.812   518.4743  519.7995  520.1762\n",
      " 520.4038  519.5347  518.4606  519.8091  518.1748  516.58563 519.0242\n",
      " 518.16754 519.0457  518.37897 517.5072  519.68646 519.67755 519.4034\n",
      " 519.10425 519.8101  519.56165 520.419   519.4729  519.0865  518.51263\n",
      " 520.3625  519.143   519.39844 520.53955 519.7713  519.2279  517.7277\n",
      " 519.83246 518.47876 520.8115  517.55023 519.6504  517.4192  518.22546\n",
      " 518.26324 517.49316 517.4209  516.9837  518.5665  518.4199  518.37415\n",
      " 519.89655 518.5669  519.0951  518.22363 518.7453  519.60974 519.8064\n",
      " 520.3388  517.68445 518.3544  519.4559  519.3678  519.08405 518.72406\n",
      " 518.9037  520.45886 517.4874  519.80505 519.61127 518.79205 519.77673\n",
      " 519.063   517.59015 519.20703 519.0901  520.1685  519.53516 519.41077\n",
      " 518.48505 519.93695 517.2017  519.1082  519.46545 520.2342  519.41064\n",
      " 518.7174  519.01575 520.1233  517.51746 520.0086  520.3968  520.5395\n",
      " 519.24774 519.7163  519.64136 519.90576 520.4802  518.8427  519.50665\n",
      " 516.078   519.494  ]\n"
     ]
    }
   ],
   "source": [
    "##### SUGGA: support vector regression guided genetic algorithm\n",
    "result_arr = np.zeros((num_runs, 2), dtype=np.float32)\n",
    "for i in range(0, num_runs):  # run times\n",
    "    print(\"run number: {} ...\".format(i))\n",
    "    wfg.load_init_pop_NA(\"{}/init_{}.dat\".format(init_pops_data_folder, i),\n",
    "                         \"{}/init_{}_NA.dat\".format(init_pops_data_folder, i))\n",
    "    run_time, eta = wfg.sugga_genetic_alg(i, result_folder=sg_result_folder)\n",
    "    result_arr[i, 0] = run_time\n",
    "    result_arr[i, 1] = eta\n",
    "time_stamp = datetime.now().strftime(\"%Y%m%d%H%M%S\")\n",
    "filename = \"{}/result_sugga_{}.dat\".format(sg_result_folder, time_stamp)\n",
    "np.savetxt(filename, result_arr, fmt='%f', delimiter=\"  \")"
   ]
  },
  {
   "cell_type": "code",
   "execution_count": null,
   "metadata": {},
   "outputs": [],
   "source": []
  },
  {
   "cell_type": "markdown",
   "metadata": {},
   "source": [
    "### Shell Power Computation Package"
   ]
  },
  {
   "cell_type": "code",
   "execution_count": 1,
   "metadata": {},
   "outputs": [],
   "source": [
    "import sys \n",
    "sys.path.append('../Shell_Code_Modified/')"
   ]
  },
  {
   "cell_type": "code",
   "execution_count": 2,
   "metadata": {},
   "outputs": [],
   "source": [
    "import Farm_Evaluator_Vec"
   ]
  },
  {
   "cell_type": "code",
   "execution_count": 3,
   "metadata": {},
   "outputs": [],
   "source": [
    "total_energy, turbine_power=Farm_Evaluator_Vec.get_AEP_results()"
   ]
  },
  {
   "cell_type": "code",
   "execution_count": 4,
   "metadata": {},
   "outputs": [
    {
     "data": {
      "text/plain": [
       "array([1.2523587, 1.1595447, 1.1450489, 1.0768385, 1.176319 , 1.1840583,\n",
       "       1.13568  , 1.079648 , 1.0935222, 1.1273198, 1.0859367, 1.167106 ,\n",
       "       1.1016386, 1.124391 , 1.1225449, 1.100678 , 1.1647563, 1.2282459,\n",
       "       1.1581823, 1.197542 , 1.2453799, 1.2442212, 1.2059841, 1.1259376,\n",
       "       1.2380294, 1.1106503, 1.1325871, 1.1829029, 1.1153044, 1.1439447,\n",
       "       1.1912581, 1.1264657, 1.1022447, 1.1789318, 1.1049944, 1.2037905,\n",
       "       1.220672 , 1.1373823, 1.2131999, 1.1142861, 1.199062 , 1.141587 ,\n",
       "       1.1335138, 1.1493688, 1.0722657, 1.0965657, 1.2305766, 1.2662541,\n",
       "       1.1084578, 1.0826805], dtype=float32)"
      ]
     },
     "execution_count": 4,
     "metadata": {},
     "output_type": "execute_result"
    }
   ],
   "source": [
    "total_energy"
   ]
  },
  {
   "cell_type": "code",
   "execution_count": 5,
   "metadata": {},
   "outputs": [
    {
     "data": {
      "text/plain": [
       "505.4506365966797"
      ]
     },
     "execution_count": 5,
     "metadata": {},
     "output_type": "execute_result"
    }
   ],
   "source": [
    "turbine_power"
   ]
  }
 ],
 "metadata": {
  "kernelspec": {
   "display_name": "python_learn",
   "language": "python",
   "name": "python_learn"
  },
  "language_info": {
   "codemirror_mode": {
    "name": "ipython",
    "version": 3
   },
   "file_extension": ".py",
   "mimetype": "text/x-python",
   "name": "python",
   "nbconvert_exporter": "python",
   "pygments_lexer": "ipython3",
   "version": "3.5.2"
  }
 },
 "nbformat": 4,
 "nbformat_minor": 4
}
