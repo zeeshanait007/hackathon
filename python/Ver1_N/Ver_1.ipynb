{
 "cells": [
  {
   "cell_type": "code",
   "execution_count": 1,
   "metadata": {},
   "outputs": [],
   "source": [
    "import numpy as np\n",
    "import numpy as np\n",
    "import pandas as pd\n",
    "#import WindFarmGenetic_v1 # wind farm layout optimization using genetic algorithms classes\n",
    "from datetime import datetime\n",
    "import os\n",
    "from sklearn.svm import SVR\n",
    "import pickle\n"
   ]
  },
  {
   "cell_type": "code",
   "execution_count": 2,
   "metadata": {},
   "outputs": [
    {
     "data": {
      "text/plain": [
       "'/home/naveen/arena/hackathon/shell/hackathon/python/Ver1_N'"
      ]
     },
     "execution_count": 2,
     "metadata": {},
     "output_type": "execute_result"
    }
   ],
   "source": [
    "import os\n",
    "os.getcwd()"
   ]
  },
  {
   "cell_type": "code",
   "execution_count": 3,
   "metadata": {},
   "outputs": [],
   "source": [
    "##\n",
    "wt_N=50  #number of turbines\n",
    "NA_loc=[]  #index of obstructed locations\n",
    "population_size=100  #population size/number of layouts for genetic algorithms\n",
    "n_mc_samples=10000 #population/layout for SVM training\n",
    "iteration_times=100  #number of iterations\n",
    "\n",
    "# wind farm size, cells\n",
    "cols_cells = 80  # number of cells each row\n",
    "rows_cells = 80  # number of cells each column\n",
    "cell_width = 50 # unit (TBD)--> have to be computed.\n",
    "constraint_dist = 400 #unit distance between two turbines\n",
    "constraint_perim = 50\n",
    "\n",
    "radius=np.ceil(constraint_dist/cell_width)\n",
    "\n",
    "#genetic algorithmic parameters.\n",
    "elite_rate = 0.2 \n",
    "cross_rate = 0.6\n",
    "mutate_rate = 0.1\n",
    "\n",
    "random_rate = 0.5\n",
    "num_runs=2 #number of independent runs with random initialization.\n"
   ]
  },
  {
   "cell_type": "code",
   "execution_count": 4,
   "metadata": {},
   "outputs": [],
   "source": [
    "perim_cells=np.ceil(constraint_perim/cell_width) #TBU generalize it for multiple boundary cells.\n",
    "NA_loc=[] \n",
    "NA_loc.extend([i for i in range(cols_cells)]) #upper row\n",
    "NA_loc.extend([i*(cols_cells) for i in range(rows_cells)]) #left boundary\n",
    "NA_loc.extend([i*(cols_cells)+cols_cells-1 for i in range(rows_cells)])#right Boundary\n",
    "NA_loc.extend([(cols_cells)*(rows_cells-1)+i for i in range(rows_cells)])#right Boundary\n"
   ]
  },
  {
   "cell_type": "code",
   "execution_count": 5,
   "metadata": {},
   "outputs": [],
   "source": [
    "data_folder = \"naveen_data\" #temporary code related files. (MOdify it as per your specification)\n",
    "svr_model_filename = 'svr_1s1d_N_13.svr' #svr training file.\n",
    "if not os.path.exists(data_folder):\n",
    "    os.makedirs(data_folder)\n",
    "\n",
    "wds_data_folder = \"{}/wds\".format(data_folder)\n",
    "if not os.path.exists(wds_data_folder):\n",
    "    os.makedirs(wds_data_folder)\n",
    "    \n",
    "# initial populations saved folder\n",
    "init_pops_data_folder = \"{}/init_data\".format(data_folder)\n",
    "if not os.path.exists(init_pops_data_folder):\n",
    "    os.makedirs(init_pops_data_folder)\n",
    "\n",
    "#result folder\n",
    "results_data_folder = data_folder+\"/results\"\n",
    "if not os.path.exists(results_data_folder):\n",
    "    os.makedirs(results_data_folder)\n",
    "    \n",
    "#result folder for sugga genetic algorithm\n",
    "sg_result_folder = \"{}/sg\".format(results_data_folder)\n",
    "if not os.path.exists(sg_result_folder):\n",
    "    os.makedirs(sg_result_folder)"
   ]
  },
  {
   "cell_type": "code",
   "execution_count": 6,
   "metadata": {},
   "outputs": [],
   "source": [
    "import WindFarmGenetic_v1 as WindFarmGenetic\n",
    "wfg = WindFarmGenetic.WindFarmGenetic(rows=rows_cells, cols=cols_cells, N=wt_N, NA_loc=NA_loc, pop_size=population_size,\n",
    "                                      iteration=iteration_times,cell_width=cell_width, elite_rate=elite_rate,\n",
    "                                             cross_rate=cross_rate, random_rate=random_rate, mutate_rate=mutate_rate,constraint_dist=constraint_dist)"
   ]
  },
  {
   "cell_type": "code",
   "execution_count": 7,
   "metadata": {},
   "outputs": [
    {
     "name": "stderr",
     "output_type": "stream",
     "text": [
      "Generation layout: 100%|██████████| 10/10 [00:10<00:00,  1.02s/it]\n",
      "Generation layout: 100%|██████████| 10/10 [00:09<00:00,  1.07it/s]\n",
      "Generation layout: 100%|██████████| 10/10 [00:07<00:00,  1.33it/s]\n",
      "Generation layout: 100%|██████████| 10/10 [00:09<00:00,  1.06it/s]\n",
      "Generation layout: 100%|██████████| 10/10 [00:08<00:00,  1.15it/s]\n",
      "Generation layout: 100%|██████████| 10/10 [00:09<00:00,  1.02it/s]\n",
      "Generation layout: 100%|██████████| 10/10 [00:09<00:00,  1.07it/s]\n",
      "Generation layout: 100%|██████████| 10/10 [00:07<00:00,  1.29it/s]\n",
      "Generation layout: 100%|██████████| 10/10 [00:08<00:00,  1.12it/s]\n",
      "Generation layout: 100%|██████████| 10/10 [00:06<00:00,  1.44it/s]\n"
     ]
    }
   ],
   "source": [
    "for i in range(num_runs):\n",
    "    wfg.gen_init_pop_NA()\n",
    "    wfg.save_init_pop_NA(\"{}/init_{}.dat\".format(init_pops_data_folder, i),\n",
    "                         \"{}/init_{}_NA.dat\".format(init_pops_data_folder, i))"
   ]
  },
  {
   "cell_type": "code",
   "execution_count": 8,
   "metadata": {},
   "outputs": [
    {
     "name": "stderr",
     "output_type": "stream",
     "text": [
      "Generation layout: 100%|██████████| 100/100 [00:35<00:00,  2.81it/s]\n"
     ]
    }
   ],
   "source": [
    "##Generate initial layouts: single layout--> 1d array of size row*col, layouts are set of num_training_sample_SVM different(random) layouts.  \n",
    "train_mc_layouts, train_mc_layouts_NA = WindFarmGenetic.LayoutGridMCGenerator.gen_mc_grid_with_NA_loc_circle(rows_cells,\n",
    "                                                                                                      cols_cells,\n",
    "                                                                                                      n_mc_samples,\n",
    "                                                                                                      wt_N, NA_loc,radius,\n",
    "                                                                                                      \"{}/mc_layout.dat\".format(wds_data_folder),\n",
    "                                                                                                      \"{}/mc_layout_NA.dat\".format(wds_data_folder))\n",
    "\n",
    "layouts = np.genfromtxt(\"{}/mc_layout.dat\".format(wds_data_folder), delimiter=\"  \", dtype=np.int32)"
   ]
  },
  {
   "cell_type": "code",
   "execution_count": 9,
   "metadata": {},
   "outputs": [
    {
     "name": "stderr",
     "output_type": "stream",
     "text": [
      "layouts: 100%|██████████| 100/100 [00:23<00:00,  4.30it/s]\n"
     ]
    }
   ],
   "source": [
    "\n",
    "wfg.mc_gen_xy_NA_hackathon(rows=rows_cells, cols=cols_cells, layouts=layouts, n=n_mc_samples, N=wt_N,  xfname=\"{}/x.dat\".format(wds_data_folder),\n",
    "                 yfname=\"{}/y.dat\".format(wds_data_folder))"
   ]
  },
  {
   "cell_type": "code",
   "execution_count": 9,
   "metadata": {},
   "outputs": [],
   "source": [
    "x_original = pd.read_csv(\"{}/x.dat\".format(wds_data_folder), header=None, nrows=rows_cells * cols_cells,\n",
    "                         delim_whitespace=True, dtype=np.float32)\n",
    "x_original = x_original.values"
   ]
  },
  {
   "cell_type": "code",
   "execution_count": 10,
   "metadata": {},
   "outputs": [],
   "source": [
    "y_original = pd.read_csv(\"{}/y.dat\".format(wds_data_folder), header=None, nrows=rows_cells * cols_cells,\n",
    "                         delim_whitespace=True, dtype=np.float32)\n",
    "y_original = y_original.values.flatten()"
   ]
  },
  {
   "cell_type": "code",
   "execution_count": 18,
   "metadata": {},
   "outputs": [
    {
     "data": {
      "text/plain": [
       "array([0., 0., 0., ..., 0., 0., 0.], dtype=float32)"
      ]
     },
     "execution_count": 18,
     "metadata": {},
     "output_type": "execute_result"
    }
   ],
   "source": [
    "y_original"
   ]
  },
  {
   "cell_type": "code",
   "execution_count": 11,
   "metadata": {},
   "outputs": [
    {
     "name": "stdout",
     "output_type": "stream",
     "text": [
      "(6400, 2)\n",
      "(6400,)\n"
     ]
    }
   ],
   "source": [
    "print(x_original.shape)\n",
    "print(y_original.shape)"
   ]
  },
  {
   "cell_type": "code",
   "execution_count": 12,
   "metadata": {},
   "outputs": [],
   "source": [
    "# create a SVR object and specify the kernal and other parameters\n",
    "svr_model = SVR(kernel='rbf', C=1.0, gamma=0.3, epsilon=.1)\n",
    "# build the SVR power distribution model\n",
    "svr_model.fit(x_original, y_original)\n",
    "\n",
    "# save the SVR model to a file\n",
    "pickle.dump(svr_model, open(\"{}/{}\".format(wds_data_folder, svr_model_filename), 'wb'))"
   ]
  },
  {
   "cell_type": "code",
   "execution_count": 17,
   "metadata": {},
   "outputs": [
    {
     "data": {
      "text/plain": [
       "5709"
      ]
     },
     "execution_count": 17,
     "metadata": {},
     "output_type": "execute_result"
    }
   ],
   "source": [
    "len(svr_model.support_vectors_)"
   ]
  },
  {
   "cell_type": "code",
   "execution_count": null,
   "metadata": {},
   "outputs": [],
   "source": [
    "del x_original\n",
    "del y_original"
   ]
  },
  {
   "cell_type": "code",
   "execution_count": 7,
   "metadata": {},
   "outputs": [],
   "source": [
    "svr_model=pickle.load(open(\"{}/{}\".format(wds_data_folder, svr_model_filename), 'rb'))"
   ]
  },
  {
   "cell_type": "code",
   "execution_count": 19,
   "metadata": {},
   "outputs": [
    {
     "name": "stdout",
     "output_type": "stream",
     "text": [
      "run number: 0 ...\n"
     ]
    },
    {
     "name": "stderr",
     "output_type": "stream",
     "text": [
      "layouts:   0%|          | 0/10 [00:00<?, ?it/s]"
     ]
    },
    {
     "name": "stdout",
     "output_type": "stream",
     "text": [
      "Support vector regression guided genetic algorithm starts....\n",
      "generation 0...\n"
     ]
    },
    {
     "name": "stderr",
     "output_type": "stream",
     "text": [
      "layouts: 100%|██████████| 10/10 [00:03<00:00,  3.30it/s]\n"
     ]
    },
    {
     "name": "stdout",
     "output_type": "stream",
     "text": [
      "[513.0141  512.8949  513.5583  514.7492  510.76782 512.9406  510.49908\n",
      " 511.83102 513.9224  512.27686]\n"
     ]
    },
    {
     "name": "stderr",
     "output_type": "stream",
     "text": [
      "layouts:   0%|          | 0/10 [00:00<?, ?it/s]"
     ]
    },
    {
     "name": "stdout",
     "output_type": "stream",
     "text": [
      "generation 1...\n"
     ]
    },
    {
     "name": "stderr",
     "output_type": "stream",
     "text": [
      "layouts: 100%|██████████| 10/10 [00:03<00:00,  3.31it/s]\n"
     ]
    },
    {
     "name": "stdout",
     "output_type": "stream",
     "text": [
      "[510.40082 513.9149  513.1614  513.36926 514.41656 514.8648  514.53326\n",
      " 514.6173  513.59705 512.14246]\n"
     ]
    },
    {
     "name": "stderr",
     "output_type": "stream",
     "text": [
      "layouts:   0%|          | 0/10 [00:00<?, ?it/s]"
     ]
    },
    {
     "name": "stdout",
     "output_type": "stream",
     "text": [
      "generation 2...\n"
     ]
    },
    {
     "name": "stderr",
     "output_type": "stream",
     "text": [
      "layouts: 100%|██████████| 10/10 [00:03<00:00,  3.21it/s]\n"
     ]
    },
    {
     "name": "stdout",
     "output_type": "stream",
     "text": [
      "[512.42126 514.67194 513.44165 514.8477  512.3265  515.256   514.27716\n",
      " 511.04037 513.4145  515.7313 ]\n"
     ]
    },
    {
     "name": "stderr",
     "output_type": "stream",
     "text": [
      "layouts:   0%|          | 0/10 [00:00<?, ?it/s]"
     ]
    },
    {
     "name": "stdout",
     "output_type": "stream",
     "text": [
      "generation 3...\n"
     ]
    },
    {
     "name": "stderr",
     "output_type": "stream",
     "text": [
      "layouts: 100%|██████████| 10/10 [00:03<00:00,  2.99it/s]\n"
     ]
    },
    {
     "name": "stdout",
     "output_type": "stream",
     "text": [
      "[512.7754  514.5266  514.13104 513.3731  513.74615 511.71954 514.88855\n",
      " 511.13562 515.2323  511.54785]\n"
     ]
    },
    {
     "name": "stderr",
     "output_type": "stream",
     "text": [
      "layouts:   0%|          | 0/10 [00:00<?, ?it/s]"
     ]
    },
    {
     "name": "stdout",
     "output_type": "stream",
     "text": [
      "generation 4...\n"
     ]
    },
    {
     "name": "stderr",
     "output_type": "stream",
     "text": [
      "layouts: 100%|██████████| 10/10 [00:03<00:00,  2.84it/s]\n"
     ]
    },
    {
     "name": "stdout",
     "output_type": "stream",
     "text": [
      "[511.44574 516.0877  511.31577 515.55035 513.9625  512.0811  513.9897\n",
      " 512.27924 512.14197 512.615  ]\n"
     ]
    },
    {
     "name": "stderr",
     "output_type": "stream",
     "text": [
      "layouts:   0%|          | 0/10 [00:00<?, ?it/s]"
     ]
    },
    {
     "name": "stdout",
     "output_type": "stream",
     "text": [
      "generation 5...\n"
     ]
    },
    {
     "name": "stderr",
     "output_type": "stream",
     "text": [
      "layouts: 100%|██████████| 10/10 [00:04<00:00,  2.45it/s]\n"
     ]
    },
    {
     "name": "stdout",
     "output_type": "stream",
     "text": [
      "[516.3706  514.81647 516.3097  511.40878 512.8619  511.67453 512.0054\n",
      " 515.2821  516.74567 511.33328]\n"
     ]
    },
    {
     "name": "stderr",
     "output_type": "stream",
     "text": [
      "layouts:   0%|          | 0/10 [00:00<?, ?it/s]"
     ]
    },
    {
     "name": "stdout",
     "output_type": "stream",
     "text": [
      "generation 6...\n"
     ]
    },
    {
     "name": "stderr",
     "output_type": "stream",
     "text": [
      "layouts: 100%|██████████| 10/10 [00:03<00:00,  2.82it/s]\n"
     ]
    },
    {
     "name": "stdout",
     "output_type": "stream",
     "text": [
      "[517.4909  512.2445  514.693   511.70056 516.72095 513.924   511.04822\n",
      " 512.658   516.82745 516.2315 ]\n"
     ]
    },
    {
     "name": "stderr",
     "output_type": "stream",
     "text": [
      "layouts:   0%|          | 0/10 [00:00<?, ?it/s]"
     ]
    },
    {
     "name": "stdout",
     "output_type": "stream",
     "text": [
      "generation 7...\n"
     ]
    },
    {
     "name": "stderr",
     "output_type": "stream",
     "text": [
      "layouts: 100%|██████████| 10/10 [00:03<00:00,  2.81it/s]\n"
     ]
    },
    {
     "name": "stdout",
     "output_type": "stream",
     "text": [
      "[513.6741  514.97687 516.284   517.14185 514.49457 514.5788  517.673\n",
      " 510.53397 512.01385 516.528  ]\n"
     ]
    },
    {
     "name": "stderr",
     "output_type": "stream",
     "text": [
      "layouts:   0%|          | 0/10 [00:00<?, ?it/s]"
     ]
    },
    {
     "name": "stdout",
     "output_type": "stream",
     "text": [
      "generation 8...\n"
     ]
    },
    {
     "name": "stderr",
     "output_type": "stream",
     "text": [
      "layouts: 100%|██████████| 10/10 [00:03<00:00,  2.95it/s]\n"
     ]
    },
    {
     "name": "stdout",
     "output_type": "stream",
     "text": [
      "[514.8511 511.7475 517.635  517.4618 513.6899 514.5476 517.4321 513.179\n",
      " 515.4817 512.4398]\n"
     ]
    },
    {
     "name": "stderr",
     "output_type": "stream",
     "text": [
      "layouts:   0%|          | 0/10 [00:00<?, ?it/s]"
     ]
    },
    {
     "name": "stdout",
     "output_type": "stream",
     "text": [
      "generation 9...\n"
     ]
    },
    {
     "name": "stderr",
     "output_type": "stream",
     "text": [
      "layouts: 100%|██████████| 10/10 [00:03<00:00,  3.01it/s]\n"
     ]
    },
    {
     "name": "stdout",
     "output_type": "stream",
     "text": [
      "[512.8052  516.9587  513.78864 513.7143  514.88696 517.0371  516.78937\n",
      " 516.0487  515.5025  514.79407]\n"
     ]
    },
    {
     "name": "stderr",
     "output_type": "stream",
     "text": [
      "layouts:   0%|          | 0/10 [00:00<?, ?it/s]"
     ]
    },
    {
     "name": "stdout",
     "output_type": "stream",
     "text": [
      "generation 10...\n"
     ]
    },
    {
     "name": "stderr",
     "output_type": "stream",
     "text": [
      "layouts: 100%|██████████| 10/10 [00:03<00:00,  3.11it/s]\n"
     ]
    },
    {
     "name": "stdout",
     "output_type": "stream",
     "text": [
      "[514.01794 515.284   516.79205 516.99524 515.59454 515.4765  514.9277\n",
      " 514.9772  515.7269  514.9612 ]\n"
     ]
    },
    {
     "name": "stderr",
     "output_type": "stream",
     "text": [
      "layouts:   0%|          | 0/10 [00:00<?, ?it/s]"
     ]
    },
    {
     "name": "stdout",
     "output_type": "stream",
     "text": [
      "generation 11...\n"
     ]
    },
    {
     "name": "stderr",
     "output_type": "stream",
     "text": [
      "layouts:  60%|██████    | 6/10 [00:02<00:01,  2.85it/s]\n"
     ]
    },
    {
     "ename": "KeyboardInterrupt",
     "evalue": "",
     "output_type": "error",
     "traceback": [
      "\u001b[0;31m---------------------------------------------------------------------------\u001b[0m",
      "\u001b[0;31mKeyboardInterrupt\u001b[0m                         Traceback (most recent call last)",
      "\u001b[0;32m<ipython-input-19-76ccff25a7e9>\u001b[0m in \u001b[0;36m<module>\u001b[0;34m\u001b[0m\n\u001b[1;32m      5\u001b[0m     wfg.load_init_pop_NA(\"{}/init_{}.dat\".format(init_pops_data_folder, i),\n\u001b[1;32m      6\u001b[0m                          \"{}/init_{}_NA.dat\".format(init_pops_data_folder, i))\n\u001b[0;32m----> 7\u001b[0;31m     \u001b[0mrun_time\u001b[0m\u001b[0;34m,\u001b[0m \u001b[0meta\u001b[0m \u001b[0;34m=\u001b[0m \u001b[0mwfg\u001b[0m\u001b[0;34m.\u001b[0m\u001b[0msugga_genetic_alg\u001b[0m\u001b[0;34m(\u001b[0m\u001b[0mi\u001b[0m\u001b[0;34m,\u001b[0m \u001b[0msvr_model\u001b[0m\u001b[0;34m=\u001b[0m\u001b[0msvr_model\u001b[0m\u001b[0;34m,\u001b[0m \u001b[0mresult_folder\u001b[0m\u001b[0;34m=\u001b[0m\u001b[0msg_result_folder\u001b[0m\u001b[0;34m)\u001b[0m\u001b[0;34m\u001b[0m\u001b[0m\n\u001b[0m\u001b[1;32m      8\u001b[0m     \u001b[0mresult_arr\u001b[0m\u001b[0;34m[\u001b[0m\u001b[0mi\u001b[0m\u001b[0;34m,\u001b[0m \u001b[0;36m0\u001b[0m\u001b[0;34m]\u001b[0m \u001b[0;34m=\u001b[0m \u001b[0mrun_time\u001b[0m\u001b[0;34m\u001b[0m\u001b[0m\n\u001b[1;32m      9\u001b[0m     \u001b[0mresult_arr\u001b[0m\u001b[0;34m[\u001b[0m\u001b[0mi\u001b[0m\u001b[0;34m,\u001b[0m \u001b[0;36m1\u001b[0m\u001b[0;34m]\u001b[0m \u001b[0;34m=\u001b[0m \u001b[0meta\u001b[0m\u001b[0;34m\u001b[0m\u001b[0m\n",
      "\u001b[0;32m~/arena/hackathon/shell/hackathon/python/Ver1_N/WindFarmGenetic_v1.py\u001b[0m in \u001b[0;36msugga_genetic_alg\u001b[0;34m(self, ind_time, svr_model, result_folder)\u001b[0m\n\u001b[1;32m    368\u001b[0m             fitness_value = self.mc_fitness_hackathon(pop=pop, rows=self.rows, cols=self.cols, pop_size=self.pop_size,\n\u001b[1;32m    369\u001b[0m                                                         \u001b[0mN\u001b[0m\u001b[0;34m=\u001b[0m\u001b[0mself\u001b[0m\u001b[0;34m.\u001b[0m\u001b[0mN\u001b[0m\u001b[0;34m,\u001b[0m\u001b[0;34m\u001b[0m\u001b[0m\n\u001b[0;32m--> 370\u001b[0;31m                                                         ordered_ind=power_order)\n\u001b[0m\u001b[1;32m    371\u001b[0m             \u001b[0mprint\u001b[0m\u001b[0;34m(\u001b[0m\u001b[0mfitness_value\u001b[0m\u001b[0;34m)\u001b[0m\u001b[0;34m\u001b[0m\u001b[0m\n\u001b[1;32m    372\u001b[0m             \u001b[0msorted_index\u001b[0m \u001b[0;34m=\u001b[0m \u001b[0mnp\u001b[0m\u001b[0;34m.\u001b[0m\u001b[0margsort\u001b[0m\u001b[0;34m(\u001b[0m\u001b[0;34m-\u001b[0m\u001b[0mfitness_value\u001b[0m\u001b[0;34m)\u001b[0m  \u001b[0;31m# fitness value descending from largest to least\u001b[0m\u001b[0;34m\u001b[0m\u001b[0m\n",
      "\u001b[0;32m~/arena/hackathon/shell/hackathon/python/Ver1_N/WindFarmGenetic_v1.py\u001b[0m in \u001b[0;36mmc_fitness_hackathon\u001b[0;34m(self, pop, rows, cols, pop_size, N, lp, ordered_ind)\u001b[0m\n\u001b[1;32m    138\u001b[0m                     \u001b[0mind_pos\u001b[0m \u001b[0;34m+=\u001b[0m \u001b[0;36m1\u001b[0m\u001b[0;34m\u001b[0m\u001b[0m\n\u001b[1;32m    139\u001b[0m \u001b[0;31m#             print(xy_position)\u001b[0m\u001b[0;34m\u001b[0m\u001b[0;34m\u001b[0m\u001b[0m\n\u001b[0;32m--> 140\u001b[0;31m             \u001b[0mtotal_energy\u001b[0m\u001b[0;34m,\u001b[0m\u001b[0mlp_power_accum\u001b[0m\u001b[0;34m=\u001b[0m\u001b[0mFarm_Evaluator_Vec\u001b[0m\u001b[0;34m.\u001b[0m\u001b[0mget_AEP_results\u001b[0m\u001b[0;34m(\u001b[0m\u001b[0mturb_coords\u001b[0m\u001b[0;34m=\u001b[0m\u001b[0mxy_position\u001b[0m\u001b[0;34m)\u001b[0m\u001b[0;34m\u001b[0m\u001b[0m\n\u001b[0m\u001b[1;32m    141\u001b[0m             \u001b[0;32mif\u001b[0m \u001b[0mlp\u001b[0m \u001b[0;32mis\u001b[0m \u001b[0;32mnot\u001b[0m \u001b[0;32mNone\u001b[0m\u001b[0;34m:\u001b[0m\u001b[0;34m\u001b[0m\u001b[0m\n\u001b[1;32m    142\u001b[0m                 \u001b[0mlp\u001b[0m\u001b[0;34m[\u001b[0m\u001b[0mi\u001b[0m\u001b[0;34m,\u001b[0m \u001b[0mind_position\u001b[0m\u001b[0;34m]\u001b[0m \u001b[0;34m=\u001b[0m \u001b[0mlp_power_accum\u001b[0m\u001b[0;34m\u001b[0m\u001b[0m\n",
      "\u001b[0;32m~/arena/hackathon/shell/hackathon/python/Shell_Code_Modified/Farm_Evaluator_Vec.py\u001b[0m in \u001b[0;36mget_AEP_results\u001b[0;34m(default_location, turb_coords)\u001b[0m\n\u001b[1;32m    485\u001b[0m     \u001b[0;31m# Pass wind data csv file location to function binWindResourceData.\u001b[0m\u001b[0;34m\u001b[0m\u001b[0;34m\u001b[0m\u001b[0m\n\u001b[1;32m    486\u001b[0m     \u001b[0;31m# Retrieve probabilities of wind instance occurence.\u001b[0m\u001b[0;34m\u001b[0m\u001b[0;34m\u001b[0m\u001b[0m\n\u001b[0;32m--> 487\u001b[0;31m     \u001b[0mwind_inst_freq\u001b[0m \u001b[0;34m=\u001b[0m  \u001b[0mbinWindResourceData\u001b[0m\u001b[0;34m(\u001b[0m\u001b[0mdefault_location\u001b[0m\u001b[0;34m+\u001b[0m\u001b[0;34m'Wind_Data/wind_data_2007.csv'\u001b[0m\u001b[0;34m)\u001b[0m\u001b[0;34m\u001b[0m\u001b[0m\n\u001b[0m\u001b[1;32m    488\u001b[0m \u001b[0;34m\u001b[0m\u001b[0m\n\u001b[1;32m    489\u001b[0m     \u001b[0;31m# Doing preprocessing to avoid the same repeating calculations. Record\u001b[0m\u001b[0;34m\u001b[0m\u001b[0;34m\u001b[0m\u001b[0m\n",
      "\u001b[0;32m~/arena/hackathon/shell/hackathon/python/Shell_Code_Modified/Farm_Evaluator_Vec.py\u001b[0m in \u001b[0;36mbinWindResourceData\u001b[0;34m(wind_data_file_name)\u001b[0m\n\u001b[1;32m    175\u001b[0m \u001b[0;34m\u001b[0m\u001b[0m\n\u001b[1;32m    176\u001b[0m             \u001b[0;31m# because we already have drct in the multiples of 10\u001b[0m\u001b[0;34m\u001b[0m\u001b[0;34m\u001b[0m\u001b[0m\n\u001b[0;32m--> 177\u001b[0;31m             \u001b[0mfoo\u001b[0m \u001b[0;34m=\u001b[0m \u001b[0mwind_resource\u001b[0m\u001b[0;34m[\u001b[0m\u001b[0;34m(\u001b[0m\u001b[0mwind_resource\u001b[0m\u001b[0;34m[\u001b[0m\u001b[0;34m:\u001b[0m\u001b[0;34m,\u001b[0m\u001b[0;36m0\u001b[0m\u001b[0;34m]\u001b[0m \u001b[0;34m==\u001b[0m \u001b[0mslices_drct\u001b[0m\u001b[0;34m[\u001b[0m\u001b[0mi\u001b[0m\u001b[0;34m]\u001b[0m\u001b[0;34m)\u001b[0m\u001b[0;34m]\u001b[0m\u001b[0;34m\u001b[0m\u001b[0m\n\u001b[0m\u001b[1;32m    178\u001b[0m \u001b[0;34m\u001b[0m\u001b[0m\n\u001b[1;32m    179\u001b[0m             foo = foo[(foo[:,1] >= slices_sped[j]) \n",
      "\u001b[0;31mKeyboardInterrupt\u001b[0m: "
     ]
    }
   ],
   "source": [
    "##### SUGGA: support vector regression guided genetic algorithm\n",
    "result_arr = np.zeros((num_runs, 2), dtype=np.float32)\n",
    "for i in range(0, num_runs):  # run times\n",
    "    print(\"run number: {} ...\".format(i))\n",
    "    wfg.load_init_pop_NA(\"{}/init_{}.dat\".format(init_pops_data_folder, i),\n",
    "                         \"{}/init_{}_NA.dat\".format(init_pops_data_folder, i))\n",
    "    run_time, eta = wfg.sugga_genetic_alg(i, svr_model=svr_model, result_folder=sg_result_folder)\n",
    "    result_arr[i, 0] = run_time\n",
    "    result_arr[i, 1] = eta\n",
    "time_stamp = datetime.now().strftime(\"%Y%m%d%H%M%S\")\n",
    "filename = \"{}/result_sugga_{}.dat\".format(sg_result_folder, time_stamp)\n",
    "np.savetxt(filename, result_arr, fmt='%f', delimiter=\"  \")"
   ]
  },
  {
   "cell_type": "markdown",
   "metadata": {
    "jupyter": {
     "source_hidden": true
    }
   },
   "source": [
    "### Shell Power Computation Package"
   ]
  },
  {
   "cell_type": "code",
   "execution_count": 1,
   "metadata": {},
   "outputs": [],
   "source": [
    "import sys \n",
    "sys.path.append('../Shell_Code_Modified/')"
   ]
  },
  {
   "cell_type": "code",
   "execution_count": 2,
   "metadata": {},
   "outputs": [],
   "source": [
    "import Farm_Evaluator_Vec"
   ]
  },
  {
   "cell_type": "code",
   "execution_count": 3,
   "metadata": {},
   "outputs": [],
   "source": [
    "total_energy, turbine_power=Farm_Evaluator_Vec.get_AEP_results()"
   ]
  },
  {
   "cell_type": "code",
   "execution_count": 4,
   "metadata": {},
   "outputs": [
    {
     "data": {
      "text/plain": [
       "array([1.2523587, 1.1595447, 1.1450489, 1.0768385, 1.176319 , 1.1840583,\n",
       "       1.13568  , 1.079648 , 1.0935222, 1.1273198, 1.0859367, 1.167106 ,\n",
       "       1.1016386, 1.124391 , 1.1225449, 1.100678 , 1.1647563, 1.2282459,\n",
       "       1.1581823, 1.197542 , 1.2453799, 1.2442212, 1.2059841, 1.1259376,\n",
       "       1.2380294, 1.1106503, 1.1325871, 1.1829029, 1.1153044, 1.1439447,\n",
       "       1.1912581, 1.1264657, 1.1022447, 1.1789318, 1.1049944, 1.2037905,\n",
       "       1.220672 , 1.1373823, 1.2131999, 1.1142861, 1.199062 , 1.141587 ,\n",
       "       1.1335138, 1.1493688, 1.0722657, 1.0965657, 1.2305766, 1.2662541,\n",
       "       1.1084578, 1.0826805], dtype=float32)"
      ]
     },
     "execution_count": 4,
     "metadata": {},
     "output_type": "execute_result"
    }
   ],
   "source": [
    "total_energy"
   ]
  },
  {
   "cell_type": "code",
   "execution_count": 5,
   "metadata": {},
   "outputs": [
    {
     "data": {
      "text/plain": [
       "505.4506365966797"
      ]
     },
     "execution_count": 5,
     "metadata": {},
     "output_type": "execute_result"
    }
   ],
   "source": [
    "turbine_power"
   ]
  }
 ],
 "metadata": {
  "kernelspec": {
   "display_name": "python_learn",
   "language": "python",
   "name": "python_learn"
  },
  "language_info": {
   "codemirror_mode": {
    "name": "ipython",
    "version": 3
   },
   "file_extension": ".py",
   "mimetype": "text/x-python",
   "name": "python",
   "nbconvert_exporter": "python",
   "pygments_lexer": "ipython3",
   "version": "3.5.2"
  }
 },
 "nbformat": 4,
 "nbformat_minor": 4
}
